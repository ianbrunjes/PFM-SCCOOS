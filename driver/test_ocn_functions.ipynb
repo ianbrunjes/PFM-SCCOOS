{
 "cells": [
  {
   "cell_type": "code",
   "execution_count": null,
   "metadata": {},
   "outputs": [],
   "source": [
    "# scratch code to get ocn forcing .nc files\n",
    "\n",
    "from datetime import datetime\n",
    "\n",
    "import sys\n",
    "import cartopy.crs as ccrs\n",
    "import cartopy.feature as cfeature\n",
    "import matplotlib.pyplot as plt\n",
    "import numpy as np\n",
    "import scipy.ndimage as ndimage\n",
    "import xarray as xr\n",
    "import netCDF4 as nc\n",
    "from scipy.interpolate import RegularGridInterpolator\n"
   ]
  }
 ],
 "metadata": {
  "kernelspec": {
   "display_name": "base",
   "language": "python",
   "name": "python3"
  },
  "language_info": {
   "name": "python",
   "version": "3.11.8"
  }
 },
 "nbformat": 4,
 "nbformat_minor": 2
}
