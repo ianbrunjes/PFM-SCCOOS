{
 "cells": [
  {
   "cell_type": "code",
   "execution_count": 1,
   "metadata": {},
   "outputs": [
    {
     "name": "stdout",
     "output_type": "stream",
     "text": [
      "get_PFM_info(): running onswell\n",
      "ocean boundary and initial conditions will be from:\n",
      "hycom\n",
      "atm forcing will be from:\n",
      "nam_nest\n",
      "Starting: driver_run_forecast_LV1: Current local Time = 2024-08-08 15:41:24.498284 UTC =  2024-08-08 22:41:24.498307+00:00\n",
      "Preparing forecast starting on  20240804\n"
     ]
    },
    {
     "name": "stderr",
     "output_type": "stream",
     "text": [
      "/home/mspydell/models/PFM_root/PFM/driver/../sdpm_py_util/ocn_functions.py:25: UserWarning: The seawater library is deprecated! Please use gsw instead.\n",
      "  import seawater\n"
     ]
    }
   ],
   "source": [
    "# -- driver_run_forecast_LV1.py  --\n",
    "# master python script to do a full LV1 forecast simulation\n",
    "\n",
    "import sys\n",
    "import pickle\n",
    "#import matplotlib.pyplot as plt\n",
    "import numpy as np\n",
    "import os\n",
    "from datetime import datetime, timezone\n",
    "import gc\n",
    "import resource\n",
    "import subprocess\n",
    "#import xarray as xr\n",
    "#import netCDF4 as nc\n",
    "\n",
    "##############\n",
    "\n",
    "sys.path.append('../sdpm_py_util')\n",
    "\n",
    "import atm_functions as atmfuns\n",
    "import ocn_functions as ocnfuns\n",
    "import grid_functions as grdfuns\n",
    "import util_functions as utlfuns \n",
    "import plotting_functions as pltfuns\n",
    "from util_functions import s_coordinate_4\n",
    "from get_PFM_info import get_PFM_info\n",
    "from make_LV1_dotin_and_SLURM import make_LV1_dotin_and_SLURM\n",
    "from run_slurm_LV1 import run_slurm_LV1\n",
    "\n",
    "\n",
    "PFM=get_PFM_info()\n",
    "\n",
    "run_type = 'forecast'\n",
    "# we will use hycom for IC and BC\n",
    "ocn_mod = PFM['ocn_model']\n",
    "print('ocean boundary and initial conditions will be from:')\n",
    "print(ocn_mod)\n",
    "# we will use nam_nest for the atm forcing\n",
    "atm_mod = PFM['atm_model']\n",
    "print('atm forcing will be from:')\n",
    "print(atm_mod)\n",
    "# we will use opendap, and netcdf to grab ocn, and atm data\n",
    "get_method = 'open_dap_nc'\n",
    "# figure out what the time is local and UTC\n",
    "start_time = datetime.now()\n",
    "utc_time = datetime.now(timezone.utc)\n",
    "year_utc = utc_time.year\n",
    "month_utc = utc_time.month\n",
    "day_utc = utc_time.day\n",
    "hour_utc = utc_time.hour\n",
    "\n",
    "print(\"Starting: driver_run_forecast_LV1: Current local Time =\", start_time, \"UTC = \",utc_time)\n",
    "\n",
    "if hour_utc < 12:\n",
    "    hour_utc=12\n",
    "    day_utc=day_utc-1  # this only works if day_utc \\neq 1\n",
    "\n",
    "yyyymmdd = \"%d%02d%02d\" % (year_utc, month_utc, day_utc)\n",
    "    \n",
    "#yyyymmdd = '20240717'\n",
    "# the hour in Z of the forecast, hycom has forecasts once per day starting at 1200Z\n",
    "hhmm='1200'\n",
    "forecastZdatestr = yyyymmdd+hhmm+'Z'   # this could be used for model output to indicate when model was initialized.\n",
    "\n",
    "yyyymmdd = '20240804'\n",
    "print(\"Preparing forecast starting on \",yyyymmdd)\n",
    "\n",
    "\n",
    "# get the ROMS grid as a dict\n",
    "RMG = grdfuns.roms_grid_to_dict(PFM['lv1_grid_file'])\n"
   ]
  },
  {
   "cell_type": "code",
   "execution_count": 2,
   "metadata": {},
   "outputs": [
    {
     "name": "stdout",
     "output_type": "stream",
     "text": [
      "before getting OCN, using:\n",
      "265704\n",
      "kilobytes\n",
      "going to use subprocess, and save a pickle file.\n"
     ]
    },
    {
     "name": "stderr",
     "output_type": "stream",
     "text": [
      "/home/mspydell/models/PFM_root/PFM/sdpm_py_util/ocn_functions.py:25: UserWarning: The seawater library is deprecated! Please use gsw instead.\n",
      "  import seawater\n"
     ]
    },
    {
     "name": "stdout",
     "output_type": "stream",
     "text": [
      "get_PFM_info(): running onswell\n",
      "in the parallel ncks switch\n",
      "Time to get full file using parallel ncks = 42.74 sec\n",
      "Return code = 0 (0=success, 1=skipped ncks)\n",
      "Hycom OCN dict saved with pickle\n",
      "hycom data saved with pickle, correctly?\n",
      "CompletedProcess(args=['python', 'ocn_functions.py', 'get_ocn_data_as_dict_pckl', '20240804', 'forecast', 'hycom', 'ncks_para'], returncode=0)\n",
      "0=yes,1=no\n"
     ]
    }
   ],
   "source": [
    "print('before getting OCN, using:')\n",
    "print(resource.getrusage(resource.RUSAGE_SELF).ru_maxrss)\n",
    "print('kilobytes')\n",
    "\n",
    "use_ncks = 1 # flag to get data using ncks. if =0, then a pre saved pickle file is loaded.\n",
    "use_pckl_sav = 1\n",
    "if use_ncks == 1:\n",
    "    if use_pckl_sav == 0: # the original way that breaks when going to OCN_R\n",
    "        OCN = ocnfuns.get_ocn_data_as_dict(yyyymmdd,run_type,ocn_mod,'ncks_para')\n",
    "        print('driver_run_forecast_LV1: done with get_ocn_data_as_dict: Current time ',datetime.now() )\n",
    "        print('after getting OCN with ncks_para, using:')\n",
    "        print(resource.getrusage(resource.RUSAGE_SELF).ru_maxrss)\n",
    "        print('kilobytes')\n",
    "    else:\n",
    "        print('going to use subprocess, and save a pickle file.')\n",
    "        fn_pckl = PFM['lv1_forc_dir'] + '/' + PFM['lv1_ocn_tmp_pckl_file']\n",
    "        os.chdir('../sdpm_py_util')\n",
    "        cmd_list = ['python','ocn_functions.py','get_ocn_data_as_dict_pckl',yyyymmdd,run_type,ocn_mod,'ncks_para']\n",
    "        ret1 = subprocess.run(cmd_list)     \n",
    "        os.chdir('../driver')\n",
    "        print('hycom data saved with pickle, correctly?')\n",
    "        print(ret1)\n",
    "        print('0=yes,1=no')\n",
    "\n",
    "        #with open(fn_pckl,'rb') as fp:\n",
    "        #    OCN = pickle.load(fp)\n",
    "        #    print('OCN dict now loaded with pickle')\n",
    "        #    print('after getting OCN from file, using:')\n",
    "        #    print(resource.getrusage(resource.RUSAGE_SELF).ru_maxrss)\n",
    "        #    print('kilobytes')\n",
    "\n",
    "else:\n",
    "    save_ocn = 0 # if 0, this loads the pickle file. if 1, it saves the pickle file\n",
    "    import pickle\n",
    "    # save the OCN dict so that we can restart the python session\n",
    "    # and not have to worry about opendap timing out\n",
    "    fnout='/scratch/PFM_Simulations/LV1_Forecast/Forc/ocn_dict_file_2024-07-29T12:00.pkl'\n",
    "    if save_ocn == 1:\n",
    "        with open(fnout,'wb') as fp:\n",
    "            pickle.dump(OCN,fp)\n",
    "            print('OCN dict saved with pickle')\n",
    "    else:\n",
    "        fn_pckl = PFM['lv1_forc_dir'] + '/' + PFM['lv1_ocn_tmp_pckl_file']\n",
    "        with open(fn_pckl,'rb') as fp:\n",
    "            #OCN = pickle.load(fp)\n",
    "            print('OCN dict loaded with pickle')\n",
    "            print('after getting OCN from file, using:')\n",
    "            print(resource.getrusage(resource.RUSAGE_SELF).ru_maxrss)\n",
    "            print('kilobytes')\n",
    "\n"
   ]
  },
  {
   "cell_type": "code",
   "execution_count": 3,
   "metadata": {},
   "outputs": [
    {
     "name": "stdout",
     "output_type": "stream",
     "text": [
      "get_PFM_info(): running onswell\n",
      "/scratch/PFM_Simulations/LV1_Forecast/Forc/hycom_tmp_pckl_file.pkl\n",
      "OCN dict loaded with pickle\n"
     ]
    }
   ],
   "source": [
    "## plot OCN\n",
    "plot_ocn = 1\n",
    "if plot_ocn ==1:\n",
    "    pltfuns.plot_ocn_fields_from_dict_pckl(fn_pckl)\n"
   ]
  },
  {
   "cell_type": "code",
   "execution_count": 4,
   "metadata": {},
   "outputs": [
    {
     "name": "stdout",
     "output_type": "stream",
     "text": [
      "before gc.collect and getting OCN_R, using:\n",
      "794392\n",
      "kilobytes\n",
      "after gc.collect and before OCN_R, using:\n",
      "794392\n",
      "kilobytes\n",
      "starting: ocnfuns.hycom_to_roms_latlon(OCN,RMG)\n",
      "going to save OCN_R to temp pickle files.\n",
      "['python', 'ocn_functions.py', 'hycom_to_roms_latlon_pckl', '/scratch/PFM_Simulations/LV1_Forecast/Forc/hycom_tmp_pckl_file.pkl']\n"
     ]
    },
    {
     "name": "stderr",
     "output_type": "stream",
     "text": [
      "/home/mspydell/models/PFM_root/PFM/sdpm_py_util/ocn_functions.py:25: UserWarning: The seawater library is deprecated! Please use gsw instead.\n",
      "  import seawater\n"
     ]
    },
    {
     "name": "stdout",
     "output_type": "stream",
     "text": [
      "get_PFM_info(): running onswell\n",
      "/scratch/PFM_Simulations/LV1_Forecast/Forc/hycom_tmp_pckl_file.pkl\n",
      "OCN dict loaded with pickle\n",
      "before interp to roms grid, using:\n",
      "794392\n",
      "kilobytes\n",
      "doing:\n",
      "zeta\n",
      "doing:\n",
      "temp\n",
      "doing:\n",
      "salt\n",
      "doing:\n",
      "u\n",
      "doing:\n",
      "v\n",
      "before rotating urm, using:\n",
      "4478164\n",
      "kilobytes\n",
      "before rotating vrm, using:\n",
      "6365048\n",
      "kilobytes\n",
      "after v rotation. before ubar\n",
      "about to save OCN_R to multiple pickle files...\n",
      "after gc.collect and before pickling OCN_R, using:\n",
      "6365048\n",
      "kilobytes\n",
      "saved pickle file: /scratch/PFM_Simulations/LV1_Forecast/Forc/tmp_zeta.pkl\n",
      "saved pickle file: /scratch/PFM_Simulations/LV1_Forecast/Forc/tmp_salt.pkl\n",
      "saved pickle file: /scratch/PFM_Simulations/LV1_Forecast/Forc/tmp_temp.pkl\n",
      "saved pickle file: /scratch/PFM_Simulations/LV1_Forecast/Forc/tmp_ubar.pkl\n",
      "saved pickle file: /scratch/PFM_Simulations/LV1_Forecast/Forc/tmp_vbar.pkl\n",
      "saved pickle file: /scratch/PFM_Simulations/LV1_Forecast/Forc/tmp_lat_rho.pkl\n",
      "saved pickle file: /scratch/PFM_Simulations/LV1_Forecast/Forc/tmp_lon_rho.pkl\n",
      "saved pickle file: /scratch/PFM_Simulations/LV1_Forecast/Forc/tmp_lat_u.pkl\n",
      "saved pickle file: /scratch/PFM_Simulations/LV1_Forecast/Forc/tmp_lon_u.pkl\n",
      "saved pickle file: /scratch/PFM_Simulations/LV1_Forecast/Forc/tmp_lat_v.pkl\n",
      "saved pickle file: /scratch/PFM_Simulations/LV1_Forecast/Forc/tmp_lon_v.pkl\n",
      "saved pickle file: /scratch/PFM_Simulations/LV1_Forecast/Forc/tmp_depth.pkl\n",
      "saved pickle file: /scratch/PFM_Simulations/LV1_Forecast/Forc/tmp_ocean_time.pkl\n",
      "saved pickle file: /scratch/PFM_Simulations/LV1_Forecast/Forc/tmp_ocean_time_ref.pkl\n",
      "saved pickle file: /scratch/PFM_Simulations/LV1_Forecast/Forc/tmp_vinfo.pkl\n",
      "saved pickle file: /scratch/PFM_Simulations/LV1_Forecast/Forc/tmp_urm.pkl\n",
      "saved pickle file: /scratch/PFM_Simulations/LV1_Forecast/Forc/tmp_vrm.pkl\n",
      "OCN_R data saved to pickle files, correctly?\n",
      "CompletedProcess(args=['python', 'ocn_functions.py', 'hycom_to_roms_latlon_pckl', '/scratch/PFM_Simulations/LV1_Forecast/Forc/hycom_tmp_pckl_file.pkl'], returncode=0)\n",
      "0=yes,1=no\n",
      "driver_run_forecast_LV1: done with hycom_to_roms_latlon\n",
      "using:\n",
      "794392\n",
      "kilobytes\n"
     ]
    }
   ],
   "source": [
    "\n",
    "print('before gc.collect and getting OCN_R, using:')\n",
    "print(resource.getrusage(resource.RUSAGE_SELF).ru_maxrss)\n",
    "print('kilobytes')\n",
    "gc.collect()\n",
    "print('after gc.collect and before OCN_R, using:')\n",
    "print(resource.getrusage(resource.RUSAGE_SELF).ru_maxrss)\n",
    "print('kilobytes')\n",
    "# put the ocn data on the roms grid\n",
    "print('starting: ocnfuns.hycom_to_roms_latlon(OCN,RMG)')\n",
    "sv_ocnR_pkl_file=1\n",
    "if sv_ocnR_pkl_file==0:\n",
    "    print('returning OCN_R')\n",
    "    OCN_R  = ocnfuns.hycom_to_roms_latlon(OCN,RMG)\n",
    "else:\n",
    "    print('going to save OCN_R to temp pickle files.')\n",
    "    os.chdir('../sdpm_py_util')\n",
    "    cmd_list = ['python','ocn_functions.py','hycom_to_roms_latlon_pckl',fn_pckl]\n",
    "    print(cmd_list)\n",
    "    ret2 = subprocess.run(cmd_list)     \n",
    "    os.chdir('../driver')\n",
    "    print('OCN_R data saved to pickle files, correctly?')\n",
    "    print(ret2)\n",
    "    print('0=yes,1=no')\n",
    "\n",
    "print('driver_run_forecast_LV1: done with hycom_to_roms_latlon')\n",
    "# add OCN + OCN_R plotting function here !!!\n",
    "print('using:')\n",
    "print(resource.getrusage(resource.RUSAGE_SELF).ru_maxrss)\n",
    "print('kilobytes')\n",
    "\n"
   ]
  },
  {
   "cell_type": "code",
   "execution_count": 2,
   "metadata": {},
   "outputs": [
    {
     "name": "stdout",
     "output_type": "stream",
     "text": [
      "get_PFM_info(): running onswell\n",
      "get_PFM_info(): running onswell\n"
     ]
    }
   ],
   "source": [
    "## plot OCN_R\n",
    "plot_ocnr = 1\n",
    "if plot_ocnr == 1:\n",
    "    pltfuns.plot_ocn_R_fields_pckl()\n"
   ]
  },
  {
   "cell_type": "code",
   "execution_count": 3,
   "metadata": {},
   "outputs": [
    {
     "name": "stdout",
     "output_type": "stream",
     "text": [
      "using:\n",
      "3227656\n",
      "kilobytes\n",
      "going to save OCN_IC to a pickle file to:\n",
      "/scratch/PFM_Simulations/LV1_Forecast/Forc/ocnIC_tmp_pckl_file.pkl\n"
     ]
    },
    {
     "name": "stderr",
     "output_type": "stream",
     "text": [
      "/home/mspydell/models/PFM_root/PFM/sdpm_py_util/ocn_functions.py:25: UserWarning: The seawater library is deprecated! Please use gsw instead.\n",
      "  import seawater\n"
     ]
    },
    {
     "name": "stdout",
     "output_type": "stream",
     "text": [
      "get_PFM_info(): running onswell\n",
      "get_PFM_info(): running onswell\n",
      "OCN_IC dict saved with pickle\n",
      "OCN IC data saved with pickle, correctly?\n",
      "CompletedProcess(args=['python', 'ocn_functions.py', 'ocn_r_2_ICdict_pckl', '/scratch/PFM_Simulations/LV1_Forecast/Forc/ocnIC_tmp_pckl_file.pkl'], returncode=0)\n",
      "0=yes,1=no\n",
      "driver_run_forecast_LV1: done with ocn_r_2_ICdict\n",
      "using:\n",
      "3227656\n",
      "kilobytes\n"
     ]
    }
   ],
   "source": [
    "print('using:')\n",
    "print(resource.getrusage(resource.RUSAGE_SELF).ru_maxrss)\n",
    "print('kilobytes')\n",
    "# %%\n",
    "# get the OCN_IC dictionary\n",
    "\n",
    "fr_ocnR_pkl_file=1\n",
    "if fr_ocnR_pkl_file==0:\n",
    "    OCN_IC = ocnfuns.ocn_r_2_ICdict(OCN_R,RMG,PFM)\n",
    "else:\n",
    "    print('going to save OCN_IC to a pickle file to:')\n",
    "    ocnIC_pckl = PFM['lv1_forc_dir'] + '/' + PFM['lv1_ocnIC_tmp_pckl_file']\n",
    "    print(ocnIC_pckl) \n",
    "    os.chdir('../sdpm_py_util')\n",
    "    cmd_list = ['python','ocn_functions.py','ocn_r_2_ICdict_pckl',ocnIC_pckl]\n",
    "    ret3 = subprocess.run(cmd_list)     \n",
    "    os.chdir('../driver')\n",
    "    print('OCN IC data saved with pickle, correctly?')\n",
    "    print(ret3)\n",
    "    print('0=yes,1=no')\n",
    "\n",
    "\n",
    "\n",
    "print('driver_run_forecast_LV1: done with ocn_r_2_ICdict')\n",
    "# add OCN_IC.nc plotting function here !!!!\n",
    "print('using:')\n",
    "print(resource.getrusage(resource.RUSAGE_SELF).ru_maxrss)\n",
    "print('kilobytes')"
   ]
  },
  {
   "cell_type": "code",
   "execution_count": 6,
   "metadata": {},
   "outputs": [
    {
     "name": "stdout",
     "output_type": "stream",
     "text": [
      "using:\n",
      "3227656\n",
      "kilobytes\n",
      "making IC file from pickled IC: /scratch/PFM_Simulations/LV1_Forecast/Forc/LV1_OCEAN_IC.nc\n"
     ]
    },
    {
     "name": "stderr",
     "output_type": "stream",
     "text": [
      "/home/mspydell/models/PFM_root/PFM/sdpm_py_util/ocn_functions.py:25: UserWarning: The seawater library is deprecated! Please use gsw instead.\n",
      "  import seawater\n"
     ]
    },
    {
     "name": "stdout",
     "output_type": "stream",
     "text": [
      "OCN_IC dict loaded with pickle\n",
      "<xarray.Dataset>\n",
      "Dimensions:      (time: 1, s_rho: 40, er: 390, xr: 253, eu: 390, xu: 252,\n",
      "                  ev: 389, xv: 253)\n",
      "Coordinates:\n",
      "    lat_rho      (er, xr) float64 28.52 28.53 28.54 28.55 ... 36.38 36.39 36.39\n",
      "    lon_rho      (er, xr) float64 -120.3 -120.2 -120.2 ... -118.8 -118.8 -118.8\n",
      "    lat_u        (eu, xu) float64 28.52 28.53 28.54 28.55 ... 36.38 36.38 36.39\n",
      "    lon_u        (eu, xu) float64 -120.3 -120.2 -120.2 ... -118.8 -118.8 -118.8\n",
      "    lat_v        (ev, xv) float64 28.53 28.54 28.54 28.55 ... 36.37 36.38 36.39\n",
      "    lon_v        (ev, xv) float64 -120.3 -120.2 -120.2 ... -118.8 -118.8 -118.8\n",
      "    ocean_time   (time) float64 9.348e+03\n",
      "    Cs_r         (s_rho) float64 -0.9827 -0.9383 ... -9.61e-05 -1.061e-05\n",
      "Dimensions without coordinates: time, s_rho, er, xr, eu, xu, ev, xv\n",
      "Data variables: (12/13)\n",
      "    temp         (time, s_rho, er, xr) float64 1.104 1.104 1.106 ... nan nan nan\n",
      "    salt         (time, s_rho, er, xr) float64 34.71 34.71 34.71 ... nan nan nan\n",
      "    u            (time, s_rho, eu, xu) float64 6.761e-05 3.053e-05 ... nan nan\n",
      "    v            (time, s_rho, ev, xv) float64 0.00136 0.0014 ... nan nan\n",
      "    ubar         (time, eu, xu) float64 0.006498 0.005932 0.005461 ... nan nan\n",
      "    vbar         (time, ev, xv) float64 0.01241 0.01175 0.01121 ... nan nan nan\n",
      "    ...           ...\n",
      "    Vtransform   int64 2\n",
      "    Vstretching  int64 4\n",
      "    theta_s      float64 8.0\n",
      "    theta_b      float64 3.0\n",
      "    Tcline       float64 50.0\n",
      "    hc           float64 50.0\n",
      "Attributes:\n",
      "    type:       ocean initial condition file fields for starting roms\n",
      "    time info:  ocean time is from 1999/01/01 00:00:00\n",
      "OCN IC nc data saved, correctly?\n",
      "CompletedProcess(args=['python', 'ocn_functions.py', 'ocn_roms_IC_dict_to_netcdf_pckl', '/scratch/PFM_Simulations/LV1_Forecast/Forc/ocnIC_tmp_pckl_file.pkl', '/scratch/PFM_Simulations/LV1_Forecast/Forc/LV1_OCEAN_IC.nc'], returncode=0)\n",
      "0=yes,1=no\n",
      "done makeing IC .nc file.\n",
      "using:\n",
      "3227656\n",
      "kilobytes\n"
     ]
    }
   ],
   "source": [
    "print('using:')\n",
    "print(resource.getrusage(resource.RUSAGE_SELF).ru_maxrss)\n",
    "print('kilobytes')\n",
    "\n",
    "ic_file_out = PFM['lv1_forc_dir'] + '/' + PFM['lv1_ini_file']\n",
    "\n",
    "frm_ICpkl_file = 1\n",
    "if frm_ICpkl_file == 0:\n",
    "    print('making IC file: '+ ic_file_out)\n",
    "    ocnfuns.ocn_roms_IC_dict_to_netcdf(OCN_IC, ic_file_out)\n",
    "    print('done makeing IC file.')\n",
    "else:\n",
    "    print('making IC file from pickled IC: '+ ic_file_out)\n",
    "    cmd_list = ['python','ocn_functions.py','ocn_roms_IC_dict_to_netcdf_pckl',ocnIC_pckl,ic_file_out]\n",
    "    os.chdir('../sdpm_py_util')\n",
    "    ret4 = subprocess.run(cmd_list)     \n",
    "    os.chdir('../driver')\n",
    "    print('OCN IC nc data saved, correctly?')\n",
    "    print(ret4)\n",
    "    print('0=yes,1=no')\n",
    "    print('done makeing IC .nc file.')\n",
    "\n",
    "print('using:')\n",
    "print(resource.getrusage(resource.RUSAGE_SELF).ru_maxrss)\n",
    "print('kilobytes')\n",
    "\n"
   ]
  },
  {
   "cell_type": "code",
   "execution_count": 9,
   "metadata": {},
   "outputs": [],
   "source": [
    "with open(ocnIC_pckl,'rb') as fp:\n",
    "    OCN_IC = pickle.load(fp)\n"
   ]
  },
  {
   "cell_type": "code",
   "execution_count": 24,
   "metadata": {},
   "outputs": [
    {
     "name": "stdout",
     "output_type": "stream",
     "text": [
      "(1, 40, 390, 253)\n"
     ]
    },
    {
     "data": {
      "text/plain": [
       "Text(0.5, 1.0, 'surface temp [C]')"
      ]
     },
     "execution_count": 24,
     "metadata": {},
     "output_type": "execute_result"
    },
    {
     "data": {
      "image/png": "[encoded data removed]",
      "text/plain": [
       "<Figure size 640x480 with 3 Axes>"
      ]
     },
     "metadata": {},
     "output_type": "display_data"
    }
   ],
   "source": [
    "print(np.shape(OCN_IC['temp']))\n",
    "\n",
    "import matplotlib.pyplot as plt\n",
    "fig, ax = plt.subplots(nrows=1, ncols=2)\n",
    "\n",
    "plevs=np.arange(12,24,.1)\n",
    "cmap=plt.get_cmap('turbo')\n",
    "plt.set_cmap(cmap)\n",
    "#cset1=ax[0].contourf(OCN_IC['lon_rho'],OCN_IC['lat_rho'],np.squeeze(OCN_IC['temp'][0,0,:,:]),plevs)\n",
    "#cbar=fig.colorbar(cset1,ax=ax[0],orientation='horizontal')\n",
    "#ax[0].set_title('bottom temp [C]')\n",
    "\n",
    "cset1=ax[1].contourf(OCN_IC['lon_rho'],OCN_IC['lat_rho'],np.squeeze(OCN_IC['temp'][0,-1,:,:]),plevs)\n",
    "cbar=fig.colorbar(cset1,ax=ax[1],orientation='horizontal')\n",
    "ax[1].set_title('surface temp [C]')\n"
   ]
  },
  {
   "cell_type": "code",
   "execution_count": 23,
   "metadata": {},
   "outputs": [
    {
     "data": {
      "text/plain": [
       "Text(0.5, 1.0, 'temp [C]')"
      ]
     },
     "execution_count": 23,
     "metadata": {},
     "output_type": "execute_result"
    },
    {
     "data": {
      "image/png": "[encoded data removed]",
      "text/plain": [
       "<Figure size 640x480 with 3 Axes>"
      ]
     },
     "metadata": {},
     "output_type": "display_data"
    }
   ],
   "source": [
    "from scipy.interpolate import interp1d\n",
    "import util_functions as utlfuns \n",
    "from util_functions import s_coordinate_4\n",
    "from scipy.interpolate import RegularGridInterpolator\n",
    "\n",
    "ilat = 130\n",
    "ilon = 155\n",
    "hrm = RMG['h'][ilat,ilon]\n",
    "\n",
    "hraw = None\n",
    "h = RMG['h']\n",
    "eta = 0 * h\n",
    "zrom = s_coordinate_4(h, 3.0 , 8.0 , 50.0 , 40, hraw=hraw, zeta=eta)\n",
    "zr = np.squeeze(zrom.z_r[0,:,:,:])\n",
    "\n",
    "\n",
    "zz = np.squeeze(zr[:,ilat,:])\n",
    "ln = np.squeeze(OCN_IC['lon_rho'][ilat,:])\n",
    "ln2 = np.ones(np.shape(zz)) * ln[None,:]\n",
    "\n",
    "fig, ax = plt.subplots(nrows=2, ncols=1)\n",
    "plevs=np.arange(1,30,1)\n",
    "cmap=plt.get_cmap('turbo')\n",
    "plt.set_cmap(cmap)\n",
    "cset1=ax[0].contourf(ln2,zz,OCN_IC['temp'][0,:,ilat,:],plevs)\n",
    "cbar=fig.colorbar(cset1,ax=ax[0],orientation='vertical')\n",
    "ax[0].set_title('temp [C]')\n",
    "\n"
   ]
  },
  {
   "cell_type": "code",
   "execution_count": 7,
   "metadata": {},
   "outputs": [],
   "source": [
    "## plot OCN_R\n",
    "plot_ocn_icnc= 1\n",
    "if plot_ocn_icnc == 1:\n",
    "    pltfuns.plot_ocn_ic_fields(ic_file_out,RMG,PFM)\n",
    "\n",
    "\n"
   ]
  },
  {
   "cell_type": "code",
   "execution_count": 25,
   "metadata": {},
   "outputs": [
    {
     "name": "stdout",
     "output_type": "stream",
     "text": [
      "using:\n",
      "3227656\n",
      "kilobytes\n",
      "going to save OCN_BC to a pickle file to:\n",
      "/scratch/PFM_Simulations/LV1_Forecast/Forc/ocnBC_tmp_pckl_file.pkl\n"
     ]
    },
    {
     "name": "stderr",
     "output_type": "stream",
     "text": [
      "/home/mspydell/models/PFM_root/PFM/sdpm_py_util/ocn_functions.py:25: UserWarning: The seawater library is deprecated! Please use gsw instead.\n",
      "  import seawater\n"
     ]
    },
    {
     "name": "stdout",
     "output_type": "stream",
     "text": [
      "get_PFM_info(): running onswell\n",
      "get_PFM_info(): running onswell\n",
      "got here 1\n",
      "got here 1a\n",
      "got here 1b\n",
      "got here 1c\n",
      "got here 2\n",
      "got here 3\n",
      "OCN_BC dict saved with pickle\n",
      "OCN BC data saved with pickle, correctly?\n",
      "CompletedProcess(args=['python', 'ocn_functions.py', 'ocn_r_2_BCdict_pckl', '/scratch/PFM_Simulations/LV1_Forecast/Forc/ocnBC_tmp_pckl_file.pkl'], returncode=0)\n",
      "0=yes,1=no\n"
     ]
    }
   ],
   "source": [
    "print('using:')\n",
    "print(resource.getrusage(resource.RUSAGE_SELF).ru_maxrss)\n",
    "print('kilobytes')\n",
    "# %%\n",
    "# get the OCN_IC dictionary\n",
    "\n",
    "fr_ocnR_pkl_file=1\n",
    "if fr_ocnR_pkl_file==0:\n",
    "    OCN_BC = ocnfuns.ocn_r_2_BCdict(OCN_R,RMG,PFM)\n",
    "else:\n",
    "    print('going to save OCN_BC to a pickle file to:')\n",
    "    ocnBC_pckl = PFM['lv1_forc_dir'] + '/' + PFM['lv1_ocnBC_tmp_pckl_file']\n",
    "    print(ocnBC_pckl) \n",
    "    os.chdir('../sdpm_py_util')\n",
    "    cmd_list = ['python','ocn_functions.py','ocn_r_2_BCdict_pckl',ocnBC_pckl]\n",
    "    ret4 = subprocess.run(cmd_list)     \n",
    "    os.chdir('../driver')\n",
    "    print('OCN BC data saved with pickle, correctly?')\n",
    "    print(ret4)\n",
    "    print('0=yes,1=no')\n",
    "    \n",
    "\n",
    "\n"
   ]
  },
  {
   "cell_type": "code",
   "execution_count": 26,
   "metadata": {},
   "outputs": [
    {
     "name": "stdout",
     "output_type": "stream",
     "text": [
      "using:\n",
      "3227656\n",
      "kilobytes\n",
      "making BC nc file from pickled BC: /scratch/PFM_Simulations/LV1_Forecast/Forc/LV1_OCEAN_BC.nc\n"
     ]
    },
    {
     "name": "stderr",
     "output_type": "stream",
     "text": [
      "/home/mspydell/models/PFM_root/PFM/sdpm_py_util/ocn_functions.py:25: UserWarning: The seawater library is deprecated! Please use gsw instead.\n",
      "  import seawater\n"
     ]
    },
    {
     "name": "stdout",
     "output_type": "stream",
     "text": [
      "OCN_BC dict loaded with pickle\n",
      "<xarray.Dataset>\n",
      "Dimensions:      (time: 21, s_rho: 40, xr: 253, xu: 252, xv: 253, er: 390,\n",
      "                  eu: 390, ev: 389)\n",
      "Coordinates:\n",
      "    ocean_time   (time) float64 9.348e+03 9.348e+03 ... 9.35e+03 9.35e+03\n",
      "    Cs_r         (s_rho) float64 -0.9827 -0.9383 ... -9.61e-05 -1.061e-05\n",
      "Dimensions without coordinates: time, s_rho, xr, xu, xv, er, eu, ev\n",
      "Data variables: (12/27)\n",
      "    temp_south   (time, s_rho, xr) float64 1.104 1.104 1.106 ... nan nan nan\n",
      "    salt_south   (time, s_rho, xr) float64 34.71 34.71 34.71 ... nan nan nan\n",
      "    u_south      (time, s_rho, xu) float64 6.761e-05 3.053e-05 ... nan nan\n",
      "    v_south      (time, s_rho, xv) float64 0.001207 0.001536 ... nan nan\n",
      "    ubar_south   (time, xu) float64 0.006498 0.005932 0.005461 ... nan nan nan\n",
      "    vbar_south   (time, xv) float64 0.01241 0.01176 0.01121 ... nan nan nan\n",
      "    ...           ...\n",
      "    Vtransform   int64 2\n",
      "    Vstretching  int64 4\n",
      "    theta_s      float64 8.0\n",
      "    theta_b      float64 3.0\n",
      "    Tcline       float64 50.0\n",
      "    hc           float64 50.0\n",
      "Attributes:\n",
      "    type:       ocean boundary condition file fields for starting roms\n",
      "    time info:  ocean time is from 1999/01/01 00:00:00\n",
      "OCN BC nc data saved, correctly?\n",
      "CompletedProcess(args=['python', 'ocn_functions.py', 'ocn_roms_BC_dict_to_netcdf_pckl', '/scratch/PFM_Simulations/LV1_Forecast/Forc/ocnBC_tmp_pckl_file.pkl', '/scratch/PFM_Simulations/LV1_Forecast/Forc/LV1_OCEAN_BC.nc'], returncode=0)\n",
      "0=yes,1=no\n",
      "done makeing IC .nc file.\n",
      "using:\n",
      "3227656\n",
      "kilobytes\n",
      "driver_run_forecast_LV1: done with ocn_r_2_BCdict\n"
     ]
    }
   ],
   "source": [
    "print('using:')\n",
    "print(resource.getrusage(resource.RUSAGE_SELF).ru_maxrss)\n",
    "print('kilobytes')\n",
    "\n",
    "bc_file_out = PFM['lv1_forc_dir'] + '/' + PFM['lv1_bc_file']\n",
    "ocnBC_pckl = PFM['lv1_forc_dir'] + '/' + PFM['lv1_ocnBC_tmp_pckl_file']\n",
    "\n",
    "frm_BCpkl_file = 1\n",
    "if frm_BCpkl_file == 0:\n",
    "    print('making BC file: '+ bc_file_out)\n",
    "    ocnfuns.ocn_roms_BC_dict_to_netcdf(OCN_BC, bc_file_out)\n",
    "    print('done makeing BC nc file.')\n",
    "else:\n",
    "    print('making BC nc file from pickled BC: '+ bc_file_out)\n",
    "    cmd_list = ['python','ocn_functions.py','ocn_roms_BC_dict_to_netcdf_pckl',ocnBC_pckl,bc_file_out]\n",
    "    os.chdir('../sdpm_py_util')\n",
    "    ret5 = subprocess.run(cmd_list)     \n",
    "    os.chdir('../driver')\n",
    "    print('OCN BC nc data saved, correctly?')\n",
    "    print(ret5)\n",
    "    print('0=yes,1=no')\n",
    "    print('done makeing IC .nc file.')\n",
    "\n",
    "print('using:')\n",
    "print(resource.getrusage(resource.RUSAGE_SELF).ru_maxrss)\n",
    "print('kilobytes')\n",
    "\n",
    "\n",
    "frm_ICpkl_file = 1\n",
    "# get the OCN_BC dictionary\n",
    "\n",
    "print('driver_run_forecast_LV1: done with ocn_r_2_BCdict')\n"
   ]
  },
  {
   "cell_type": "code",
   "execution_count": 27,
   "metadata": {},
   "outputs": [
    {
     "name": "stdout",
     "output_type": "stream",
     "text": [
      "getting atm forecast for:\n",
      "[datetime.datetime(2024, 8, 4, 12, 0) datetime.datetime(2024, 8, 4, 15, 0)\n",
      " datetime.datetime(2024, 8, 4, 18, 0) datetime.datetime(2024, 8, 4, 21, 0)\n",
      " datetime.datetime(2024, 8, 5, 0, 0) datetime.datetime(2024, 8, 5, 3, 0)\n",
      " datetime.datetime(2024, 8, 5, 6, 0) datetime.datetime(2024, 8, 5, 9, 0)\n",
      " datetime.datetime(2024, 8, 5, 12, 0) datetime.datetime(2024, 8, 5, 15, 0)\n",
      " datetime.datetime(2024, 8, 5, 18, 0) datetime.datetime(2024, 8, 5, 21, 0)\n",
      " datetime.datetime(2024, 8, 6, 0, 0) datetime.datetime(2024, 8, 6, 3, 0)\n",
      " datetime.datetime(2024, 8, 6, 6, 0) datetime.datetime(2024, 8, 6, 9, 0)\n",
      " datetime.datetime(2024, 8, 6, 12, 0) datetime.datetime(2024, 8, 6, 15, 0)\n",
      " datetime.datetime(2024, 8, 6, 18, 0) datetime.datetime(2024, 8, 6, 21, 0)\n",
      " datetime.datetime(2024, 8, 7, 0, 0)]\n"
     ]
    },
    {
     "name": "stderr",
     "output_type": "stream",
     "text": [
      "/home/mspydell/models/PFM_root/PFM/driver/../sdpm_py_util/plotting_functions.py:90: RuntimeWarning: overflow encountered in square\n",
      "  magnitude = np.sqrt(U**2 + V**2)\n"
     ]
    },
    {
     "name": "stdout",
     "output_type": "stream",
     "text": [
      "done with plotting ATM fields\n"
     ]
    }
   ],
   "source": [
    "# make a switch to see if this file exists. If it exists, we don't need to run the code in this block\n",
    "# first the atm data\n",
    "# get the data as a dict\n",
    "# need to specify hhmm because nam forecast are produced at 6 hr increments\n",
    "ATM = atmfuns.get_atm_data_as_dict(yyyymmdd,hhmm,run_type,atm_mod,'open_dap_nc',PFM)\n",
    "# put in a function to check to make sure that all the data is good\n",
    "# put in a function to plot the raw atm data if we want to\n",
    "\n",
    "\n",
    "# plot some stuff\n",
    "pltfuns.plot_atm_fields(ATM, RMG, PFM)\n",
    "print('done with plotting ATM fields')\n"
   ]
  },
  {
   "cell_type": "code",
   "execution_count": 7,
   "metadata": {},
   "outputs": [
    {
     "name": "stdout",
     "output_type": "stream",
     "text": [
      "[9.9990003e+20 2.0962463e+01 2.0967438e+01 2.0981171e+01 2.0987366e+01\n",
      " 2.0998138e+01 2.1007996e+01 2.1015747e+01 2.1023468e+01 2.1031494e+01\n",
      " 2.1038849e+01 2.1043335e+01 2.1046631e+01 2.1063568e+01 2.1081970e+01\n",
      " 2.1114960e+01 2.1163361e+01 2.1181152e+01 2.1223511e+01 2.1224609e+01\n",
      " 2.1217194e+01 2.1203522e+01 2.1186768e+01 2.1169983e+01 2.1153198e+01\n",
      " 2.1136414e+01 2.1116760e+01 2.1092773e+01 2.1075562e+01 2.1053345e+01\n",
      " 2.1032501e+01 2.1042694e+01 2.1024750e+01 2.1005066e+01 2.0992767e+01\n",
      " 2.0981750e+01 2.0984070e+01 2.0992340e+01 2.0986389e+01 2.0963806e+01\n",
      " 2.0939880e+01 2.0917236e+01 2.0896301e+01 2.0872955e+01 2.0849884e+01\n",
      " 2.0858032e+01 2.0834045e+01 2.0808411e+01 2.0796539e+01 2.0778595e+01\n",
      " 2.0763489e+01 2.0749268e+01 2.0741364e+01 2.0736938e+01 2.0731232e+01\n",
      " 2.0732941e+01 2.0738342e+01 2.0741638e+01 2.0737793e+01 2.0729553e+01\n",
      " 2.0729614e+01 2.0716278e+01 2.0693634e+01 2.0676849e+01 2.0666229e+01\n",
      " 2.0655121e+01 2.0645477e+01 2.0629974e+01 2.0613403e+01 2.0599335e+01\n",
      " 2.0585938e+01 2.0572510e+01 2.0560974e+01 2.0553589e+01 2.0559418e+01\n",
      " 2.0549042e+01 2.0547577e+01 2.0550598e+01 2.0546936e+01 2.0527069e+01\n",
      " 2.0511505e+01 2.0491425e+01 2.0467529e+01 2.0440857e+01 2.0410004e+01\n",
      " 2.0378357e+01 2.0355713e+01 2.0335052e+01 2.0317688e+01 2.0317810e+01\n",
      " 2.0294464e+01 2.0272491e+01 2.0249542e+01 2.0232727e+01 2.0213013e+01\n",
      " 2.0201904e+01 2.0193909e+01 2.0190094e+01 2.0192719e+01 2.0200073e+01\n",
      " 2.0207031e+01 2.0211060e+01 2.0216370e+01 2.0217468e+01 2.0222961e+01\n",
      " 2.0220856e+01 2.0219604e+01 2.0220734e+01 2.0230896e+01 2.0241028e+01\n",
      " 2.0251190e+01 2.0221954e+01 2.0221436e+01 2.0232941e+01 2.0241211e+01\n",
      " 2.0248779e+01 2.0256317e+01 2.0268066e+01 2.0280914e+01 2.0288940e+01\n",
      " 2.0303345e+01 2.0316315e+01 2.0322083e+01 2.0332367e+01 2.0325470e+01\n",
      " 2.0316650e+01 2.0302856e+01 2.0288940e+01 2.0275604e+01 2.0261780e+01\n",
      " 2.0247559e+01 2.0231201e+01 2.0214874e+01 2.0200592e+01 2.0190460e+01\n",
      " 2.0188507e+01 2.0173157e+01 2.0153107e+01 2.0135071e+01 2.0110352e+01\n",
      " 2.0093719e+01 2.0070282e+01 2.0051239e+01 2.0037079e+01 2.0023102e+01\n",
      " 2.0011322e+01 1.9988647e+01 1.9971191e+01 1.9957184e+01 1.9953644e+01\n",
      " 1.9953827e+01 1.9935089e+01 1.9912567e+01 1.9904602e+01 1.9895416e+01\n",
      " 1.9892059e+01 1.9889801e+01 1.9887817e+01 1.9886871e+01 1.9883057e+01\n",
      " 1.9880798e+01 1.9873871e+01 1.9866669e+01 1.9856659e+01 1.9851593e+01\n",
      " 1.9855286e+01 1.9858337e+01 1.9854767e+01 1.9849121e+01 1.9842499e+01\n",
      " 1.9840637e+01 1.9835876e+01 1.9831177e+01 1.9827881e+01 1.9831085e+01\n",
      " 1.9817902e+01 1.9802368e+01 1.9794312e+01 1.9783173e+01 1.9777802e+01\n",
      " 1.9765686e+01 1.9767822e+01 1.9765167e+01 1.9756989e+01 1.9748260e+01\n",
      " 1.9723572e+01 1.9708313e+01 1.9703400e+01 1.9694458e+01 1.9687042e+01\n",
      " 1.9674744e+01 1.9669037e+01 1.9656860e+01 1.9649780e+01 1.9637909e+01\n",
      " 1.9649231e+01 1.9654175e+01 1.9658722e+01 1.9661621e+01 1.9652496e+01\n",
      " 1.9645782e+01 1.9634857e+01 1.9620453e+01 1.9607483e+01 1.9601227e+01\n",
      " 1.9598511e+01 1.9592499e+01 1.9578094e+01 1.9562286e+01 1.9552917e+01\n",
      " 1.9544678e+01 1.9542938e+01 1.9542419e+01 1.9546265e+01 1.9552673e+01\n",
      " 1.9550873e+01 1.9515076e+01 1.9497833e+01 1.9510559e+01 1.9537231e+01\n",
      " 1.9564636e+01 1.9598022e+01 1.9635223e+01 1.9660828e+01 1.9668762e+01\n",
      " 1.9674103e+01 1.9677094e+01 1.9690948e+01 1.9701874e+01 1.9712769e+01\n",
      " 1.9723633e+01 1.9734497e+01 1.9748108e+01 1.9756226e+01 1.9758484e+01\n",
      " 1.9764923e+01 1.9769653e+01 1.9772400e+01 1.9780060e+01 1.9784943e+01\n",
      " 1.9786163e+01 1.9787384e+01 1.9788605e+01 1.9768433e+01 1.9743347e+01\n",
      " 1.9745758e+01 1.9745575e+01 1.9754425e+01 1.9757050e+01 1.9763855e+01\n",
      " 1.9774719e+01 1.9791626e+01 1.9808502e+01 1.9839447e+01 1.9867249e+01\n",
      " 1.9849762e+01 1.9815033e+01 1.9791534e+01 1.9768707e+01 1.9747284e+01\n",
      " 1.9727295e+01 1.9708557e+01 1.9686890e+01 1.9674042e+01 1.9668457e+01\n",
      " 1.9631287e+01 1.9596313e+01 1.9571198e+01 1.9544098e+01 1.9468719e+01\n",
      " 1.9445648e+01 1.9427399e+01 1.9398651e+01 1.9359955e+01 1.9333313e+01\n",
      " 1.9321930e+01 1.9319977e+01 1.9324066e+01 1.9322510e+01 1.9323456e+01\n",
      " 1.9333405e+01 1.9338135e+01 1.9334991e+01 1.9330780e+01 1.9321808e+01\n",
      " 1.9312836e+01 1.9303833e+01 1.9292938e+01 1.9275787e+01 1.9266357e+01\n",
      " 1.9255066e+01 1.9238647e+01 1.9193359e+01 1.9198730e+01 1.9194946e+01\n",
      " 1.9184479e+01 1.9173340e+01 1.9156219e+01 1.9157745e+01 1.9151978e+01\n",
      " 1.9138641e+01 1.9127441e+01 1.9121643e+01 1.9106567e+01 1.9074310e+01\n",
      " 1.9041077e+01 1.9021210e+01 1.9013367e+01 1.9015381e+01 1.9025757e+01\n",
      " 1.9041687e+01 1.9052887e+01 1.9054077e+01 1.9056732e+01 1.9015656e+01\n",
      " 1.8975739e+01 1.8963867e+01 1.8933868e+01 1.8897400e+01 1.8865692e+01\n",
      " 1.8833252e+01 1.8805023e+01 1.8778320e+01 1.8754517e+01 1.8735352e+01\n",
      " 1.8716187e+01 1.8697845e+01 1.8678619e+01 1.8663300e+01 1.8658264e+01\n",
      " 1.8648285e+01 1.8648560e+01 1.8664856e+01 1.8673370e+01 1.8696991e+01\n",
      " 1.8700165e+01 1.8702026e+01 1.8716095e+01 1.8727814e+01 1.8739197e+01\n",
      " 1.8757660e+01]\n",
      "[9.9990003e+20 9.9990003e+20 9.9990003e+20 9.9990003e+20 2.0732361e+01\n",
      " 2.0680573e+01 2.0609558e+01 2.0560120e+01 2.0538879e+01 2.0485748e+01\n",
      " 2.0433502e+01 2.0378754e+01 2.0321014e+01 2.0266815e+01 2.0213440e+01\n",
      " 2.0162415e+01 2.0113647e+01 2.0066101e+01 2.0019318e+01 1.9980804e+01\n",
      " 1.9945526e+01 1.9922028e+01 1.9904114e+01 1.9874146e+01 1.9846497e+01\n",
      " 1.9827454e+01 1.9806671e+01 1.9775055e+01 1.9747345e+01 1.9722931e+01\n",
      " 1.9717041e+01 1.9689972e+01 1.9689728e+01 1.9670135e+01 1.9669983e+01\n",
      " 1.9666626e+01 1.9660645e+01 1.9650909e+01 1.9641113e+01 1.9632599e+01\n",
      " 1.9628662e+01 1.9620941e+01 1.9627991e+01 1.9638367e+01 1.9648438e+01\n",
      " 1.9642609e+01 1.9639984e+01 1.9639984e+01 1.9639984e+01 1.9639984e+01\n",
      " 1.9641022e+01 1.9650726e+01 1.9658997e+01 1.9665894e+01 1.9664551e+01\n",
      " 1.9659973e+01 1.9659973e+01 1.9664734e+01 1.9674500e+01 1.9684265e+01\n",
      " 1.9692322e+01 1.9699097e+01 1.9702240e+01 1.9695587e+01 1.9689972e+01\n",
      " 1.9692902e+01 1.9702698e+01 1.9709686e+01 1.9716431e+01 1.9723206e+01\n",
      " 1.9729950e+01 1.9735199e+01 1.9731171e+01 1.9717285e+01 1.9703186e+01\n",
      " 1.9706940e+01 1.9710724e+01 1.9717255e+01 1.9718292e+01 1.9712341e+01\n",
      " 1.9708160e+01 1.9695953e+01 1.9674286e+01 1.9660431e+01 1.9656128e+01\n",
      " 1.9650543e+01 1.9649994e+01 1.9639404e+01 1.9626648e+01 1.9614716e+01\n",
      " 1.9602417e+01 1.9599976e+01 1.9593475e+01 1.9587708e+01 1.9578400e+01\n",
      " 1.9565460e+01 1.9545044e+01 1.9521759e+01 1.9495667e+01 1.9470917e+01\n",
      " 1.9451721e+01 1.9431427e+01 1.9410706e+01 1.9396576e+01 1.9383209e+01\n",
      " 1.9362457e+01 1.9334778e+01 1.9303009e+01 1.9276825e+01 1.9244446e+01\n",
      " 1.9216858e+01 1.9183258e+01 1.9151184e+01 1.9125336e+01 1.9099884e+01\n",
      " 1.9075165e+01 1.9050049e+01 1.9029266e+01 1.8980591e+01 1.8931915e+01\n",
      " 1.8877686e+01 1.8829193e+01 1.8789032e+01 1.8735535e+01 1.8720551e+01\n",
      " 1.8693573e+01 1.8680298e+01 1.8631256e+01 1.8587341e+01 1.8538879e+01\n",
      " 1.8487366e+01 1.8446442e+01 1.8414429e+01 1.8380554e+01 1.8349182e+01\n",
      " 1.8319122e+01 1.8280701e+01 1.8231354e+01 1.8179047e+01 1.8132446e+01\n",
      " 1.8103973e+01 1.8092590e+01 1.8073120e+01 1.8051666e+01 1.8023254e+01\n",
      " 1.7993103e+01 1.7954437e+01 1.7913300e+01 1.7874939e+01 1.7852631e+01\n",
      " 1.7836548e+01 1.7824310e+01 1.7796387e+01 1.7777466e+01 1.7749023e+01\n",
      " 1.7717316e+01 1.7691803e+01 1.7666412e+01 1.7645966e+01 1.7632782e+01\n",
      " 1.7621368e+01 1.7616333e+01 1.7604675e+01 1.7599976e+01 1.7592712e+01\n",
      " 1.7589966e+01 1.7589966e+01 1.7581970e+01 1.7564972e+01 1.7547913e+01\n",
      " 1.7539124e+01 1.7528015e+01 1.7518036e+01 1.7508881e+01 1.7501373e+01\n",
      " 1.7490875e+01 1.7486450e+01 1.7480713e+01 1.7471985e+01 1.7466827e+01\n",
      " 1.7454895e+01 1.7442932e+01 1.7429504e+01 1.7409027e+01 1.7397095e+01\n",
      " 1.7384003e+01 1.7362366e+01 1.7349426e+01 1.7339447e+01 1.7320068e+01\n",
      " 1.7308044e+01 1.7283020e+01 1.7248566e+01 1.7213501e+01 1.7181030e+01\n",
      " 1.7157593e+01 1.7135956e+01 1.7108765e+01 1.7087677e+01 1.7064850e+01\n",
      " 1.7039703e+01 1.7008850e+01 1.6970734e+01 1.6934631e+01 1.6918304e+01\n",
      " 1.6908478e+01 1.6891235e+01 1.6878082e+01 1.6868500e+01 1.6843781e+01\n",
      " 1.6832733e+01 1.6830505e+01 1.6794312e+01 1.6773621e+01 1.6768982e+01\n",
      " 1.6759155e+01 1.6755127e+01 1.6741699e+01 1.6720734e+01 1.6700806e+01\n",
      " 1.6676819e+01 1.6651703e+01 1.6633575e+01 1.6621246e+01 1.6605347e+01\n",
      " 1.6598877e+01 1.6591614e+01 1.6588470e+01 1.6585480e+01 1.6582520e+01\n",
      " 1.6579987e+01 1.6579987e+01 1.6586792e+01 1.6603790e+01 1.6606689e+01\n",
      " 1.6601715e+01 1.6600525e+01 1.6602600e+01 1.6606323e+01 1.6605438e+01\n",
      " 1.6604034e+01 1.6609467e+01 1.6611237e+01 1.6614685e+01 1.6614136e+01\n",
      " 1.6612396e+01 1.6613708e+01 1.6607758e+01 1.6601807e+01 1.6595825e+01\n",
      " 1.6591156e+01 1.6599976e+01 1.6599976e+01 1.6599976e+01 1.6598022e+01\n",
      " 1.6590302e+01 1.6574890e+01 1.6561066e+01 1.6556641e+01 1.6561371e+01\n",
      " 1.6560120e+01 1.6557159e+01 1.6564575e+01 1.6569427e+01 1.6559814e+01\n",
      " 1.6544525e+01 1.6527802e+01 1.6518616e+01 1.6512665e+01 1.6508392e+01\n",
      " 1.6505676e+01 1.6509979e+01 1.6514069e+01 1.6516235e+01 1.6501984e+01\n",
      " 1.6483398e+01 1.6471039e+01 1.6473419e+01 1.6477020e+01 1.6470123e+01\n",
      " 1.6461334e+01 1.6455017e+01 1.6441986e+01 1.6411896e+01 1.6378387e+01\n",
      " 1.6360229e+01 1.6359985e+01 1.6359772e+01 1.6356781e+01 1.6348541e+01\n",
      " 1.6341675e+01 1.6332123e+01 1.6337524e+01 1.6339966e+01 1.6343384e+01\n",
      " 1.6361511e+01 1.6374451e+01 1.6381897e+01 1.6369690e+01 1.6350372e+01\n",
      " 1.6330597e+01 1.6311646e+01 1.6293671e+01 1.6276093e+01 1.6271179e+01\n",
      " 1.6273926e+01 1.6274963e+01 1.6268219e+01 1.6250244e+01 1.6234772e+01\n",
      " 1.6210876e+01 1.6198517e+01 1.6184875e+01 1.6179382e+01 1.6169159e+01\n",
      " 1.6156525e+01 1.6156342e+01 1.6168732e+01 1.6178925e+01 1.6175323e+01\n",
      " 1.6164642e+01 1.6149323e+01 1.6138000e+01 1.6128052e+01 1.6126221e+01\n",
      " 1.6126801e+01 1.6127533e+01 1.6128754e+01 1.6129028e+01]\n",
      "(array([ 0,  0,  0,  0,  1,  1,  1,  1,  2,  2,  2,  2,  3,  3,  3,  3,  4,\n",
      "        4,  4,  4,  5,  5,  5,  5,  6,  6,  6,  6,  7,  7,  7,  7,  8,  8,\n",
      "        8,  8,  9,  9,  9,  9, 10, 10, 10, 10, 11, 11, 11, 11, 12, 12, 12,\n",
      "       12, 13, 13, 13, 13, 14, 14, 14, 14, 15, 15, 15, 15, 16, 16, 16, 16,\n",
      "       17, 17, 17, 17, 18, 18, 18, 18, 19, 19, 19, 19, 20, 20, 20, 20]), array([0, 1, 2, 3, 0, 1, 2, 3, 0, 1, 2, 3, 0, 1, 2, 3, 0, 1, 2, 3, 0, 1,\n",
      "       2, 3, 0, 1, 2, 3, 0, 1, 2, 3, 0, 1, 2, 3, 0, 1, 2, 3, 0, 1, 2, 3,\n",
      "       0, 1, 2, 3, 0, 1, 2, 3, 0, 1, 2, 3, 0, 1, 2, 3, 0, 1, 2, 3, 0, 1,\n",
      "       2, 3, 0, 1, 2, 3, 0, 1, 2, 3, 0, 1, 2, 3, 0, 1, 2, 3]), array([0, 0, 0, 0, 0, 0, 0, 0, 0, 0, 0, 0, 0, 0, 0, 0, 0, 0, 0, 0, 0, 0,\n",
      "       0, 0, 0, 0, 0, 0, 0, 0, 0, 0, 0, 0, 0, 0, 0, 0, 0, 0, 0, 0, 0, 0,\n",
      "       0, 0, 0, 0, 0, 0, 0, 0, 0, 0, 0, 0, 0, 0, 0, 0, 0, 0, 0, 0, 0, 0,\n",
      "       0, 0, 0, 0, 0, 0, 0, 0, 0, 0, 0, 0, 0, 0, 0, 0, 0, 0]))\n"
     ]
    }
   ],
   "source": [
    "#print(ATM['Tair'])\n",
    "print(ATM['Tair'][0,0,:])\n",
    "print(ATM['Tair'][0,:,0])\n",
    "idx = np.where(ATM['Tair'] > 500)\n",
    "print(idx)\n",
    "#print(np.shape(ATM['Tair']))\n",
    "#print(np.shape(ATM['lon']))\n"
   ]
  },
  {
   "cell_type": "code",
   "execution_count": 28,
   "metadata": {},
   "outputs": [
    {
     "name": "stdout",
     "output_type": "stream",
     "text": [
      "done with: atmfuns.get_atm_data_on_roms_grid(ATM,RMG)\n"
     ]
    },
    {
     "name": "stderr",
     "output_type": "stream",
     "text": [
      "/home/mspydell/models/PFM_root/PFM/driver/../sdpm_py_util/plotting_functions.py:328: RuntimeWarning: overflow encountered in square\n",
      "  magnitude = np.sqrt(U**2 + V**2)\n"
     ]
    },
    {
     "name": "stdout",
     "output_type": "stream",
     "text": [
      "done with: pltfuns.plot_all_fields_in_one(ATM, ATM_R, RMG, PFM)\n"
     ]
    },
    {
     "data": {
      "text/plain": [
       "<Figure size 640x480 with 0 Axes>"
      ]
     },
     "metadata": {},
     "output_type": "display_data"
    }
   ],
   "source": [
    "# put the atm data on the roms grid, and rotate the velocities\n",
    "# everything in this dict turn into the atm.nc file\n",
    "\n",
    "ATM_R  = atmfuns.get_atm_data_on_roms_grid(ATM,RMG)\n",
    "print('done with: atmfuns.get_atm_data_on_roms_grid(ATM,RMG)')\n",
    "# all the fields plotted with the data on roms grid\n",
    "\n",
    "\n",
    "pltfuns.plot_all_fields_in_one(ATM, ATM_R, RMG, PFM)\n",
    "print('done with: pltfuns.plot_all_fields_in_one(ATM, ATM_R, RMG, PFM)')\n"
   ]
  },
  {
   "cell_type": "code",
   "execution_count": 29,
   "metadata": {},
   "outputs": [
    {
     "name": "stdout",
     "output_type": "stream",
     "text": [
      "driver_run_forcast_LV1: saving ATM file to /scratch/PFM_Simulations/LV1_Forecast/Forc/LV1_ATM_FORCING.nc\n",
      "<xarray.Dataset>\n",
      "Dimensions:     (tair_time: 21, er: 390, xr: 253, pair_time: 21, qair_time: 21,\n",
      "                 wind_time: 21, rain_time: 21, srf_time: 21, lrf_time: 21,\n",
      "                 time: 21)\n",
      "Coordinates:\n",
      "    lat         (er, xr) float64 28.52 28.53 28.54 28.55 ... 36.38 36.39 36.39\n",
      "    lon         (er, xr) float64 -120.3 -120.2 -120.2 ... -118.8 -118.8 -118.8\n",
      "    ocean_time  (time) float64 9.348e+03 9.348e+03 ... 9.35e+03 9.35e+03\n",
      "  * tair_time   (tair_time) float64 9.348e+03 9.348e+03 ... 9.35e+03 9.35e+03\n",
      "  * pair_time   (pair_time) float64 9.348e+03 9.348e+03 ... 9.35e+03 9.35e+03\n",
      "  * qair_time   (qair_time) float64 9.348e+03 9.348e+03 ... 9.35e+03 9.35e+03\n",
      "  * wind_time   (wind_time) float64 9.348e+03 9.348e+03 ... 9.35e+03 9.35e+03\n",
      "  * rain_time   (rain_time) float64 9.348e+03 9.348e+03 ... 9.35e+03 9.35e+03\n",
      "  * srf_time    (srf_time) float64 9.348e+03 9.348e+03 ... 9.35e+03 9.35e+03\n",
      "  * lrf_time    (lrf_time) float64 9.348e+03 9.348e+03 ... 9.35e+03 9.35e+03\n",
      "Dimensions without coordinates: er, xr, time\n",
      "Data variables:\n",
      "    Tair        (tair_time, er, xr) float64 19.61 19.59 19.58 ... 38.95 38.81\n",
      "    Pair        (pair_time, er, xr) float64 1.014e+03 1.014e+03 ... 1.015e+03\n",
      "    Qair        (qair_time, er, xr) float64 93.45 93.6 93.88 ... 15.4 16.65 16.9\n",
      "    Uwind       (wind_time, er, xr) float64 -1.719 -1.682 -1.642 ... 2.589 2.618\n",
      "    Vwind       (wind_time, er, xr) float64 -6.365 -6.35 ... -2.356 -2.338\n",
      "    rain        (rain_time, er, xr) float64 0.0 0.0 0.0 0.0 ... 0.0 0.0 0.0 0.0\n",
      "    swrad       (srf_time, er, xr) float64 0.0 0.0 0.0 0.0 ... 457.6 458.9 458.7\n",
      "    lwrad       (lrf_time, er, xr) float64 -51.61 -49.63 ... -180.7 -181.1\n",
      "    lwrad_down  (lrf_time, er, xr) float64 352.5 354.4 355.6 ... 357.5 356.1\n",
      "Attributes:\n",
      "    type:       atmospheric forcing file fields for surface fluxes\n",
      "    time info:  ocean time is from 1999/01/01 00:00:00\n",
      "driver_run_forecast_LV1:  done with writing ATM file, Current time  2024-08-08 16:35:54.884900\n",
      "done with pltfuns.load_and_plot_atm(PFM)\n"
     ]
    }
   ],
   "source": [
    "# output a netcdf file of ATM_R\n",
    "# make the atm .nc file here.\n",
    "# fn_out is the name of the atm.nc file used by roms\n",
    "fn_out = PFM['lv1_forc_dir'] + '/' + PFM['lv1_atm_file'] # LV1 atm forcing filename\n",
    "print('driver_run_forcast_LV1: saving ATM file to ' + fn_out)\n",
    "atmfuns.atm_roms_dict_to_netcdf(ATM_R,fn_out)\n",
    "print('driver_run_forecast_LV1:  done with writing ATM file, Current time ', datetime.now())\n",
    "# put in a function to plot the atm.nc file if we want to\n",
    "pltfuns.load_and_plot_atm(RMG, PFM)\n",
    "print('done with pltfuns.load_and_plot_atm(PFM)')\n",
    "\n"
   ]
  },
  {
   "cell_type": "code",
   "execution_count": null,
   "metadata": {},
   "outputs": [],
   "source": [
    "\n",
    "print('driver_run_forecast_LV1:  now make .in and .sb files')\n",
    "\n",
    "pfm_driver_src_dir = os.getcwd()\n",
    "os.chdir('../sdpm_py_util')\n",
    "make_LV1_dotin_and_SLURM( PFM )\n",
    "\n",
    "# run command will be\n",
    "run_slurm_LV1(PFM)\n",
    "\n",
    "os.chdir(pfm_driver_src_dir)\n",
    "\n",
    "\n",
    "# postprocess figure generation\n",
    "# plot fields from his.nc\n",
    "\n"
   ]
  },
  {
   "cell_type": "code",
   "execution_count": 2,
   "metadata": {},
   "outputs": [
    {
     "name": "stdout",
     "output_type": "stream",
     "text": [
      "Time to get full file using ncks = 1517.43 sec\n",
      "Return code = 0 (0=success, 1=skipped ncks)\n",
      "driver_run_forecast_LV1: done with get_ocn_data_as_dict: Current time  2024-07-31 13:19:42.922055\n"
     ]
    }
   ],
   "source": [
    "# ========================================\n",
    "# OLD and testing stuff is below this line\n",
    "# ========================================\n",
    "\n",
    "# note, this function is hard wired to return 2.5 days of data\n",
    "# also note that the first time of this data is yyyymmdd 12:00Z\n",
    "# so we grab nam atm forecast data starting at this hour too.\n",
    "OCN = ocnfuns.get_ocn_data_as_dict(yyyymmdd,run_type,ocn_mod,'ncks',PFM)\n",
    "print('driver_run_forecast_LV1: done with get_ocn_data_as_dict: Current time ',datetime.now() )\n",
    "# add OCN plotting function here !!!!\n",
    "\n"
   ]
  },
  {
   "cell_type": "code",
   "execution_count": 6,
   "metadata": {},
   "outputs": [
    {
     "name": "stdout",
     "output_type": "stream",
     "text": [
      "[28.         28.04000092 28.07999992 28.12000084 28.15999985 28.20000076\n",
      " 28.23999977 28.28000069 28.31999969 28.36000061 28.39999962 28.44000053\n",
      " 28.47999954 28.52000046 28.55999947 28.60000038 28.63999939 28.68000031\n",
      " 28.71999931 28.76000023 28.79999924 28.84000015 28.87999916 28.92000008\n",
      " 28.95999908 29.         29.04000092 29.07999992 29.12000084 29.15999985\n",
      " 29.20000076 29.23999977 29.28000069 29.31999969 29.36000061 29.39999962\n",
      " 29.44000053 29.47999954 29.52000046 29.55999947 29.60000038 29.63999939\n",
      " 29.68000031 29.71999931 29.76000023 29.79999924 29.84000015 29.87999916\n",
      " 29.92000008 29.95999908 30.         30.04000092 30.07999992 30.12000084\n",
      " 30.15999985 30.20000076 30.23999977 30.28000069 30.31999969 30.36000061\n",
      " 30.39999962 30.44000053 30.47999954 30.52000046 30.55999947 30.60000038\n",
      " 30.63999939 30.68000031 30.71999931 30.76000023 30.79999924 30.84000015\n",
      " 30.87999916 30.92000008 30.95999908 31.         31.04000092 31.07999992\n",
      " 31.12000084 31.15999985 31.20000076 31.23999977 31.28000069 31.31999969\n",
      " 31.36000061 31.39999962 31.44000053 31.47999954 31.52000046 31.55999947\n",
      " 31.60000038 31.63999939 31.68000031 31.71999931 31.76000023 31.79999924\n",
      " 31.84000015 31.87999916 31.92000008 31.95999908 32.         32.04000092\n",
      " 32.08000183 32.11999893 32.15999985 32.20000076 32.24000168 32.27999878\n",
      " 32.31999969 32.36000061 32.40000153 32.43999863 32.47999954 32.52000046\n",
      " 32.56000137 32.59999847 32.63999939 32.68000031 32.72000122 32.75999832\n",
      " 32.79999924 32.84000015 32.88000107 32.91999817 32.95999908 33.\n",
      " 33.04000092 33.08000183 33.11999893 33.15999985 33.20000076 33.24000168\n",
      " 33.27999878 33.31999969 33.36000061 33.40000153 33.43999863 33.47999954\n",
      " 33.52000046 33.56000137 33.59999847 33.63999939 33.68000031 33.72000122\n",
      " 33.75999832 33.79999924 33.84000015 33.88000107 33.91999817 33.95999908\n",
      " 34.         34.04000092 34.08000183 34.11999893 34.15999985 34.20000076\n",
      " 34.24000168 34.27999878 34.31999969 34.36000061 34.40000153 34.43999863\n",
      " 34.47999954 34.52000046 34.56000137 34.59999847 34.63999939 34.68000031\n",
      " 34.72000122 34.75999832 34.79999924 34.84000015 34.88000107 34.91999817\n",
      " 34.95999908 35.         35.04000092 35.08000183 35.11999893 35.15999985\n",
      " 35.20000076 35.24000168 35.27999878 35.31999969 35.36000061 35.40000153\n",
      " 35.43999863 35.47999954 35.52000046 35.56000137 35.59999847 35.63999939\n",
      " 35.68000031 35.72000122 35.75999832 35.79999924 35.84000015 35.88000107\n",
      " 35.91999817 35.95999908 36.         36.04000092 36.08000183 36.11999893\n",
      " 36.15999985 36.20000076 36.24000168 36.27999878 36.31999969 36.36000061\n",
      " 36.40000153 36.43999863 36.47999954 36.52000046 36.56000137 36.59999847\n",
      " 36.63999939 36.68000031 36.72000122 36.75999832 36.79999924 36.84000015\n",
      " 36.88000107 36.91999817 36.95999908 37.        ]\n"
     ]
    }
   ],
   "source": [
    "import xarray as xr\n",
    "\n",
    "fn='/scratch/PFM_Simulations/LV1_Forecast/Forc/hy_cat_2024-07-29T12:00.nc'\n",
    "ds = xr.open_dataset(fn)\n",
    "print(ds.lat.values)\n"
   ]
  },
  {
   "cell_type": "code",
   "execution_count": 9,
   "metadata": {},
   "outputs": [
    {
     "name": "stdout",
     "output_type": "stream",
     "text": [
      "[]\n"
     ]
    }
   ],
   "source": [
    "import os\n",
    "import glob\n",
    "tstr = \"2024-07-30T12:00\"\n",
    "ffname = \"hy_\" + tstr + \"_*.nc\"\n",
    "full_fns_out = PFM['lv1_forc_dir'] + \"/\" + ffname\n",
    "ncfiles = glob.glob(full_fns_out)\n",
    "cat_fname = PFM['lv1_forc_dir'] + '/' + 'hy_cat_' + tstr + '.nc'\n",
    "\n",
    "print(ncfiles)\n"
   ]
  },
  {
   "cell_type": "code",
   "execution_count": 29,
   "metadata": {},
   "outputs": [
    {
     "name": "stdout",
     "output_type": "stream",
     "text": [
      "2024-07-30T12:00\n",
      "2024-07-30 12:00:00\n",
      "2024-08-02 00:00:00\n",
      "2024-08-02T00:00\n"
     ]
    }
   ],
   "source": [
    "from datetime import timedelta\n",
    "\n",
    "tstr = '2024-07-30T12:00'\n",
    "print(tstr)\n",
    "t1 = datetime.strptime(tstr,\"%Y-%m-%dT%H:%M\")\n",
    "t2 = t1 + 2.5 * timedelta(days=1)\n",
    "print(t1)\n",
    "print(t2)\n",
    "t2str = t2.strftime(\"%Y-%m-%dT%H:%M\")\n",
    "print(t2str)"
   ]
  },
  {
   "cell_type": "code",
   "execution_count": null,
   "metadata": {},
   "outputs": [],
   "source": []
  },
  {
   "cell_type": "code",
   "execution_count": null,
   "metadata": {},
   "outputs": [],
   "source": [
    "# a block of code to use ncks...\n",
    "import time\n",
    "import subprocess\n",
    "\n",
    "vstr = 'surf_el,water_temp,salinity,water_u,water_v,depth'\n",
    "\n",
    "# make the ocn IC and BC .nc files here\n",
    "# fn*_out are the names of the the IC.nc and BC.nc roms files\n",
    "lv1_forc_dir = PFM['lv1_forc_dir']   #'/Users/mspydell/research/FF2024/models/SDPM_mss/atm_stuff/ocn_test_IC_file.nc'\n",
    "full_fn_out = lv1_forc_dir + '/hycom_test_mss.nc'\n",
    "\n",
    "west =  PFM['latlonbox'][2]+360.0\n",
    "east =  PFM['latlonbox'][3]+360.0\n",
    "south = PFM['latlonbox'][0]\n",
    "north = PFM['latlonbox'][1]\n",
    "\n",
    "yyyy = yyyymmdd[0:4]\n",
    "mm = yyyymmdd[4:6]\n",
    "dd = yyyymmdd[6:8]\n",
    "\n",
    "# time limits\n",
    "dstr0 = yyyy + '-' + mm + '-' + dd + 'T12:00'\n",
    "dstr1 = yyyy + '-' + mm + '-' + str( int(dd) + 1 ) + 'T00:00'\n",
    "\n",
    "url='https://tds.hycom.org/thredds/dodsC/GLBy0.08/expt_93.0/FMRC/runs/' \n",
    "url2 = 'GLBy0.08_930_FMRC_RUN_' + yyyy + '-' + mm + '-' + dd + 'T12:00:00Z' \n",
    "url3 = url + url2\n",
    "cmd_list = ['ncks',\n",
    "    '-d', 'time,'+dstr0+','+dstr1,\n",
    "    '-d', 'lon,'+str(west)+','+str(east),\n",
    "    '-d', 'lat,'+str(south)+','+str(north),\n",
    "    '-v', vstr,\n",
    "    url3 ,\n",
    "    '-4', '-O', full_fn_out]\n",
    "\n",
    "print(cmd_list)\n",
    "\n",
    "# run ncks\n",
    "tt0 = time.time()\n",
    "ret1 = subprocess.call(cmd_list)\n"
   ]
  },
  {
   "cell_type": "code",
   "execution_count": 51,
   "metadata": {},
   "outputs": [
    {
     "name": "stdout",
     "output_type": "stream",
     "text": [
      "[9340.5   9340.625 9340.75  9340.875 9341.   ]\n"
     ]
    }
   ],
   "source": [
    "import xarray as xr\n",
    "from datetime import timedelta\n",
    "\n",
    "ds = xr.open_dataset(full_fn_out)\n",
    "#print(ds)\n",
    "\n",
    "t_hy = ds.time\n",
    "t_ref = PFM['modtime0']\n",
    "\n",
    "dt_day = (t_hy - np.datetime64(t_ref))  / np.timedelta64(1,'D')\n",
    "\n",
    "print(dt_day.values)\n",
    "#print(t_hy[0]-t_ref)\n",
    "\n",
    "\n",
    "#t_hy2 = datetime(t_hy)\n",
    "\n",
    "#t_ref?\n",
    "#deltat = t_hy - t_ref\n",
    "\n",
    "#print(deltat)\n",
    "\n",
    "\n",
    "#print(t_hy)\n",
    "#print(t_ref)\n",
    "      \n"
   ]
  },
  {
   "cell_type": "code",
   "execution_count": 5,
   "metadata": {},
   "outputs": [
    {
     "name": "stdout",
     "output_type": "stream",
     "text": [
      "[[0. 0. 0. 0. 0.]\n",
      " [0. 0. 0. 0. 0.]\n",
      " [0. 0. 0. 0. 0.]\n",
      " [0. 0. 0. 0. 0.]]\n"
     ]
    }
   ],
   "source": [
    "zz=np.random.randn(2,3,4,5)\n",
    "dum = zz[1,2,:,:]\n",
    "ang = np.random.randn(4,5)\n",
    "ang2 = np.tile(ang,(2,3,1,1))\n"
   ]
  },
  {
   "cell_type": "code",
   "execution_count": 1,
   "metadata": {},
   "outputs": [
    {
     "name": "stdout",
     "output_type": "stream",
     "text": [
      "/home/mspydell/models/PFM_root/PFM/driver\n",
      "make it through and subprocesses are still spinning\n",
      "/home/mspydell/models/PFM_root/PFM/driver\n"
     ]
    },
    {
     "name": "stderr",
     "output_type": "stream",
     "text": [
      "/home/mspydell/models/PFM_root/PFM/sdpm_py_util/ocn_functions.py:23: UserWarning: The seawater library is deprecated! Please use gsw instead.\n",
      "  import seawater\n",
      "/home/mspydell/models/PFM_root/PFM/sdpm_py_util/ocn_functions.py:23: UserWarning: The seawater library is deprecated! Please use gsw instead.\n",
      "  import seawater\n"
     ]
    },
    {
     "name": "stdout",
     "output_type": "stream",
     "text": [
      "in loop:\n",
      "0\n",
      "-13\n",
      "in loop:\n",
      "1\n",
      "31\n",
      "in loop:\n",
      "0\n",
      "-15\n",
      "in loop:\n",
      "2\n",
      "4\n",
      "in loop:\n",
      "1\n",
      "10\n",
      "in loop:\n",
      "3\n",
      "-20\n",
      "in loop:\n",
      "2\n",
      "21\n",
      "in loop:\n",
      "4\n",
      "28\n",
      "in loop:\n",
      "3\n",
      "-9\n",
      "in loop:\n",
      "0\n",
      "6\n",
      "in loop:\n",
      "4\n",
      "-16\n",
      "in loop:\n",
      "1\n",
      "-12\n",
      "in loop:\n",
      "0\n",
      "-5\n",
      "in loop:\n",
      "2\n",
      "-19\n",
      "in loop:\n",
      "1\n",
      "-6\n",
      "in loop:\n",
      "3\n",
      "21\n",
      "in loop:\n",
      "2\n",
      "32\n",
      "in loop:\n",
      "4\n",
      "-9\n",
      "in loop:\n",
      "3\n",
      "60\n",
      "in loop:\n",
      "4\n",
      "-15\n"
     ]
    }
   ],
   "source": [
    "import subprocess\n",
    "import os\n",
    "\n",
    "print(os.getcwd())\n",
    "os.chdir('../sdpm_py_util')\n",
    "cmd_list = ['python','ocn_functions.py','sum_fn','5','100']\n",
    "ret1 = subprocess.Popen(cmd_list)\n",
    "\n",
    "cmd_list2 = ['python','ocn_functions.py','sum_fn','5','100']\n",
    "ret2 = subprocess.Popen(cmd_list2)\n",
    "\n",
    "# placeing this here waits for the return code. i.e. the code is blocked here\n",
    "# if this is commented out. Then we can reach \n",
    "#ssd1 = ret1.communicate()[0]\n",
    "#rc1 = ret1.returncode\n",
    "#print(rc1)\n",
    "\n",
    "#d2 = ret2.communicate()[0]\n",
    "#rc2 = ret2.returncode\n",
    "#print(rc2)\n",
    "\n",
    "print('make it through and subprocesses are still spinning')\n",
    "\n",
    "os.chdir('../driver')\n",
    "print(os.getcwd())\n"
   ]
  },
  {
   "cell_type": "code",
   "execution_count": 4,
   "metadata": {},
   "outputs": [
    {
     "name": "stdout",
     "output_type": "stream",
     "text": [
      "return code 1 is now:\n",
      "0\n",
      "return code 2 is now:\n",
      "0\n"
     ]
    }
   ],
   "source": [
    "ssd1 = ret1.communicate()[0]\n",
    "rc1a = ret1.returncode\n",
    "print('return code 1 is now:')\n",
    "print(rc1a)\n",
    "ssd2 = ret2.communicate()[0]\n",
    "rc2a = ret2.returncode\n",
    "print('return code 2 is now:')\n",
    "print(rc2a)"
   ]
  }
 ],
 "metadata": {
  "kernelspec": {
   "display_name": "base",
   "language": "python",
   "name": "python3"
  },
  "language_info": {
   "codemirror_mode": {
    "name": "ipython",
    "version": 3
   },
   "file_extension": ".py",
   "mimetype": "text/x-python",
   "name": "python",
   "nbconvert_exporter": "python",
   "pygments_lexer": "ipython3",
   "version": "3.12.2"
  }
 },
 "nbformat": 4,
 "nbformat_minor": 2
}
