{
 "cells": [
  {
   "cell_type": "code",
   "execution_count": 1,
   "metadata": {},
   "outputs": [
    {
     "name": "stdout",
     "output_type": "stream",
     "text": [
      "get_PFM_info(): running onswell\n",
      "ocean boundary and initial conditions will be from:\n",
      "hycom\n",
      "atm forcing will be from:\n",
      "nam_nest\n",
      "Starting: driver_run_forecast_LV1: Current local Time = 2024-08-06 15:07:21.829523 UTC =  2024-08-06 22:07:21.829546+00:00\n",
      "Preparing forecast starting on  20240804\n"
     ]
    },
    {
     "name": "stderr",
     "output_type": "stream",
     "text": [
      "/home/mspydell/models/PFM_root/PFM/driver/../sdpm_py_util/ocn_functions.py:25: UserWarning: The seawater library is deprecated! Please use gsw instead.\n",
      "  import seawater\n"
     ]
    }
   ],
   "source": [
    "# -- driver_run_forecast_LV1.py  --\n",
    "# master python script to do a full LV1 forecast simulation\n",
    "\n",
    "import sys\n",
    "import pickle\n",
    "#import matplotlib.pyplot as plt\n",
    "import numpy as np\n",
    "import os\n",
    "from datetime import datetime, timezone\n",
    "import gc\n",
    "import resource\n",
    "import subprocess\n",
    "#import xarray as xr\n",
    "#import netCDF4 as nc\n",
    "\n",
    "##############\n",
    "\n",
    "sys.path.append('../sdpm_py_util')\n",
    "\n",
    "import atm_functions as atmfuns\n",
    "import ocn_functions as ocnfuns\n",
    "import grid_functions as grdfuns\n",
    "import util_functions as utlfuns \n",
    "import plotting_functions as pltfuns\n",
    "from util_functions import s_coordinate_4\n",
    "from get_PFM_info import get_PFM_info\n",
    "from make_LV1_dotin_and_SLURM import make_LV1_dotin_and_SLURM\n",
    "from run_slurm_LV1 import run_slurm_LV1\n",
    "\n",
    "\n",
    "PFM=get_PFM_info()\n",
    "\n",
    "run_type = 'forecast'\n",
    "# we will use hycom for IC and BC\n",
    "ocn_mod = PFM['ocn_model']\n",
    "print('ocean boundary and initial conditions will be from:')\n",
    "print(ocn_mod)\n",
    "# we will use nam_nest for the atm forcing\n",
    "atm_mod = PFM['atm_model']\n",
    "print('atm forcing will be from:')\n",
    "print(atm_mod)\n",
    "# we will use opendap, and netcdf to grab ocn, and atm data\n",
    "get_method = 'open_dap_nc'\n",
    "# figure out what the time is local and UTC\n",
    "start_time = datetime.now()\n",
    "utc_time = datetime.now(timezone.utc)\n",
    "year_utc = utc_time.year\n",
    "month_utc = utc_time.month\n",
    "day_utc = utc_time.day\n",
    "hour_utc = utc_time.hour\n",
    "\n",
    "print(\"Starting: driver_run_forecast_LV1: Current local Time =\", start_time, \"UTC = \",utc_time)\n",
    "\n",
    "if hour_utc < 12:\n",
    "    hour_utc=12\n",
    "    day_utc=day_utc-1  # this only works if day_utc \\neq 1\n",
    "\n",
    "yyyymmdd = \"%d%02d%02d\" % (year_utc, month_utc, day_utc)\n",
    "    \n",
    "#yyyymmdd = '20240717'\n",
    "# the hour in Z of the forecast, hycom has forecasts once per day starting at 1200Z\n",
    "hhmm='1200'\n",
    "forecastZdatestr = yyyymmdd+hhmm+'Z'   # this could be used for model output to indicate when model was initialized.\n",
    "\n",
    "yyyymmdd = '20240804'\n",
    "print(\"Preparing forecast starting on \",yyyymmdd)\n",
    "\n",
    "\n",
    "# get the ROMS grid as a dict\n",
    "RMG = grdfuns.roms_grid_to_dict(PFM['lv1_grid_file'])\n"
   ]
  },
  {
   "cell_type": "code",
   "execution_count": 2,
   "metadata": {},
   "outputs": [
    {
     "name": "stdout",
     "output_type": "stream",
     "text": [
      "before getting OCN, using:\n",
      "264528\n",
      "kilobytes\n",
      "OCN dict loaded with pickle\n",
      "after getting OCN from file, using:\n",
      "264528\n",
      "kilobytes\n"
     ]
    }
   ],
   "source": [
    "print('before getting OCN, using:')\n",
    "print(resource.getrusage(resource.RUSAGE_SELF).ru_maxrss)\n",
    "print('kilobytes')\n",
    "\n",
    "use_ncks = 0 # flag to get data using ncks. if =0, then a pre saved pickle file is loaded.\n",
    "use_pckl_sav = 1\n",
    "if use_ncks == 1:\n",
    "    if use_pckl_sav == 0: # the original way that breaks when going to OCN_R\n",
    "        OCN = ocnfuns.get_ocn_data_as_dict(yyyymmdd,run_type,ocn_mod,'ncks_para')\n",
    "        print('driver_run_forecast_LV1: done with get_ocn_data_as_dict: Current time ',datetime.now() )\n",
    "        print('after getting OCN with ncks_para, using:')\n",
    "        print(resource.getrusage(resource.RUSAGE_SELF).ru_maxrss)\n",
    "        print('kilobytes')\n",
    "    else:\n",
    "        print('going to use subprocess, and save a pickle file.')\n",
    "        fn_pckl = PFM['lv1_forc_dir'] + '/' + PFM['lv1_ocn_tmp_pckl_file']\n",
    "        os.chdir('../sdpm_py_util')\n",
    "        cmd_list = ['python','ocn_functions.py','get_ocn_data_as_dict_pckl',yyyymmdd,run_type,ocn_mod,'ncks_para']\n",
    "        ret1 = subprocess.run(cmd_list)     \n",
    "        os.chdir('../driver')\n",
    "        print('hycom data saved with pickle, correctly?')\n",
    "        print(ret1)\n",
    "        print('0=yes,1=no')\n",
    "\n",
    "        with open(fn_pckl,'rb') as fp:\n",
    "            OCN = pickle.load(fp)\n",
    "            print('OCN dict now loaded with pickle')\n",
    "            print('after getting OCN from file, using:')\n",
    "            print(resource.getrusage(resource.RUSAGE_SELF).ru_maxrss)\n",
    "            print('kilobytes')\n",
    "\n",
    "else:\n",
    "    save_ocn = 0 # if 0, this loads the pickle file. if 1, it saves the pickle file\n",
    "    import pickle\n",
    "    # save the OCN dict so that we can restart the python session\n",
    "    # and not have to worry about opendap timing out\n",
    "    fnout='/scratch/PFM_Simulations/LV1_Forecast/Forc/ocn_dict_file_2024-07-29T12:00.pkl'\n",
    "    if save_ocn == 1:\n",
    "        with open(fnout,'wb') as fp:\n",
    "            pickle.dump(OCN,fp)\n",
    "            print('OCN dict saved with pickle')\n",
    "    else:\n",
    "        fn_pckl = PFM['lv1_forc_dir'] + '/' + PFM['lv1_ocn_tmp_pckl_file']\n",
    "        with open(fn_pckl,'rb') as fp:\n",
    "            #OCN = pickle.load(fp)\n",
    "            print('OCN dict loaded with pickle')\n",
    "            print('after getting OCN from file, using:')\n",
    "            print(resource.getrusage(resource.RUSAGE_SELF).ru_maxrss)\n",
    "            print('kilobytes')\n",
    "\n",
    "\n",
    "    "
   ]
  },
  {
   "cell_type": "code",
   "execution_count": 3,
   "metadata": {},
   "outputs": [
    {
     "name": "stdout",
     "output_type": "stream",
     "text": [
      "before gc.collect and getting OCN_R, using:\n",
      "638148\n",
      "kilobytes\n",
      "after gc.collect and before OCN_R, using:\n",
      "638148\n",
      "kilobytes\n",
      "starting: ocnfuns.hycom_to_roms_latlon(OCN,RMG)\n",
      "going to save OCN_R to temp pickle files.\n",
      "['python', 'ocn_functions.py', 'hycom_to_roms_latlon_pckl', '/scratch/PFM_Simulations/LV1_Forecast/Forc/hycom_tmp_pckl_file.pkl']\n"
     ]
    },
    {
     "name": "stderr",
     "output_type": "stream",
     "text": [
      "/home/mspydell/models/PFM_root/PFM/sdpm_py_util/ocn_functions.py:25: UserWarning: The seawater library is deprecated! Please use gsw instead.\n",
      "  import seawater\n"
     ]
    },
    {
     "name": "stdout",
     "output_type": "stream",
     "text": [
      "get_PFM_info(): running onswell\n",
      "/scratch/PFM_Simulations/LV1_Forecast/Forc/hycom_tmp_pckl_file.pkl\n",
      "OCN dict loaded with pickle\n",
      "before interp to roms grid, using:\n",
      "638148\n",
      "kilobytes\n",
      "doing:\n",
      "zeta\n",
      "doing:\n",
      "temp\n",
      "doing:\n",
      "salt\n",
      "doing:\n",
      "u\n",
      "doing:\n",
      "v\n",
      "before rotating urm, using:\n",
      "4476132\n",
      "kilobytes\n",
      "before rotating vrm, using:\n",
      "6363752\n",
      "kilobytes\n",
      "after v rotation. before ubar\n",
      "about to save OCN_R to multiple pickle files...\n",
      "after gc.collect and before pickling OCN_R, using:\n",
      "6363752\n",
      "kilobytes\n",
      "saved pickle file: /scratch/PFM_Simulations/LV1_Forecast/Forc/tmp_zeta.pkl\n",
      "saved pickle file: /scratch/PFM_Simulations/LV1_Forecast/Forc/tmp_salt.pkl\n",
      "saved pickle file: /scratch/PFM_Simulations/LV1_Forecast/Forc/tmp_temp.pkl\n",
      "saved pickle file: /scratch/PFM_Simulations/LV1_Forecast/Forc/tmp_ubar.pkl\n",
      "saved pickle file: /scratch/PFM_Simulations/LV1_Forecast/Forc/tmp_vbar.pkl\n",
      "saved pickle file: /scratch/PFM_Simulations/LV1_Forecast/Forc/tmp_lat_rho.pkl\n",
      "saved pickle file: /scratch/PFM_Simulations/LV1_Forecast/Forc/tmp_lon_rho.pkl\n",
      "saved pickle file: /scratch/PFM_Simulations/LV1_Forecast/Forc/tmp_lat_u.pkl\n",
      "saved pickle file: /scratch/PFM_Simulations/LV1_Forecast/Forc/tmp_lon_u.pkl\n",
      "saved pickle file: /scratch/PFM_Simulations/LV1_Forecast/Forc/tmp_lat_v.pkl\n",
      "saved pickle file: /scratch/PFM_Simulations/LV1_Forecast/Forc/tmp_lon_v.pkl\n",
      "saved pickle file: /scratch/PFM_Simulations/LV1_Forecast/Forc/tmp_depth.pkl\n",
      "saved pickle file: /scratch/PFM_Simulations/LV1_Forecast/Forc/tmp_ocean_time.pkl\n",
      "saved pickle file: /scratch/PFM_Simulations/LV1_Forecast/Forc/tmp_ocean_time_ref.pkl\n",
      "saved pickle file: /scratch/PFM_Simulations/LV1_Forecast/Forc/tmp_vinfo.pkl\n",
      "saved pickle file: /scratch/PFM_Simulations/LV1_Forecast/Forc/tmp_urm.pkl\n",
      "saved pickle file: /scratch/PFM_Simulations/LV1_Forecast/Forc/tmp_vrm.pkl\n",
      "OCN_R data saved to pickle files, correctly?\n",
      "CompletedProcess(args=['python', 'ocn_functions.py', 'hycom_to_roms_latlon_pckl', '/scratch/PFM_Simulations/LV1_Forecast/Forc/hycom_tmp_pckl_file.pkl'], returncode=0)\n",
      "0=yes,1=no\n",
      "driver_run_forecast_LV1: done with hycom_to_roms_latlon\n"
     ]
    }
   ],
   "source": [
    "\n",
    "print('before gc.collect and getting OCN_R, using:')\n",
    "print(resource.getrusage(resource.RUSAGE_SELF).ru_maxrss)\n",
    "print('kilobytes')\n",
    "gc.collect()\n",
    "print('after gc.collect and before OCN_R, using:')\n",
    "print(resource.getrusage(resource.RUSAGE_SELF).ru_maxrss)\n",
    "print('kilobytes')\n",
    "# put the ocn data on the roms grid\n",
    "print('starting: ocnfuns.hycom_to_roms_latlon(OCN,RMG)')\n",
    "sv_ocnR_pkl_file=1\n",
    "if sv_ocnR_pkl_file==0:\n",
    "    print('returning OCN_R')\n",
    "    OCN_R  = ocnfuns.hycom_to_roms_latlon(OCN,RMG)\n",
    "else:\n",
    "    print('going to save OCN_R to temp pickle files.')\n",
    "    os.chdir('../sdpm_py_util')\n",
    "    cmd_list = ['python','ocn_functions.py','hycom_to_roms_latlon_pckl',fn_pckl]\n",
    "    print(cmd_list)\n",
    "    ret2 = subprocess.run(cmd_list)     \n",
    "    os.chdir('../driver')\n",
    "    print('OCN_R data saved to pickle files, correctly?')\n",
    "    print(ret2)\n",
    "    print('0=yes,1=no')\n",
    "\n",
    "\n",
    "print('driver_run_forecast_LV1: done with hycom_to_roms_latlon')\n",
    "# add OCN + OCN_R plotting function here !!!\n",
    "print('using:')\n",
    "print(resource.getrusage(resource.RUSAGE_SELF).ru_maxrss)\n",
    "print('kilobytes')\n"
   ]
  },
  {
   "cell_type": "code",
   "execution_count": 3,
   "metadata": {},
   "outputs": [
    {
     "name": "stdout",
     "output_type": "stream",
     "text": [
      "get_PFM_info(): running onswell\n",
      "dict_keys(['depth', 'lat_rho', 'lon_rho', 'lat_u', 'lon_u', 'lat_v', 'lon_v', 'ocean_time', 'ocean_time_ref', 'salt', 'temp', 'ubar', 'urm', 'vbar', 'vrm', 'zeta', 'vinfo'])\n"
     ]
    }
   ],
   "source": [
    "OCN_R = ocnfuns.load_ocnR_from_pckl_files()\n",
    "print(OCN_R.keys())"
   ]
  },
  {
   "cell_type": "code",
   "execution_count": 2,
   "metadata": {},
   "outputs": [
    {
     "name": "stdout",
     "output_type": "stream",
     "text": [
      "using:\n",
      "265416\n",
      "kilobytes\n",
      "going to save OCN_IC to a pickle file to:\n",
      "/scratch/PFM_Simulations/LV1_Forecast/Forc/ocnIC_tmp_pckl_file.pkl\n"
     ]
    },
    {
     "name": "stderr",
     "output_type": "stream",
     "text": [
      "/home/mspydell/models/PFM_root/PFM/sdpm_py_util/ocn_functions.py:25: UserWarning: The seawater library is deprecated! Please use gsw instead.\n",
      "  import seawater\n"
     ]
    },
    {
     "name": "stdout",
     "output_type": "stream",
     "text": [
      "get_PFM_info(): running onswell\n",
      "get_PFM_info(): running onswell\n",
      "OCN_IC dict saved with pickle\n",
      "OCN IC data saved with pickle, correctly?\n",
      "CompletedProcess(args=['python', 'ocn_functions.py', 'ocn_r_2_ICdict_pckl', '/scratch/PFM_Simulations/LV1_Forecast/Forc/ocnIC_tmp_pckl_file.pkl'], returncode=0)\n",
      "0=yes,1=no\n",
      "driver_run_forecast_LV1: done with ocn_r_2_ICdict\n",
      "using:\n",
      "265416\n",
      "kilobytes\n"
     ]
    }
   ],
   "source": [
    "print('using:')\n",
    "print(resource.getrusage(resource.RUSAGE_SELF).ru_maxrss)\n",
    "print('kilobytes')\n",
    "# %%\n",
    "# get the OCN_IC dictionary\n",
    "\n",
    "fr_ocnR_pkl_file=1\n",
    "if fr_ocnR_pkl_file==0:\n",
    "    OCN_IC = ocnfuns.ocn_r_2_ICdict(OCN_R,RMG,PFM)\n",
    "else:\n",
    "    print('going to save OCN_IC to a pickle file to:')\n",
    "    ocnIC_pckl = PFM['lv1_forc_dir'] + '/' + PFM['lv1_ocnIC_tmp_pckl_file']\n",
    "    print(ocnIC_pckl) \n",
    "    os.chdir('../sdpm_py_util')\n",
    "    cmd_list = ['python','ocn_functions.py','ocn_r_2_ICdict_pckl',ocnIC_pckl]\n",
    "    ret3 = subprocess.run(cmd_list)     \n",
    "    os.chdir('../driver')\n",
    "    print('OCN IC data saved with pickle, correctly?')\n",
    "    print(ret3)\n",
    "    print('0=yes,1=no')\n",
    "\n",
    "\n",
    "\n",
    "print('driver_run_forecast_LV1: done with ocn_r_2_ICdict')\n",
    "# add OCN_IC.nc plotting function here !!!!\n",
    "print('using:')\n",
    "print(resource.getrusage(resource.RUSAGE_SELF).ru_maxrss)\n",
    "print('kilobytes')"
   ]
  },
  {
   "cell_type": "code",
   "execution_count": 3,
   "metadata": {},
   "outputs": [
    {
     "name": "stdout",
     "output_type": "stream",
     "text": [
      "using:\n",
      "264528\n",
      "kilobytes\n",
      "making IC file from pickled IC: /scratch/PFM_Simulations/LV1_Forecast/Forc/LV1_OCEAN_IC.nc\n"
     ]
    },
    {
     "name": "stderr",
     "output_type": "stream",
     "text": [
      "/home/mspydell/models/PFM_root/PFM/sdpm_py_util/ocn_functions.py:25: UserWarning: The seawater library is deprecated! Please use gsw instead.\n",
      "  import seawater\n"
     ]
    },
    {
     "name": "stdout",
     "output_type": "stream",
     "text": [
      "OCN_IC dict loaded with pickle\n",
      "<xarray.Dataset>\n",
      "Dimensions:      (time: 1, s_rho: 40, er: 390, xr: 253, eu: 390, xu: 252,\n",
      "                  ev: 389, xv: 253)\n",
      "Coordinates:\n",
      "    lat_rho      (er, xr) float64 28.52 28.53 28.54 28.55 ... 36.38 36.39 36.39\n",
      "    lon_rho      (er, xr) float64 -120.3 -120.2 -120.2 ... -118.8 -118.8 -118.8\n",
      "    lat_u        (eu, xu) float64 28.52 28.53 28.54 28.55 ... 36.38 36.38 36.39\n",
      "    lon_u        (eu, xu) float64 -120.3 -120.2 -120.2 ... -118.8 -118.8 -118.8\n",
      "    lat_v        (ev, xv) float64 28.53 28.54 28.54 28.55 ... 36.37 36.38 36.39\n",
      "    lon_v        (ev, xv) float64 -120.3 -120.2 -120.2 ... -118.8 -118.8 -118.8\n",
      "    ocean_time   (time) float64 9.346e+03\n",
      "    Cs_r         (s_rho) float64 -0.9827 -0.9383 ... -9.61e-05 -1.061e-05\n",
      "Dimensions without coordinates: time, s_rho, er, xr, eu, xu, ev, xv\n",
      "Data variables: (12/13)\n",
      "    temp         (time, s_rho, er, xr) float64 1.104 1.105 1.106 ... nan nan nan\n",
      "    salt         (time, s_rho, er, xr) float64 34.71 34.71 34.71 ... nan nan nan\n",
      "    u            (time, s_rho, eu, xu) float64 -0.000287 -0.0003532 ... nan nan\n",
      "    v            (time, s_rho, ev, xv) float64 0.001254 0.001298 ... nan nan\n",
      "    ubar         (time, eu, xu) float64 0.006841 0.006319 0.005831 ... nan nan\n",
      "    vbar         (time, ev, xv) float64 0.01166 0.01111 0.01065 ... nan nan nan\n",
      "    ...           ...\n",
      "    Vtransform   int64 2\n",
      "    Vstretching  int64 4\n",
      "    theta_s      float64 8.0\n",
      "    theta_b      float64 3.0\n",
      "    Tcline       float64 50.0\n",
      "    hc           float64 50.0\n",
      "Attributes:\n",
      "    type:       ocean initial condition file fields for starting roms\n",
      "    time info:  ocean time is from 1999/01/01 00:00:00\n",
      "OCN IC nc data saved, correctly?\n",
      "CompletedProcess(args=['python', 'ocn_functions.py', 'ocn_roms_IC_dict_to_netcdf_pckl', '/scratch/PFM_Simulations/LV1_Forecast/Forc/ocnIC_tmp_pckl_file.pkl', '/scratch/PFM_Simulations/LV1_Forecast/Forc/LV1_OCEAN_IC.nc'], returncode=0)\n",
      "0=yes,1=no\n",
      "OCN_IC dict loaded with pickle\n",
      "<xarray.Dataset>\n",
      "Dimensions:      (time: 1, s_rho: 40, er: 390, xr: 253, eu: 390, xu: 252,\n",
      "                  ev: 389, xv: 253)\n",
      "Coordinates:\n",
      "    lat_rho      (er, xr) float64 28.52 28.53 28.54 28.55 ... 36.38 36.39 36.39\n",
      "    lon_rho      (er, xr) float64 -120.3 -120.2 -120.2 ... -118.8 -118.8 -118.8\n",
      "    lat_u        (eu, xu) float64 28.52 28.53 28.54 28.55 ... 36.38 36.38 36.39\n",
      "    lon_u        (eu, xu) float64 -120.3 -120.2 -120.2 ... -118.8 -118.8 -118.8\n",
      "    lat_v        (ev, xv) float64 28.53 28.54 28.54 28.55 ... 36.37 36.38 36.39\n",
      "    lon_v        (ev, xv) float64 -120.3 -120.2 -120.2 ... -118.8 -118.8 -118.8\n",
      "    ocean_time   (time) float64 9.346e+03\n",
      "    Cs_r         (s_rho) float64 -0.9827 -0.9383 ... -9.61e-05 -1.061e-05\n",
      "Dimensions without coordinates: time, s_rho, er, xr, eu, xu, ev, xv\n",
      "Data variables: (12/13)\n",
      "    temp         (time, s_rho, er, xr) float64 1.104 1.105 1.106 ... nan nan nan\n",
      "    salt         (time, s_rho, er, xr) float64 34.71 34.71 34.71 ... nan nan nan\n",
      "    u            (time, s_rho, eu, xu) float64 -0.000287 -0.0003532 ... nan nan\n",
      "    v            (time, s_rho, ev, xv) float64 0.001254 0.001298 ... nan nan\n",
      "    ubar         (time, eu, xu) float64 0.006841 0.006319 0.005831 ... nan nan\n",
      "    vbar         (time, ev, xv) float64 0.01166 0.01111 0.01065 ... nan nan nan\n",
      "    ...           ...\n",
      "    Vtransform   int64 2\n",
      "    Vstretching  int64 4\n",
      "    theta_s      float64 8.0\n",
      "    theta_b      float64 3.0\n",
      "    Tcline       float64 50.0\n",
      "    hc           float64 50.0\n",
      "Attributes:\n",
      "    type:       ocean initial condition file fields for starting roms\n",
      "    time info:  ocean time is from 1999/01/01 00:00:00\n",
      "done makeing IC .nc file.\n",
      "using:\n",
      "410204\n",
      "kilobytes\n"
     ]
    }
   ],
   "source": [
    "print('using:')\n",
    "print(resource.getrusage(resource.RUSAGE_SELF).ru_maxrss)\n",
    "print('kilobytes')\n",
    "\n",
    "ic_file_out = PFM['lv1_forc_dir'] + '/' + PFM['lv1_ini_file']\n",
    "\n",
    "frm_ICpkl_file = 1\n",
    "if frm_ICpkl_file == 0:\n",
    "    print('making IC file: '+ ic_file_out)\n",
    "    ocnfuns.ocn_roms_IC_dict_to_netcdf(OCN_IC, ic_file_out)\n",
    "    print('done makeing IC file.')\n",
    "else:\n",
    "    print('making IC file from pickled IC: '+ ic_file_out)\n",
    "    cmd_list = ['python','ocn_functions.py','ocn_roms_IC_dict_to_netcdf_pckl',ocnIC_pckl,ic_file_out]\n",
    "    os.chdir('../sdpm_py_util')\n",
    "    ret4 = subprocess.run(cmd_list)     \n",
    "    os.chdir('../driver')\n",
    "    print('OCN IC nc data saved, correctly?')\n",
    "    print(ret4)\n",
    "    print('0=yes,1=no')\n",
    "    print('done makeing IC .nc file.')\n",
    "\n",
    "print('using:')\n",
    "print(resource.getrusage(resource.RUSAGE_SELF).ru_maxrss)\n",
    "print('kilobytes')\n",
    "\n"
   ]
  },
  {
   "cell_type": "code",
   "execution_count": 2,
   "metadata": {},
   "outputs": [
    {
     "name": "stdout",
     "output_type": "stream",
     "text": [
      "using:\n",
      "266136\n",
      "kilobytes\n",
      "going to save OCN_BC to a pickle file to:\n",
      "/scratch/PFM_Simulations/LV1_Forecast/Forc/ocnBC_tmp_pckl_file.pkl\n"
     ]
    },
    {
     "name": "stderr",
     "output_type": "stream",
     "text": [
      "/home/mspydell/models/PFM_root/PFM/sdpm_py_util/ocn_functions.py:25: UserWarning: The seawater library is deprecated! Please use gsw instead.\n",
      "  import seawater\n"
     ]
    },
    {
     "name": "stdout",
     "output_type": "stream",
     "text": [
      "get_PFM_info(): running onswell\n",
      "get_PFM_info(): running onswell\n",
      "got here 1\n",
      "got here 1a\n",
      "got here 1b\n",
      "got here 1c\n",
      "got here 2\n",
      "got here 3\n",
      "OCN_BC dict saved with pickle\n",
      "OCN BC data saved with pickle, correctly?\n",
      "CompletedProcess(args=['python', 'ocn_functions.py', 'ocn_r_2_BCdict_pckl', '/scratch/PFM_Simulations/LV1_Forecast/Forc/ocnBC_tmp_pckl_file.pkl'], returncode=0)\n",
      "0=yes,1=no\n"
     ]
    }
   ],
   "source": [
    "print('using:')\n",
    "print(resource.getrusage(resource.RUSAGE_SELF).ru_maxrss)\n",
    "print('kilobytes')\n",
    "# %%\n",
    "# get the OCN_IC dictionary\n",
    "\n",
    "fr_ocnR_pkl_file=1\n",
    "if fr_ocnR_pkl_file==0:\n",
    "    OCN_BC = ocnfuns.ocn_r_2_BCdict(OCN_R,RMG,PFM)\n",
    "else:\n",
    "    print('going to save OCN_BC to a pickle file to:')\n",
    "    ocnBC_pckl = PFM['lv1_forc_dir'] + '/' + PFM['lv1_ocnBC_tmp_pckl_file']\n",
    "    print(ocnBC_pckl) \n",
    "    os.chdir('../sdpm_py_util')\n",
    "    cmd_list = ['python','ocn_functions.py','ocn_r_2_BCdict_pckl',ocnBC_pckl]\n",
    "    ret4 = subprocess.run(cmd_list)     \n",
    "    os.chdir('../driver')\n",
    "    print('OCN BC data saved with pickle, correctly?')\n",
    "    print(ret4)\n",
    "    print('0=yes,1=no')\n",
    "    \n",
    "\n",
    "\n"
   ]
  },
  {
   "cell_type": "code",
   "execution_count": null,
   "metadata": {},
   "outputs": [],
   "source": [
    "print('using:')\n",
    "print(resource.getrusage(resource.RUSAGE_SELF).ru_maxrss)\n",
    "print('kilobytes')\n",
    "\n",
    "bc_file_out = PFM['lv1_forc_dir'] + '/' + PFM['lv1_bc_file']\n",
    "\n",
    "frm_BCpkl_file = 1\n",
    "if frm_ICpkl_file == 0:\n",
    "    print('making BC file: '+ bc_file_out)\n",
    "    ocnfuns.ocn_roms_BC_dict_to_netcdf(OCN_BC, bc_file_out)\n",
    "    print('done makeing BC nc file.')\n",
    "else:\n",
    "    print('making BC nc file from pickled BC: '+ bc_file_out)\n",
    "    cmd_list = ['python','ocn_functions.py','ocn_roms_BC_dict_to_netcdf_pckl',ocnIC_pckl,ic_file_out]\n",
    "    os.chdir('../sdpm_py_util')\n",
    "    ret5 = subprocess.run(cmd_list)     \n",
    "    os.chdir('../driver')\n",
    "    print('OCN BC nc data saved, correctly?')\n",
    "    print(ret5)\n",
    "    print('0=yes,1=no')\n",
    "    print('done makeing IC .nc file.')\n",
    "\n",
    "print('using:')\n",
    "print(resource.getrusage(resource.RUSAGE_SELF).ru_maxrss)\n",
    "print('kilobytes')\n",
    "\n",
    "\n",
    "frm_ICpkl_file = 1\n",
    "# get the OCN_BC dictionary\n",
    "\n",
    "print('driver_run_forecast_LV1: done with ocn_r_2_BCdict')\n"
   ]
  },
  {
   "cell_type": "code",
   "execution_count": 7,
   "metadata": {},
   "outputs": [
    {
     "name": "stdout",
     "output_type": "stream",
     "text": [
      "getting atm forecast for:\n",
      "[datetime.datetime(2024, 7, 29, 12, 0)\n",
      " datetime.datetime(2024, 7, 29, 15, 0)\n",
      " datetime.datetime(2024, 7, 29, 18, 0)\n",
      " datetime.datetime(2024, 7, 29, 21, 0)\n",
      " datetime.datetime(2024, 7, 30, 0, 0) datetime.datetime(2024, 7, 30, 3, 0)\n",
      " datetime.datetime(2024, 7, 30, 6, 0) datetime.datetime(2024, 7, 30, 9, 0)\n",
      " datetime.datetime(2024, 7, 30, 12, 0)\n",
      " datetime.datetime(2024, 7, 30, 15, 0)\n",
      " datetime.datetime(2024, 7, 30, 18, 0)\n",
      " datetime.datetime(2024, 7, 30, 21, 0)\n",
      " datetime.datetime(2024, 7, 31, 0, 0) datetime.datetime(2024, 7, 31, 3, 0)\n",
      " datetime.datetime(2024, 7, 31, 6, 0) datetime.datetime(2024, 7, 31, 9, 0)\n",
      " datetime.datetime(2024, 7, 31, 12, 0)\n",
      " datetime.datetime(2024, 7, 31, 15, 0)\n",
      " datetime.datetime(2024, 7, 31, 18, 0)\n",
      " datetime.datetime(2024, 7, 31, 21, 0) datetime.datetime(2024, 8, 1, 0, 0)]\n"
     ]
    }
   ],
   "source": [
    "# make a switch to see if this file exists. If it exists, we don't need to run the code in this block\n",
    "# first the atm data\n",
    "# get the data as a dict\n",
    "# need to specify hhmm because nam forecast are produced at 6 hr increments\n",
    "ATM = atmfuns.get_atm_data_as_dict(yyyymmdd,hhmm,run_type,atm_mod,'open_dap_nc',PFM)\n",
    "# put in a function to check to make sure that all the data is good\n",
    "# put in a function to plot the raw atm data if we want to\n",
    "\n",
    "\n",
    "# plot some stuff\n",
    "pltfuns.plot_atm_fields(ATM, RMG, PFM)\n",
    "print('done with plotting ATM fields')\n",
    "\n"
   ]
  },
  {
   "cell_type": "code",
   "execution_count": 9,
   "metadata": {},
   "outputs": [
    {
     "name": "stdout",
     "output_type": "stream",
     "text": [
      "done with: atmfuns.get_atm_data_on_roms_grid(ATM,RMG)\n"
     ]
    }
   ],
   "source": [
    "# put the atm data on the roms grid, and rotate the velocities\n",
    "# everything in this dict turn into the atm.nc file\n",
    "\n",
    "ATM_R  = atmfuns.get_atm_data_on_roms_grid(ATM,RMG)\n",
    "print('done with: atmfuns.get_atm_data_on_roms_grid(ATM,RMG)')\n",
    "# all the fields plotted with the data on roms grid\n",
    "\n",
    "\n",
    "pltfuns.plot_all_fields_in_one(ATM, ATM_R, RMG, PFM)\n",
    "print('done with: pltfuns.plot_all_fields_in_one(ATM, ATM_R, RMG, PFM)')\n"
   ]
  },
  {
   "cell_type": "code",
   "execution_count": 11,
   "metadata": {},
   "outputs": [
    {
     "name": "stdout",
     "output_type": "stream",
     "text": [
      "driver_run_forcast_LV1: saving ATM file to /scratch/PFM_Simulations/LV1_Forecast/Forc/LV1_ATM_FORCING.nc\n",
      "<xarray.Dataset>\n",
      "Dimensions:     (tair_time: 21, er: 390, xr: 253, pair_time: 21, qair_time: 21,\n",
      "                 wind_time: 21, rain_time: 21, srf_time: 21, lrf_time: 21,\n",
      "                 time: 21)\n",
      "Coordinates:\n",
      "    lat         (er, xr) float64 28.52 28.53 28.54 28.55 ... 36.38 36.39 36.39\n",
      "    lon         (er, xr) float64 -120.3 -120.2 -120.2 ... -118.8 -118.8 -118.8\n",
      "    ocean_time  (time) float64 9.342e+03 9.342e+03 ... 9.344e+03 9.344e+03\n",
      "  * tair_time   (tair_time) float64 9.342e+03 9.342e+03 ... 9.344e+03 9.344e+03\n",
      "  * pair_time   (pair_time) float64 9.342e+03 9.342e+03 ... 9.344e+03 9.344e+03\n",
      "  * qair_time   (qair_time) float64 9.342e+03 9.342e+03 ... 9.344e+03 9.344e+03\n",
      "  * wind_time   (wind_time) float64 9.342e+03 9.342e+03 ... 9.344e+03 9.344e+03\n",
      "  * rain_time   (rain_time) float64 9.342e+03 9.342e+03 ... 9.344e+03 9.344e+03\n",
      "  * srf_time    (srf_time) float64 9.342e+03 9.342e+03 ... 9.344e+03 9.344e+03\n",
      "  * lrf_time    (lrf_time) float64 9.342e+03 9.342e+03 ... 9.344e+03 9.344e+03\n",
      "Dimensions without coordinates: er, xr, time\n",
      "Data variables:\n",
      "    Tair        (tair_time, er, xr) float64 19.58 19.57 19.56 ... 35.78 35.69\n",
      "    Pair        (pair_time, er, xr) float64 1.016e+03 1.016e+03 ... 1.013e+03\n",
      "    Qair        (qair_time, er, xr) float64 87.58 87.68 87.98 ... 26.36 26.93\n",
      "    Uwind       (wind_time, er, xr) float64 -1.449 -1.431 -1.41 ... 2.082 2.099\n",
      "    Vwind       (wind_time, er, xr) float64 -6.866 -6.872 ... -2.049 -2.083\n",
      "    rain        (rain_time, er, xr) float64 0.0 0.0 0.0 0.0 ... 0.0 0.0 0.0 0.0\n",
      "    swrad       (srf_time, er, xr) float64 0.0 0.0 0.0 0.0 ... 470.7 471.5 471.1\n",
      "    lwrad       (lrf_time, er, xr) float64 -4.573 -4.418 ... -168.5 -168.4\n",
      "    lwrad_down  (lrf_time, er, xr) float64 399.4 399.5 399.5 ... 348.1 347.6\n",
      "Attributes:\n",
      "    type:       atmospheric forcing file fields for surface fluxes\n",
      "    time info:  ocean time is from 1999/01/01 00:00:00\n",
      "driver_run_forecast_LV1:  done with writing ATM file, Current time  2024-07-31 12:29:56.354362\n",
      "done with pltfuns.load_and_plot_atm(PFM)\n"
     ]
    }
   ],
   "source": [
    "# output a netcdf file of ATM_R\n",
    "# make the atm .nc file here.\n",
    "# fn_out is the name of the atm.nc file used by roms\n",
    "fn_out = PFM['lv1_forc_dir'] + '/' + PFM['lv1_atm_file'] # LV1 atm forcing filename\n",
    "print('driver_run_forcast_LV1: saving ATM file to ' + fn_out)\n",
    "atmfuns.atm_roms_dict_to_netcdf(ATM_R,fn_out)\n",
    "print('driver_run_forecast_LV1:  done with writing ATM file, Current time ', datetime.now())\n",
    "# put in a function to plot the atm.nc file if we want to\n",
    "pltfuns.load_and_plot_atm(RMG, PFM)\n",
    "print('done with pltfuns.load_and_plot_atm(PFM)')\n",
    "\n"
   ]
  },
  {
   "cell_type": "code",
   "execution_count": null,
   "metadata": {},
   "outputs": [],
   "source": [
    "\n",
    "print('driver_run_forecast_LV1:  now make .in and .sb files')\n",
    "\n",
    "pfm_driver_src_dir = os.getcwd()\n",
    "os.chdir('../sdpm_py_util')\n",
    "make_LV1_dotin_and_SLURM( PFM )\n",
    "\n",
    "# run command will be\n",
    "run_slurm_LV1(PFM)\n",
    "\n",
    "os.chdir(pfm_driver_src_dir)\n",
    "\n",
    "\n",
    "# postprocess figure generation\n",
    "# plot fields from his.nc\n",
    "\n"
   ]
  },
  {
   "cell_type": "code",
   "execution_count": 2,
   "metadata": {},
   "outputs": [
    {
     "name": "stdout",
     "output_type": "stream",
     "text": [
      "Time to get full file using ncks = 1517.43 sec\n",
      "Return code = 0 (0=success, 1=skipped ncks)\n",
      "driver_run_forecast_LV1: done with get_ocn_data_as_dict: Current time  2024-07-31 13:19:42.922055\n"
     ]
    }
   ],
   "source": [
    "# ========================================\n",
    "# OLD and testing stuff is below this line\n",
    "# ========================================\n",
    "\n",
    "# note, this function is hard wired to return 2.5 days of data\n",
    "# also note that the first time of this data is yyyymmdd 12:00Z\n",
    "# so we grab nam atm forecast data starting at this hour too.\n",
    "OCN = ocnfuns.get_ocn_data_as_dict(yyyymmdd,run_type,ocn_mod,'ncks',PFM)\n",
    "print('driver_run_forecast_LV1: done with get_ocn_data_as_dict: Current time ',datetime.now() )\n",
    "# add OCN plotting function here !!!!\n",
    "\n"
   ]
  },
  {
   "cell_type": "code",
   "execution_count": 6,
   "metadata": {},
   "outputs": [
    {
     "name": "stdout",
     "output_type": "stream",
     "text": [
      "[28.         28.04000092 28.07999992 28.12000084 28.15999985 28.20000076\n",
      " 28.23999977 28.28000069 28.31999969 28.36000061 28.39999962 28.44000053\n",
      " 28.47999954 28.52000046 28.55999947 28.60000038 28.63999939 28.68000031\n",
      " 28.71999931 28.76000023 28.79999924 28.84000015 28.87999916 28.92000008\n",
      " 28.95999908 29.         29.04000092 29.07999992 29.12000084 29.15999985\n",
      " 29.20000076 29.23999977 29.28000069 29.31999969 29.36000061 29.39999962\n",
      " 29.44000053 29.47999954 29.52000046 29.55999947 29.60000038 29.63999939\n",
      " 29.68000031 29.71999931 29.76000023 29.79999924 29.84000015 29.87999916\n",
      " 29.92000008 29.95999908 30.         30.04000092 30.07999992 30.12000084\n",
      " 30.15999985 30.20000076 30.23999977 30.28000069 30.31999969 30.36000061\n",
      " 30.39999962 30.44000053 30.47999954 30.52000046 30.55999947 30.60000038\n",
      " 30.63999939 30.68000031 30.71999931 30.76000023 30.79999924 30.84000015\n",
      " 30.87999916 30.92000008 30.95999908 31.         31.04000092 31.07999992\n",
      " 31.12000084 31.15999985 31.20000076 31.23999977 31.28000069 31.31999969\n",
      " 31.36000061 31.39999962 31.44000053 31.47999954 31.52000046 31.55999947\n",
      " 31.60000038 31.63999939 31.68000031 31.71999931 31.76000023 31.79999924\n",
      " 31.84000015 31.87999916 31.92000008 31.95999908 32.         32.04000092\n",
      " 32.08000183 32.11999893 32.15999985 32.20000076 32.24000168 32.27999878\n",
      " 32.31999969 32.36000061 32.40000153 32.43999863 32.47999954 32.52000046\n",
      " 32.56000137 32.59999847 32.63999939 32.68000031 32.72000122 32.75999832\n",
      " 32.79999924 32.84000015 32.88000107 32.91999817 32.95999908 33.\n",
      " 33.04000092 33.08000183 33.11999893 33.15999985 33.20000076 33.24000168\n",
      " 33.27999878 33.31999969 33.36000061 33.40000153 33.43999863 33.47999954\n",
      " 33.52000046 33.56000137 33.59999847 33.63999939 33.68000031 33.72000122\n",
      " 33.75999832 33.79999924 33.84000015 33.88000107 33.91999817 33.95999908\n",
      " 34.         34.04000092 34.08000183 34.11999893 34.15999985 34.20000076\n",
      " 34.24000168 34.27999878 34.31999969 34.36000061 34.40000153 34.43999863\n",
      " 34.47999954 34.52000046 34.56000137 34.59999847 34.63999939 34.68000031\n",
      " 34.72000122 34.75999832 34.79999924 34.84000015 34.88000107 34.91999817\n",
      " 34.95999908 35.         35.04000092 35.08000183 35.11999893 35.15999985\n",
      " 35.20000076 35.24000168 35.27999878 35.31999969 35.36000061 35.40000153\n",
      " 35.43999863 35.47999954 35.52000046 35.56000137 35.59999847 35.63999939\n",
      " 35.68000031 35.72000122 35.75999832 35.79999924 35.84000015 35.88000107\n",
      " 35.91999817 35.95999908 36.         36.04000092 36.08000183 36.11999893\n",
      " 36.15999985 36.20000076 36.24000168 36.27999878 36.31999969 36.36000061\n",
      " 36.40000153 36.43999863 36.47999954 36.52000046 36.56000137 36.59999847\n",
      " 36.63999939 36.68000031 36.72000122 36.75999832 36.79999924 36.84000015\n",
      " 36.88000107 36.91999817 36.95999908 37.        ]\n"
     ]
    }
   ],
   "source": [
    "import xarray as xr\n",
    "\n",
    "fn='/scratch/PFM_Simulations/LV1_Forecast/Forc/hy_cat_2024-07-29T12:00.nc'\n",
    "ds = xr.open_dataset(fn)\n",
    "print(ds.lat.values)\n"
   ]
  },
  {
   "cell_type": "code",
   "execution_count": 9,
   "metadata": {},
   "outputs": [
    {
     "name": "stdout",
     "output_type": "stream",
     "text": [
      "[]\n"
     ]
    }
   ],
   "source": [
    "import os\n",
    "import glob\n",
    "tstr = \"2024-07-30T12:00\"\n",
    "ffname = \"hy_\" + tstr + \"_*.nc\"\n",
    "full_fns_out = PFM['lv1_forc_dir'] + \"/\" + ffname\n",
    "ncfiles = glob.glob(full_fns_out)\n",
    "cat_fname = PFM['lv1_forc_dir'] + '/' + 'hy_cat_' + tstr + '.nc'\n",
    "\n",
    "print(ncfiles)\n"
   ]
  },
  {
   "cell_type": "code",
   "execution_count": 29,
   "metadata": {},
   "outputs": [
    {
     "name": "stdout",
     "output_type": "stream",
     "text": [
      "2024-07-30T12:00\n",
      "2024-07-30 12:00:00\n",
      "2024-08-02 00:00:00\n",
      "2024-08-02T00:00\n"
     ]
    }
   ],
   "source": [
    "from datetime import timedelta\n",
    "\n",
    "tstr = '2024-07-30T12:00'\n",
    "print(tstr)\n",
    "t1 = datetime.strptime(tstr,\"%Y-%m-%dT%H:%M\")\n",
    "t2 = t1 + 2.5 * timedelta(days=1)\n",
    "print(t1)\n",
    "print(t2)\n",
    "t2str = t2.strftime(\"%Y-%m-%dT%H:%M\")\n",
    "print(t2str)"
   ]
  },
  {
   "cell_type": "code",
   "execution_count": null,
   "metadata": {},
   "outputs": [],
   "source": []
  },
  {
   "cell_type": "code",
   "execution_count": null,
   "metadata": {},
   "outputs": [],
   "source": [
    "# a block of code to use ncks...\n",
    "import time\n",
    "import subprocess\n",
    "\n",
    "vstr = 'surf_el,water_temp,salinity,water_u,water_v,depth'\n",
    "\n",
    "# make the ocn IC and BC .nc files here\n",
    "# fn*_out are the names of the the IC.nc and BC.nc roms files\n",
    "lv1_forc_dir = PFM['lv1_forc_dir']   #'/Users/mspydell/research/FF2024/models/SDPM_mss/atm_stuff/ocn_test_IC_file.nc'\n",
    "full_fn_out = lv1_forc_dir + '/hycom_test_mss.nc'\n",
    "\n",
    "west =  PFM['latlonbox'][2]+360.0\n",
    "east =  PFM['latlonbox'][3]+360.0\n",
    "south = PFM['latlonbox'][0]\n",
    "north = PFM['latlonbox'][1]\n",
    "\n",
    "yyyy = yyyymmdd[0:4]\n",
    "mm = yyyymmdd[4:6]\n",
    "dd = yyyymmdd[6:8]\n",
    "\n",
    "# time limits\n",
    "dstr0 = yyyy + '-' + mm + '-' + dd + 'T12:00'\n",
    "dstr1 = yyyy + '-' + mm + '-' + str( int(dd) + 1 ) + 'T00:00'\n",
    "\n",
    "url='https://tds.hycom.org/thredds/dodsC/GLBy0.08/expt_93.0/FMRC/runs/' \n",
    "url2 = 'GLBy0.08_930_FMRC_RUN_' + yyyy + '-' + mm + '-' + dd + 'T12:00:00Z' \n",
    "url3 = url + url2\n",
    "cmd_list = ['ncks',\n",
    "    '-d', 'time,'+dstr0+','+dstr1,\n",
    "    '-d', 'lon,'+str(west)+','+str(east),\n",
    "    '-d', 'lat,'+str(south)+','+str(north),\n",
    "    '-v', vstr,\n",
    "    url3 ,\n",
    "    '-4', '-O', full_fn_out]\n",
    "\n",
    "print(cmd_list)\n",
    "\n",
    "# run ncks\n",
    "tt0 = time.time()\n",
    "ret1 = subprocess.call(cmd_list)\n"
   ]
  },
  {
   "cell_type": "code",
   "execution_count": 51,
   "metadata": {},
   "outputs": [
    {
     "name": "stdout",
     "output_type": "stream",
     "text": [
      "[9340.5   9340.625 9340.75  9340.875 9341.   ]\n"
     ]
    }
   ],
   "source": [
    "import xarray as xr\n",
    "from datetime import timedelta\n",
    "\n",
    "ds = xr.open_dataset(full_fn_out)\n",
    "#print(ds)\n",
    "\n",
    "t_hy = ds.time\n",
    "t_ref = PFM['modtime0']\n",
    "\n",
    "dt_day = (t_hy - np.datetime64(t_ref))  / np.timedelta64(1,'D')\n",
    "\n",
    "print(dt_day.values)\n",
    "#print(t_hy[0]-t_ref)\n",
    "\n",
    "\n",
    "#t_hy2 = datetime(t_hy)\n",
    "\n",
    "#t_ref?\n",
    "#deltat = t_hy - t_ref\n",
    "\n",
    "#print(deltat)\n",
    "\n",
    "\n",
    "#print(t_hy)\n",
    "#print(t_ref)\n",
    "      \n"
   ]
  },
  {
   "cell_type": "code",
   "execution_count": 5,
   "metadata": {},
   "outputs": [
    {
     "name": "stdout",
     "output_type": "stream",
     "text": [
      "[[0. 0. 0. 0. 0.]\n",
      " [0. 0. 0. 0. 0.]\n",
      " [0. 0. 0. 0. 0.]\n",
      " [0. 0. 0. 0. 0.]]\n"
     ]
    }
   ],
   "source": [
    "zz=np.random.randn(2,3,4,5)\n",
    "dum = zz[1,2,:,:]\n",
    "ang = np.random.randn(4,5)\n",
    "ang2 = np.tile(ang,(2,3,1,1))\n"
   ]
  },
  {
   "cell_type": "code",
   "execution_count": 1,
   "metadata": {},
   "outputs": [
    {
     "name": "stdout",
     "output_type": "stream",
     "text": [
      "/home/mspydell/models/PFM_root/PFM/driver\n",
      "make it through and subprocesses are still spinning\n",
      "/home/mspydell/models/PFM_root/PFM/driver\n"
     ]
    },
    {
     "name": "stderr",
     "output_type": "stream",
     "text": [
      "/home/mspydell/models/PFM_root/PFM/sdpm_py_util/ocn_functions.py:23: UserWarning: The seawater library is deprecated! Please use gsw instead.\n",
      "  import seawater\n",
      "/home/mspydell/models/PFM_root/PFM/sdpm_py_util/ocn_functions.py:23: UserWarning: The seawater library is deprecated! Please use gsw instead.\n",
      "  import seawater\n"
     ]
    },
    {
     "name": "stdout",
     "output_type": "stream",
     "text": [
      "in loop:\n",
      "0\n",
      "-13\n",
      "in loop:\n",
      "1\n",
      "31\n",
      "in loop:\n",
      "0\n",
      "-15\n",
      "in loop:\n",
      "2\n",
      "4\n",
      "in loop:\n",
      "1\n",
      "10\n",
      "in loop:\n",
      "3\n",
      "-20\n",
      "in loop:\n",
      "2\n",
      "21\n",
      "in loop:\n",
      "4\n",
      "28\n",
      "in loop:\n",
      "3\n",
      "-9\n",
      "in loop:\n",
      "0\n",
      "6\n",
      "in loop:\n",
      "4\n",
      "-16\n",
      "in loop:\n",
      "1\n",
      "-12\n",
      "in loop:\n",
      "0\n",
      "-5\n",
      "in loop:\n",
      "2\n",
      "-19\n",
      "in loop:\n",
      "1\n",
      "-6\n",
      "in loop:\n",
      "3\n",
      "21\n",
      "in loop:\n",
      "2\n",
      "32\n",
      "in loop:\n",
      "4\n",
      "-9\n",
      "in loop:\n",
      "3\n",
      "60\n",
      "in loop:\n",
      "4\n",
      "-15\n"
     ]
    }
   ],
   "source": [
    "import subprocess\n",
    "import os\n",
    "\n",
    "print(os.getcwd())\n",
    "os.chdir('../sdpm_py_util')\n",
    "cmd_list = ['python','ocn_functions.py','sum_fn','5','100']\n",
    "ret1 = subprocess.Popen(cmd_list)\n",
    "\n",
    "cmd_list2 = ['python','ocn_functions.py','sum_fn','5','100']\n",
    "ret2 = subprocess.Popen(cmd_list2)\n",
    "\n",
    "# placeing this here waits for the return code. i.e. the code is blocked here\n",
    "# if this is commented out. Then we can reach \n",
    "#ssd1 = ret1.communicate()[0]\n",
    "#rc1 = ret1.returncode\n",
    "#print(rc1)\n",
    "\n",
    "#d2 = ret2.communicate()[0]\n",
    "#rc2 = ret2.returncode\n",
    "#print(rc2)\n",
    "\n",
    "print('make it through and subprocesses are still spinning')\n",
    "\n",
    "os.chdir('../driver')\n",
    "print(os.getcwd())\n"
   ]
  },
  {
   "cell_type": "code",
   "execution_count": 4,
   "metadata": {},
   "outputs": [
    {
     "name": "stdout",
     "output_type": "stream",
     "text": [
      "return code 1 is now:\n",
      "0\n",
      "return code 2 is now:\n",
      "0\n"
     ]
    }
   ],
   "source": [
    "ssd1 = ret1.communicate()[0]\n",
    "rc1a = ret1.returncode\n",
    "print('return code 1 is now:')\n",
    "print(rc1a)\n",
    "ssd2 = ret2.communicate()[0]\n",
    "rc2a = ret2.returncode\n",
    "print('return code 2 is now:')\n",
    "print(rc2a)"
   ]
  }
 ],
 "metadata": {
  "kernelspec": {
   "display_name": "base",
   "language": "python",
   "name": "python3"
  },
  "language_info": {
   "codemirror_mode": {
    "name": "ipython",
    "version": 3
   },
   "file_extension": ".py",
   "mimetype": "text/x-python",
   "name": "python",
   "nbconvert_exporter": "python",
   "pygments_lexer": "ipython3",
   "version": "3.12.2"
  }
 },
 "nbformat": 4,
 "nbformat_minor": 2
}
