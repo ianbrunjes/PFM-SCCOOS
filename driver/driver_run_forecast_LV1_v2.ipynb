{
 "cells": [
  {
   "cell_type": "code",
   "execution_count": 2,
   "metadata": {},
   "outputs": [
    {
     "name": "stdout",
     "output_type": "stream",
     "text": [
      "get_PFM_info(): running onswell\n",
      "ocean boundary and initial conditions will be from:\n",
      "hycom\n",
      "atm forcing will be from:\n",
      "nam_nest\n",
      "Starting: driver_run_forecast_LV1: Current local Time = 2024-07-31 15:42:42.009276 UTC =  2024-07-31 22:42:42.009305+00:00\n",
      "Preparing forecast starting on  20240729\n"
     ]
    },
    {
     "name": "stderr",
     "output_type": "stream",
     "text": [
      "/home/mspydell/models/PFM_root/PFM/driver/../sdpm_py_util/ocn_functions.py:17: UserWarning: The seawater library is deprecated! Please use gsw instead.\n",
      "  import seawater\n"
     ]
    }
   ],
   "source": [
    "# -- driver_run_forecast_LV1.py  --\n",
    "# master python script to do a full LV1 forecast simulation\n",
    "\n",
    "\n",
    "import sys\n",
    "#import pickle\n",
    "import matplotlib.pyplot as plt\n",
    "import numpy as np\n",
    "import os\n",
    "from datetime import datetime, timezone\n",
    "#import xarray as xr\n",
    "#import netCDF4 as nc\n",
    "\n",
    "##############\n",
    "\n",
    "sys.path.append('../sdpm_py_util')\n",
    "\n",
    "import atm_functions as atmfuns\n",
    "import ocn_functions as ocnfuns\n",
    "import grid_functions as grdfuns\n",
    "import util_functions as utlfuns \n",
    "import plotting_functions as pltfuns\n",
    "from util_functions import s_coordinate_4\n",
    "from get_PFM_info import get_PFM_info\n",
    "from make_LV1_dotin_and_SLURM import make_LV1_dotin_and_SLURM\n",
    "from run_slurm_LV1 import run_slurm_LV1\n",
    "\n",
    "\n",
    "PFM=get_PFM_info()\n",
    "\n",
    "run_type = 'forecast'\n",
    "# we will use hycom for IC and BC\n",
    "ocn_mod = PFM['ocn_model']\n",
    "print('ocean boundary and initial conditions will be from:')\n",
    "print(ocn_mod)\n",
    "# we will use nam_nest for the atm forcing\n",
    "atm_mod = PFM['atm_model']\n",
    "print('atm forcing will be from:')\n",
    "print(atm_mod)\n",
    "# we will use opendap, and netcdf to grab ocn, and atm data\n",
    "get_method = 'open_dap_nc'\n",
    "# figure out what the time is local and UTC\n",
    "start_time = datetime.now()\n",
    "utc_time = datetime.now(timezone.utc)\n",
    "year_utc = utc_time.year\n",
    "month_utc = utc_time.month\n",
    "day_utc = utc_time.day\n",
    "hour_utc = utc_time.hour\n",
    "\n",
    "print(\"Starting: driver_run_forecast_LV1: Current local Time =\", start_time, \"UTC = \",utc_time)\n",
    "\n",
    "if hour_utc < 12:\n",
    "    hour_utc=12\n",
    "    day_utc=day_utc-1  # this only works if day_utc \\neq 1\n",
    "\n",
    "yyyymmdd = \"%d%02d%02d\" % (year_utc, month_utc, day_utc)\n",
    "    \n",
    "#yyyymmdd = '20240717'\n",
    "# the hour in Z of the forecast, hycom has forecasts once per day starting at 1200Z\n",
    "hhmm='1200'\n",
    "forecastZdatestr = yyyymmdd+hhmm+'Z'   # this could be used for model output to indicate when model was initialized.\n",
    "\n",
    "yyyymmdd = '20240729'\n",
    "print(\"Preparing forecast starting on \",yyyymmdd)\n",
    "\n",
    "\n",
    "# get the ROMS grid as a dict\n",
    "RMG = grdfuns.roms_grid_to_dict(PFM['lv1_grid_file'])\n"
   ]
  },
  {
   "cell_type": "code",
   "execution_count": null,
   "metadata": {},
   "outputs": [],
   "source": [
    "\n",
    "OCN = ocnfuns.get_ocn_data_as_dict(yyyymmdd,run_type,ocn_mod,'ncks_para',PFM)\n",
    "print('driver_run_forecast_LV1: done with get_ocn_data_as_dict: Current time ',datetime.now() )\n"
   ]
  },
  {
   "cell_type": "code",
   "execution_count": 7,
   "metadata": {},
   "outputs": [
    {
     "name": "stdout",
     "output_type": "stream",
     "text": [
      "getting atm forecast for:\n",
      "[datetime.datetime(2024, 7, 29, 12, 0)\n",
      " datetime.datetime(2024, 7, 29, 15, 0)\n",
      " datetime.datetime(2024, 7, 29, 18, 0)\n",
      " datetime.datetime(2024, 7, 29, 21, 0)\n",
      " datetime.datetime(2024, 7, 30, 0, 0) datetime.datetime(2024, 7, 30, 3, 0)\n",
      " datetime.datetime(2024, 7, 30, 6, 0) datetime.datetime(2024, 7, 30, 9, 0)\n",
      " datetime.datetime(2024, 7, 30, 12, 0)\n",
      " datetime.datetime(2024, 7, 30, 15, 0)\n",
      " datetime.datetime(2024, 7, 30, 18, 0)\n",
      " datetime.datetime(2024, 7, 30, 21, 0)\n",
      " datetime.datetime(2024, 7, 31, 0, 0) datetime.datetime(2024, 7, 31, 3, 0)\n",
      " datetime.datetime(2024, 7, 31, 6, 0) datetime.datetime(2024, 7, 31, 9, 0)\n",
      " datetime.datetime(2024, 7, 31, 12, 0)\n",
      " datetime.datetime(2024, 7, 31, 15, 0)\n",
      " datetime.datetime(2024, 7, 31, 18, 0)\n",
      " datetime.datetime(2024, 7, 31, 21, 0) datetime.datetime(2024, 8, 1, 0, 0)]\n"
     ]
    }
   ],
   "source": [
    "# make a switch to see if this file exists. If it exists, we don't need to run the code in this block\n",
    "# first the atm data\n",
    "# get the data as a dict\n",
    "# need to specify hhmm because nam forecast are produced at 6 hr increments\n",
    "ATM = atmfuns.get_atm_data_as_dict(yyyymmdd,hhmm,run_type,atm_mod,'open_dap_nc',PFM)\n",
    "# put in a function to check to make sure that all the data is good\n",
    "# put in a function to plot the raw atm data if we want to\n",
    "\n",
    "\n",
    "# plot some stuff\n",
    "pltfuns.plot_atm_fields(ATM, RMG, PFM)\n",
    "print('done with plotting ATM fields')\n",
    "\n"
   ]
  },
  {
   "cell_type": "code",
   "execution_count": 9,
   "metadata": {},
   "outputs": [
    {
     "name": "stdout",
     "output_type": "stream",
     "text": [
      "done with: atmfuns.get_atm_data_on_roms_grid(ATM,RMG)\n"
     ]
    }
   ],
   "source": [
    "# put the atm data on the roms grid, and rotate the velocities\n",
    "# everything in this dict turn into the atm.nc file\n",
    "\n",
    "ATM_R  = atmfuns.get_atm_data_on_roms_grid(ATM,RMG)\n",
    "print('done with: atmfuns.get_atm_data_on_roms_grid(ATM,RMG)')\n",
    "# all the fields plotted with the data on roms grid\n",
    "\n",
    "\n",
    "pltfuns.plot_all_fields_in_one(ATM, ATM_R, RMG, PFM)\n",
    "print('done with: pltfuns.plot_all_fields_in_one(ATM, ATM_R, RMG, PFM)')\n"
   ]
  },
  {
   "cell_type": "code",
   "execution_count": 11,
   "metadata": {},
   "outputs": [
    {
     "name": "stdout",
     "output_type": "stream",
     "text": [
      "driver_run_forcast_LV1: saving ATM file to /scratch/PFM_Simulations/LV1_Forecast/Forc/LV1_ATM_FORCING.nc\n",
      "<xarray.Dataset>\n",
      "Dimensions:     (tair_time: 21, er: 390, xr: 253, pair_time: 21, qair_time: 21,\n",
      "                 wind_time: 21, rain_time: 21, srf_time: 21, lrf_time: 21,\n",
      "                 time: 21)\n",
      "Coordinates:\n",
      "    lat         (er, xr) float64 28.52 28.53 28.54 28.55 ... 36.38 36.39 36.39\n",
      "    lon         (er, xr) float64 -120.3 -120.2 -120.2 ... -118.8 -118.8 -118.8\n",
      "    ocean_time  (time) float64 9.342e+03 9.342e+03 ... 9.344e+03 9.344e+03\n",
      "  * tair_time   (tair_time) float64 9.342e+03 9.342e+03 ... 9.344e+03 9.344e+03\n",
      "  * pair_time   (pair_time) float64 9.342e+03 9.342e+03 ... 9.344e+03 9.344e+03\n",
      "  * qair_time   (qair_time) float64 9.342e+03 9.342e+03 ... 9.344e+03 9.344e+03\n",
      "  * wind_time   (wind_time) float64 9.342e+03 9.342e+03 ... 9.344e+03 9.344e+03\n",
      "  * rain_time   (rain_time) float64 9.342e+03 9.342e+03 ... 9.344e+03 9.344e+03\n",
      "  * srf_time    (srf_time) float64 9.342e+03 9.342e+03 ... 9.344e+03 9.344e+03\n",
      "  * lrf_time    (lrf_time) float64 9.342e+03 9.342e+03 ... 9.344e+03 9.344e+03\n",
      "Dimensions without coordinates: er, xr, time\n",
      "Data variables:\n",
      "    Tair        (tair_time, er, xr) float64 19.58 19.57 19.56 ... 35.78 35.69\n",
      "    Pair        (pair_time, er, xr) float64 1.016e+03 1.016e+03 ... 1.013e+03\n",
      "    Qair        (qair_time, er, xr) float64 87.58 87.68 87.98 ... 26.36 26.93\n",
      "    Uwind       (wind_time, er, xr) float64 -1.449 -1.431 -1.41 ... 2.082 2.099\n",
      "    Vwind       (wind_time, er, xr) float64 -6.866 -6.872 ... -2.049 -2.083\n",
      "    rain        (rain_time, er, xr) float64 0.0 0.0 0.0 0.0 ... 0.0 0.0 0.0 0.0\n",
      "    swrad       (srf_time, er, xr) float64 0.0 0.0 0.0 0.0 ... 470.7 471.5 471.1\n",
      "    lwrad       (lrf_time, er, xr) float64 -4.573 -4.418 ... -168.5 -168.4\n",
      "    lwrad_down  (lrf_time, er, xr) float64 399.4 399.5 399.5 ... 348.1 347.6\n",
      "Attributes:\n",
      "    type:       atmospheric forcing file fields for surface fluxes\n",
      "    time info:  ocean time is from 1999/01/01 00:00:00\n",
      "driver_run_forecast_LV1:  done with writing ATM file, Current time  2024-07-31 12:29:56.354362\n",
      "done with pltfuns.load_and_plot_atm(PFM)\n"
     ]
    }
   ],
   "source": [
    "# output a netcdf file of ATM_R\n",
    "# make the atm .nc file here.\n",
    "# fn_out is the name of the atm.nc file used by roms\n",
    "fn_out = PFM['lv1_forc_dir'] + '/' + PFM['lv1_atm_file'] # LV1 atm forcing filename\n",
    "print('driver_run_forcast_LV1: saving ATM file to ' + fn_out)\n",
    "atmfuns.atm_roms_dict_to_netcdf(ATM_R,fn_out)\n",
    "print('driver_run_forecast_LV1:  done with writing ATM file, Current time ', datetime.now())\n",
    "# put in a function to plot the atm.nc file if we want to\n",
    "pltfuns.load_and_plot_atm(RMG, PFM)\n",
    "print('done with pltfuns.load_and_plot_atm(PFM)')\n",
    "\n"
   ]
  },
  {
   "cell_type": "code",
   "execution_count": 2,
   "metadata": {},
   "outputs": [
    {
     "name": "stdout",
     "output_type": "stream",
     "text": [
      "Time to get full file using ncks = 1517.43 sec\n",
      "Return code = 0 (0=success, 1=skipped ncks)\n",
      "driver_run_forecast_LV1: done with get_ocn_data_as_dict: Current time  2024-07-31 13:19:42.922055\n"
     ]
    }
   ],
   "source": [
    "# note, this function is hard wired to return 2.5 days of data\n",
    "# also note that the first time of this data is yyyymmdd 12:00Z\n",
    "# so we grab nam atm forecast data starting at this hour too.\n",
    "OCN = ocnfuns.get_ocn_data_as_dict(yyyymmdd,run_type,ocn_mod,'ncks',PFM)\n",
    "print('driver_run_forecast_LV1: done with get_ocn_data_as_dict: Current time ',datetime.now() )\n",
    "# add OCN plotting function here !!!!\n",
    "\n"
   ]
  },
  {
   "cell_type": "code",
   "execution_count": 3,
   "metadata": {},
   "outputs": [
    {
     "ename": "UnboundLocalError",
     "evalue": "cannot access local variable 'OCN' where it is not associated with a value",
     "output_type": "error",
     "traceback": [
      "\u001b[0;31m---------------------------------------------------------------------------\u001b[0m",
      "\u001b[0;31mUnboundLocalError\u001b[0m                         Traceback (most recent call last)",
      "Cell \u001b[0;32mIn[3], line 1\u001b[0m\n\u001b[0;32m----> 1\u001b[0m OCN \u001b[38;5;241m=\u001b[39m ocnfuns\u001b[38;5;241m.\u001b[39mget_ocn_data_as_dict(yyyymmdd,run_type,ocn_mod,\u001b[38;5;124m'\u001b[39m\u001b[38;5;124mncks_para\u001b[39m\u001b[38;5;124m'\u001b[39m,PFM)\n\u001b[1;32m      2\u001b[0m \u001b[38;5;28mprint\u001b[39m(\u001b[38;5;124m'\u001b[39m\u001b[38;5;124mdriver_run_forecast_LV1: done with get_ocn_data_as_dict: Current time \u001b[39m\u001b[38;5;124m'\u001b[39m,datetime\u001b[38;5;241m.\u001b[39mnow() )\n",
      "File \u001b[0;32m~/models/PFM_root/PFM/driver/../sdpm_py_util/ocn_functions.py:413\u001b[0m, in \u001b[0;36mget_ocn_data_as_dict\u001b[0;34m(yyyymmdd, run_type, ocn_mod, get_method, PFM)\u001b[0m\n\u001b[1;32m    405\u001b[0m     OCN[\u001b[38;5;124m'\u001b[39m\u001b[38;5;124mvinfo\u001b[39m\u001b[38;5;124m'\u001b[39m][\u001b[38;5;124m'\u001b[39m\u001b[38;5;124mv\u001b[39m\u001b[38;5;124m'\u001b[39m] \u001b[38;5;241m=\u001b[39m {\u001b[38;5;124m'\u001b[39m\u001b[38;5;124mlong_name\u001b[39m\u001b[38;5;124m'\u001b[39m:\u001b[38;5;124m'\u001b[39m\u001b[38;5;124mocean north south velocity\u001b[39m\u001b[38;5;124m'\u001b[39m,\n\u001b[1;32m    406\u001b[0m                     \u001b[38;5;124m'\u001b[39m\u001b[38;5;124munits\u001b[39m\u001b[38;5;124m'\u001b[39m:\u001b[38;5;124m'\u001b[39m\u001b[38;5;124mm/s\u001b[39m\u001b[38;5;124m'\u001b[39m,\n\u001b[1;32m    407\u001b[0m                     \u001b[38;5;124m'\u001b[39m\u001b[38;5;124mcoordinates\u001b[39m\u001b[38;5;124m'\u001b[39m:\u001b[38;5;124m'\u001b[39m\u001b[38;5;124mz,lat,lon\u001b[39m\u001b[38;5;124m'\u001b[39m,\n\u001b[1;32m    408\u001b[0m                     \u001b[38;5;124m'\u001b[39m\u001b[38;5;124mtime\u001b[39m\u001b[38;5;124m'\u001b[39m:\u001b[38;5;124m'\u001b[39m\u001b[38;5;124mocean_time\u001b[39m\u001b[38;5;124m'\u001b[39m}\n\u001b[1;32m    409\u001b[0m     OCN[\u001b[38;5;124m'\u001b[39m\u001b[38;5;124mvinfo\u001b[39m\u001b[38;5;124m'\u001b[39m][\u001b[38;5;124m'\u001b[39m\u001b[38;5;124mzeta\u001b[39m\u001b[38;5;124m'\u001b[39m] \u001b[38;5;241m=\u001b[39m {\u001b[38;5;124m'\u001b[39m\u001b[38;5;124mlong_name\u001b[39m\u001b[38;5;124m'\u001b[39m:\u001b[38;5;124m'\u001b[39m\u001b[38;5;124mocean sea surface height\u001b[39m\u001b[38;5;124m'\u001b[39m,\n\u001b[1;32m    410\u001b[0m                     \u001b[38;5;124m'\u001b[39m\u001b[38;5;124munits\u001b[39m\u001b[38;5;124m'\u001b[39m:\u001b[38;5;124m'\u001b[39m\u001b[38;5;124mm\u001b[39m\u001b[38;5;124m'\u001b[39m,\n\u001b[1;32m    411\u001b[0m                     \u001b[38;5;124m'\u001b[39m\u001b[38;5;124mcoordinates\u001b[39m\u001b[38;5;124m'\u001b[39m:\u001b[38;5;124m'\u001b[39m\u001b[38;5;124mlat,lon\u001b[39m\u001b[38;5;124m'\u001b[39m,\n\u001b[1;32m    412\u001b[0m                     \u001b[38;5;124m'\u001b[39m\u001b[38;5;124mtime\u001b[39m\u001b[38;5;124m'\u001b[39m:\u001b[38;5;124m'\u001b[39m\u001b[38;5;124mocean_time\u001b[39m\u001b[38;5;124m'\u001b[39m}\n\u001b[0;32m--> 413\u001b[0m \u001b[38;5;28;01mreturn\u001b[39;00m OCN\n",
      "\u001b[0;31mUnboundLocalError\u001b[0m: cannot access local variable 'OCN' where it is not associated with a value"
     ]
    }
   ],
   "source": []
  },
  {
   "cell_type": "code",
   "execution_count": 9,
   "metadata": {},
   "outputs": [
    {
     "name": "stdout",
     "output_type": "stream",
     "text": [
      "starting: ocnfuns.hycom_to_roms_latlon(OCN,RMG)\n",
      "driver_run_forecast_LV1: done with hycom_to_roms_latlon\n"
     ]
    }
   ],
   "source": [
    "\n",
    "# note this takes 24.5 minutes to run on my laptop\n",
    "# 3 times this timed out\n",
    "# will likely need to use a wget method and directly download .nc files (arh)\n",
    "# maybe downloading the netcdf file would be quicker? \n",
    "\n",
    "# %%\n",
    "# put the ocn data on the roms grid\n",
    "print('starting: ocnfuns.hycom_to_roms_latlon(OCN,RMG)')\n",
    "OCN_R  = ocnfuns.hycom_to_roms_latlon(OCN,RMG)\n",
    "print('driver_run_forecast_LV1: done with hycom_to_roms_latlon')\n",
    "# add OCN + OCN_R plotting function here !!!\n"
   ]
  },
  {
   "cell_type": "code",
   "execution_count": 11,
   "metadata": {},
   "outputs": [
    {
     "name": "stdout",
     "output_type": "stream",
     "text": [
      "driver_run_forecast_LV1: done with ocn_r_2_ICdict\n"
     ]
    }
   ],
   "source": [
    "\n",
    "# %%\n",
    "# get the OCN_IC dictionary\n",
    "OCN_IC = ocnfuns.ocn_r_2_ICdict(OCN_R,RMG)\n",
    "print('driver_run_forecast_LV1: done with ocn_r_2_ICdict')\n",
    "\n"
   ]
  },
  {
   "cell_type": "code",
   "execution_count": 12,
   "metadata": {},
   "outputs": [
    {
     "name": "stdout",
     "output_type": "stream",
     "text": [
      "<xarray.Dataset>\n",
      "Dimensions:      (time: 1, s_rho: 40, er: 390, xr: 253, eu: 390, xu: 252,\n",
      "                  ev: 389, xv: 253)\n",
      "Coordinates:\n",
      "    lat_rho      (er, xr) float64 28.52 28.53 28.54 28.55 ... 36.38 36.39 36.39\n",
      "    lon_rho      (er, xr) float64 -120.3 -120.2 -120.2 ... -118.8 -118.8 -118.8\n",
      "    lat_u        (eu, xu) float64 28.52 28.53 28.54 28.55 ... 36.38 36.38 36.39\n",
      "    lon_u        (eu, xu) float64 -120.3 -120.2 -120.2 ... -118.8 -118.8 -118.8\n",
      "    lat_v        (ev, xv) float64 28.53 28.54 28.54 28.55 ... 36.37 36.38 36.39\n",
      "    lon_v        (ev, xv) float64 -120.3 -120.2 -120.2 ... -118.8 -118.8 -118.8\n",
      "    ocean_time   (time) float64 9.34e+03\n",
      "    Cs_r         (s_rho) float64 -0.9827 -0.9383 ... -9.61e-05 -1.061e-05\n",
      "Dimensions without coordinates: time, s_rho, er, xr, eu, xu, ev, xv\n",
      "Data variables: (12/13)\n",
      "    temp         (time, s_rho, er, xr) float64 1.103 1.103 1.105 ... nan nan nan\n",
      "    salt         (time, s_rho, er, xr) float64 34.71 34.71 34.71 ... nan nan nan\n",
      "    u            (time, s_rho, eu, xu) float64 -0.0006733 -0.000741 ... nan nan\n",
      "    v            (time, s_rho, ev, xv) float64 0.000328 0.0002794 ... nan nan\n",
      "    ubar         (time, eu, xu) float64 0.005584 0.005005 0.004481 ... nan nan\n",
      "    vbar         (time, ev, xv) float64 0.007944 0.007215 0.006591 ... nan nan\n",
      "    ...           ...\n",
      "    Vtransform   int64 2\n",
      "    Vstretching  int64 4\n",
      "    theta_s      float64 8.0\n",
      "    theta_b      float64 3.0\n",
      "    Tcline       float64 50.0\n",
      "    hc           float64 50.0\n",
      "Attributes:\n",
      "    type:       ocean initial condition file fields for starting roms\n",
      "    time info:  ocean time is from 1999/01/01 00:00:00\n"
     ]
    }
   ],
   "source": [
    "\n",
    "# add OCN_IC.nc plotting function here !!!!\n",
    "ic_file_out = PFM['lv1_forc_dir'] + '/' + PFM['lv1_ini_file']\n",
    "ocnfuns.ocn_roms_IC_dict_to_netcdf(OCN_IC, ic_file_out)\n"
   ]
  },
  {
   "cell_type": "code",
   "execution_count": 13,
   "metadata": {},
   "outputs": [
    {
     "name": "stdout",
     "output_type": "stream",
     "text": [
      "driver_run_forecast_LV1: done with ocn_r_2_BCdict\n"
     ]
    }
   ],
   "source": [
    "# %%\n",
    "# get the OCN_BC dictionary\n",
    "bc_file_out = PFM['lv1_forc_dir'] + '/' + PFM['lv1_bc_file']\n",
    "OCN_BC = ocnfuns.ocn_r_2_BCdict(OCN_R,RMG)\n",
    "print('driver_run_forecast_LV1: done with ocn_r_2_BCdict')\n"
   ]
  },
  {
   "cell_type": "code",
   "execution_count": 14,
   "metadata": {},
   "outputs": [
    {
     "name": "stdout",
     "output_type": "stream",
     "text": [
      "<xarray.Dataset>\n",
      "Dimensions:      (time: 5, s_rho: 40, xr: 253, xu: 252, xv: 253, er: 390,\n",
      "                  eu: 390, ev: 389)\n",
      "Coordinates:\n",
      "    ocean_time   (time) float64 9.34e+03 9.341e+03 9.341e+03 9.341e+03 9.341e+03\n",
      "    Cs_r         (s_rho) float64 -0.9827 -0.9383 ... -9.61e-05 -1.061e-05\n",
      "Dimensions without coordinates: time, s_rho, xr, xu, xv, er, eu, ev\n",
      "Data variables: (12/27)\n",
      "    temp_south   (time, s_rho, xr) float64 1.103 1.103 1.105 ... nan nan nan\n",
      "    salt_south   (time, s_rho, xr) float64 34.71 34.71 34.71 ... nan nan nan\n",
      "    u_south      (time, s_rho, xu) float64 -0.0006733 -0.000741 ... nan nan\n",
      "    v_south      (time, s_rho, xv) float64 0.000328 0.0002794 ... nan nan\n",
      "    ubar_south   (time, xu) float64 0.005584 0.005005 0.004481 ... nan nan nan\n",
      "    vbar_south   (time, xv) float64 0.007944 0.007215 0.006591 ... nan nan nan\n",
      "    ...           ...\n",
      "    Vtransform   int64 2\n",
      "    Vstretching  int64 4\n",
      "    theta_s      float64 8.0\n",
      "    theta_b      float64 3.0\n",
      "    Tcline       float64 50.0\n",
      "    hc           float64 50.0\n",
      "Attributes:\n",
      "    type:       ocean boundary condition file fields for starting roms\n",
      "    time info:  ocean time is from 1999/01/01 00:00:00\n"
     ]
    }
   ],
   "source": [
    "\n",
    "\n",
    "# %%\n",
    "ocnfuns.ocn_roms_BC_dict_to_netcdf(OCN_BC, bc_file_out)\n"
   ]
  },
  {
   "cell_type": "code",
   "execution_count": 29,
   "metadata": {},
   "outputs": [
    {
     "name": "stdout",
     "output_type": "stream",
     "text": [
      "2024-07-30T12:00\n",
      "2024-07-30 12:00:00\n",
      "2024-08-02 00:00:00\n",
      "2024-08-02T00:00\n"
     ]
    }
   ],
   "source": [
    "from datetime import timedelta\n",
    "\n",
    "tstr = '2024-07-30T12:00'\n",
    "print(tstr)\n",
    "t1 = datetime.strptime(tstr,\"%Y-%m-%dT%H:%M\")\n",
    "t2 = t1 + 2.5 * timedelta(days=1)\n",
    "print(t1)\n",
    "print(t2)\n",
    "t2str = t2.strftime(\"%Y-%m-%dT%H:%M\")\n",
    "print(t2str)"
   ]
  },
  {
   "cell_type": "code",
   "execution_count": null,
   "metadata": {},
   "outputs": [],
   "source": [
    "\n",
    "print('driver_run_forecast_LV1:  now make .in and .sb files')\n",
    "\n",
    "pfm_driver_src_dir = os.getcwd()\n",
    "os.chdir('../sdpm_py_util')\n",
    "make_LV1_dotin_and_SLURM( PFM )\n",
    "\n",
    "# run command will be\n",
    "run_slurm_LV1(PFM)\n",
    "\n",
    "os.chdir(pfm_driver_src_dir)\n",
    "\n",
    "\n",
    "# postprocess figure generation\n",
    "# plot fields from his.nc\n",
    "\n"
   ]
  },
  {
   "cell_type": "code",
   "execution_count": null,
   "metadata": {},
   "outputs": [],
   "source": [
    "# a block of code to use ncks...\n",
    "import time\n",
    "import subprocess\n",
    "\n",
    "vstr = 'surf_el,water_temp,salinity,water_u,water_v,depth'\n",
    "\n",
    "# make the ocn IC and BC .nc files here\n",
    "# fn*_out are the names of the the IC.nc and BC.nc roms files\n",
    "lv1_forc_dir = PFM['lv1_forc_dir']   #'/Users/mspydell/research/FF2024/models/SDPM_mss/atm_stuff/ocn_test_IC_file.nc'\n",
    "full_fn_out = lv1_forc_dir + '/hycom_test_mss.nc'\n",
    "\n",
    "west =  PFM['latlonbox'][2]+360.0\n",
    "east =  PFM['latlonbox'][3]+360.0\n",
    "south = PFM['latlonbox'][0]\n",
    "north = PFM['latlonbox'][1]\n",
    "\n",
    "yyyy = yyyymmdd[0:4]\n",
    "mm = yyyymmdd[4:6]\n",
    "dd = yyyymmdd[6:8]\n",
    "\n",
    "# time limits\n",
    "dstr0 = yyyy + '-' + mm + '-' + dd + 'T12:00'\n",
    "dstr1 = yyyy + '-' + mm + '-' + str( int(dd) + 1 ) + 'T00:00'\n",
    "\n",
    "url='https://tds.hycom.org/thredds/dodsC/GLBy0.08/expt_93.0/FMRC/runs/' \n",
    "url2 = 'GLBy0.08_930_FMRC_RUN_' + yyyy + '-' + mm + '-' + dd + 'T12:00:00Z' \n",
    "url3 = url + url2\n",
    "cmd_list = ['ncks',\n",
    "    '-d', 'time,'+dstr0+','+dstr1,\n",
    "    '-d', 'lon,'+str(west)+','+str(east),\n",
    "    '-d', 'lat,'+str(south)+','+str(north),\n",
    "    '-v', vstr,\n",
    "    url3 ,\n",
    "    '-4', '-O', full_fn_out]\n",
    "\n",
    "print(cmd_list)\n",
    "\n",
    "# run ncks\n",
    "tt0 = time.time()\n",
    "ret1 = subprocess.call(cmd_list)\n"
   ]
  },
  {
   "cell_type": "code",
   "execution_count": 51,
   "metadata": {},
   "outputs": [
    {
     "name": "stdout",
     "output_type": "stream",
     "text": [
      "[9340.5   9340.625 9340.75  9340.875 9341.   ]\n"
     ]
    }
   ],
   "source": [
    "import xarray as xr\n",
    "from datetime import timedelta\n",
    "\n",
    "ds = xr.open_dataset(full_fn_out)\n",
    "#print(ds)\n",
    "\n",
    "t_hy = ds.time\n",
    "t_ref = PFM['modtime0']\n",
    "\n",
    "dt_day = (t_hy - np.datetime64(t_ref))  / np.timedelta64(1,'D')\n",
    "\n",
    "print(dt_day.values)\n",
    "#print(t_hy[0]-t_ref)\n",
    "\n",
    "\n",
    "#t_hy2 = datetime(t_hy)\n",
    "\n",
    "#t_ref?\n",
    "#deltat = t_hy - t_ref\n",
    "\n",
    "#print(deltat)\n",
    "\n",
    "\n",
    "#print(t_hy)\n",
    "#print(t_ref)\n",
    "      \n"
   ]
  }
 ],
 "metadata": {
  "kernelspec": {
   "display_name": "base",
   "language": "python",
   "name": "python3"
  },
  "language_info": {
   "codemirror_mode": {
    "name": "ipython",
    "version": 3
   },
   "file_extension": ".py",
   "mimetype": "text/x-python",
   "name": "python",
   "nbconvert_exporter": "python",
   "pygments_lexer": "ipython3",
   "version": "3.12.2"
  }
 },
 "nbformat": 4,
 "nbformat_minor": 2
}
