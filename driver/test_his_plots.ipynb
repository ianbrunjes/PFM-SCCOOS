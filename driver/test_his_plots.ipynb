{
 "cells": [
  {
   "cell_type": "code",
   "execution_count": 12,
   "metadata": {},
   "outputs": [],
   "source": [
    "import netCDF4\n",
    "import numpy as np\n",
    "import matplotlib.pyplot as plt\n",
    "import sys\n",
    "sys.path.append('../sdpm_py_util')\n",
    "import ocn_functions as ocnfuns\n",
    "import plotting_functions as pltfuns\n",
    "import glob\n",
    "from get_PFM_info import get_PFM_info\n",
    "from datetime import datetime, timedelta\n",
    "from netCDF4 import num2date, date2num, date2index\n"
   ]
  },
  {
   "cell_type": "code",
   "execution_count": 18,
   "metadata": {},
   "outputs": [
    {
     "ename": "FileNotFoundError",
     "evalue": "[Errno 2] No such file or directory: b'/scratch/PFM_Simulations/LV1_Forecast/His/LV1_ocean_his.nc'",
     "output_type": "error",
     "traceback": [
      "\u001b[0;31m---------------------------------------------------------------------------\u001b[0m",
      "\u001b[0;31mFileNotFoundError\u001b[0m                         Traceback (most recent call last)",
      "Cell \u001b[0;32mIn[18], line 5\u001b[0m\n\u001b[1;32m      2\u001b[0m PFM\u001b[38;5;241m=\u001b[39mget_PFM_info()\n\u001b[1;32m      3\u001b[0m fn \u001b[38;5;241m=\u001b[39m \u001b[38;5;124m'\u001b[39m\u001b[38;5;124m/scratch/PFM_Simulations/LV1_Forecast/His/LV1_ocean_his.nc\u001b[39m\u001b[38;5;124m'\u001b[39m\n\u001b[0;32m----> 5\u001b[0m his_ds \u001b[38;5;241m=\u001b[39m netCDF4\u001b[38;5;241m.\u001b[39mDataset(fn)\n\u001b[1;32m      6\u001b[0m times \u001b[38;5;241m=\u001b[39m his_ds\u001b[38;5;241m.\u001b[39mvariables[\u001b[38;5;124m'\u001b[39m\u001b[38;5;124mocean_time\u001b[39m\u001b[38;5;124m'\u001b[39m]\n\u001b[1;32m      7\u001b[0m times2 \u001b[38;5;241m=\u001b[39m num2date(times[:], times\u001b[38;5;241m.\u001b[39munits)\n",
      "File \u001b[0;32msrc/netCDF4/_netCDF4.pyx:2463\u001b[0m, in \u001b[0;36mnetCDF4._netCDF4.Dataset.__init__\u001b[0;34m()\u001b[0m\n",
      "File \u001b[0;32msrc/netCDF4/_netCDF4.pyx:2026\u001b[0m, in \u001b[0;36mnetCDF4._netCDF4._ensure_nc_success\u001b[0;34m()\u001b[0m\n",
      "\u001b[0;31mFileNotFoundError\u001b[0m: [Errno 2] No such file or directory: b'/scratch/PFM_Simulations/LV1_Forecast/His/LV1_ocean_his.nc'"
     ]
    }
   ],
   "source": [
    "\n",
    "# Use the glob module to get a list of all files in the current directory\n",
    "PFM=get_PFM_info()\n",
    "fn = '/scratch/PFM_Simulations/LV1_Forecast/His/LV1_ocean_his.nc'\n",
    "\n",
    "his_ds = netCDF4.Dataset(fn)\n",
    "times = his_ds.variables['ocean_time']\n",
    "times2 = num2date(times[:], times.units)\n",
    "\n",
    "print(times2)\n",
    "\n",
    "\n"
   ]
  },
  {
   "cell_type": "code",
   "execution_count": null,
   "metadata": {},
   "outputs": [],
   "source": [
    "t,eta = pltfuns.get_hisncs_tseries('zeta')"
   ]
  }
 ],
 "metadata": {
  "kernelspec": {
   "display_name": "base",
   "language": "python",
   "name": "python3"
  },
  "language_info": {
   "codemirror_mode": {
    "name": "ipython",
    "version": 3
   },
   "file_extension": ".py",
   "mimetype": "text/x-python",
   "name": "python",
   "nbconvert_exporter": "python",
   "pygments_lexer": "ipython3",
   "version": "3.12.2"
  }
 },
 "nbformat": 4,
 "nbformat_minor": 2
}
