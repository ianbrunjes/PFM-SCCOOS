{
 "cells": [
  {
   "cell_type": "code",
   "execution_count": 12,
   "metadata": {},
   "outputs": [],
   "source": [
    "import netCDF4\n",
    "import numpy as np\n",
    "import matplotlib.pyplot as plt\n",
    "import sys\n",
    "sys.path.append('../sdpm_py_util')\n",
    "import ocn_functions as ocnfuns\n",
    "import plotting_functions as pltfuns\n",
    "import glob\n",
    "from get_PFM_info import get_PFM_info\n",
    "from datetime import datetime, timedelta\n",
    "from netCDF4 import num2date, date2num, date2index\n"
   ]
  },
  {
   "cell_type": "code",
   "execution_count": 17,
   "metadata": {},
   "outputs": [
    {
     "name": "stdout",
     "output_type": "stream",
     "text": [
      "['/scratch/PFM_Simulations/LV1_Forecast/His/LV1_ocean_his_0001.nc', '/scratch/PFM_Simulations/LV1_Forecast/His/LV1_ocean_his_0002.nc', '/scratch/PFM_Simulations/LV1_Forecast/His/LV1_ocean_his_0003.nc', '/scratch/PFM_Simulations/LV1_Forecast/His/LV1_ocean_his_0004.nc', '/scratch/PFM_Simulations/LV1_Forecast/His/LV1_ocean_his_0005.nc', '/scratch/PFM_Simulations/LV1_Forecast/His/LV1_ocean_his_0006.nc', '/scratch/PFM_Simulations/LV1_Forecast/His/LV1_ocean_his_0007.nc', '/scratch/PFM_Simulations/LV1_Forecast/His/LV1_ocean_his_0008.nc', '/scratch/PFM_Simulations/LV1_Forecast/His/LV1_ocean_his_0009.nc', '/scratch/PFM_Simulations/LV1_Forecast/His/LV1_ocean_his_0010.nc', '/scratch/PFM_Simulations/LV1_Forecast/His/LV1_ocean_his_0011.nc', '/scratch/PFM_Simulations/LV1_Forecast/His/LV1_ocean_his_0012.nc', '/scratch/PFM_Simulations/LV1_Forecast/His/LV1_ocean_his_0013.nc', '/scratch/PFM_Simulations/LV1_Forecast/His/LV1_ocean_his_0014.nc', '/scratch/PFM_Simulations/LV1_Forecast/His/LV1_ocean_his_0015.nc', '/scratch/PFM_Simulations/LV1_Forecast/His/LV1_ocean_his_0016.nc', '/scratch/PFM_Simulations/LV1_Forecast/His/LV1_ocean_his_0017.nc', '/scratch/PFM_Simulations/LV1_Forecast/His/LV1_ocean_his_0018.nc', '/scratch/PFM_Simulations/LV1_Forecast/His/LV1_ocean_his_0019.nc', '/scratch/PFM_Simulations/LV1_Forecast/His/LV1_ocean_his_0020.nc', '/scratch/PFM_Simulations/LV1_Forecast/His/LV1_ocean_his_0021.nc', '/scratch/PFM_Simulations/LV1_Forecast/His/LV1_ocean_his_0022.nc', '/scratch/PFM_Simulations/LV1_Forecast/His/LV1_ocean_his_0023.nc', '/scratch/PFM_Simulations/LV1_Forecast/His/LV1_ocean_his_0024.nc', '/scratch/PFM_Simulations/LV1_Forecast/His/LV1_ocean_his_0025.nc', '/scratch/PFM_Simulations/LV1_Forecast/His/LV1_ocean_his_0026.nc', '/scratch/PFM_Simulations/LV1_Forecast/His/LV1_ocean_his_0027.nc', '/scratch/PFM_Simulations/LV1_Forecast/His/LV1_ocean_his_0028.nc', '/scratch/PFM_Simulations/LV1_Forecast/His/LV1_ocean_his_0029.nc', '/scratch/PFM_Simulations/LV1_Forecast/His/LV1_ocean_his_0030.nc', '/scratch/PFM_Simulations/LV1_Forecast/His/LV1_ocean_his_0031.nc', '/scratch/PFM_Simulations/LV1_Forecast/His/LV1_ocean_his_0032.nc', '/scratch/PFM_Simulations/LV1_Forecast/His/LV1_ocean_his_0033.nc', '/scratch/PFM_Simulations/LV1_Forecast/His/LV1_ocean_his_0034.nc', '/scratch/PFM_Simulations/LV1_Forecast/His/LV1_ocean_his_0035.nc', '/scratch/PFM_Simulations/LV1_Forecast/His/LV1_ocean_his_0036.nc', '/scratch/PFM_Simulations/LV1_Forecast/His/LV1_ocean_his_0037.nc', '/scratch/PFM_Simulations/LV1_Forecast/His/LV1_ocean_his_0038.nc', '/scratch/PFM_Simulations/LV1_Forecast/His/LV1_ocean_his_0039.nc', '/scratch/PFM_Simulations/LV1_Forecast/His/LV1_ocean_his_0040.nc', '/scratch/PFM_Simulations/LV1_Forecast/His/LV1_ocean_his_0041.nc', '/scratch/PFM_Simulations/LV1_Forecast/His/LV1_ocean_his_0042.nc', '/scratch/PFM_Simulations/LV1_Forecast/His/LV1_ocean_his_0043.nc', '/scratch/PFM_Simulations/LV1_Forecast/His/LV1_ocean_his_0044.nc', '/scratch/PFM_Simulations/LV1_Forecast/His/LV1_ocean_his_0045.nc', '/scratch/PFM_Simulations/LV1_Forecast/His/LV1_ocean_his_0046.nc', '/scratch/PFM_Simulations/LV1_Forecast/His/LV1_ocean_his_0047.nc', '/scratch/PFM_Simulations/LV1_Forecast/His/LV1_ocean_his_0048.nc', '/scratch/PFM_Simulations/LV1_Forecast/His/LV1_ocean_his_0049.nc', '/scratch/PFM_Simulations/LV1_Forecast/His/LV1_ocean_his_0050.nc', '/scratch/PFM_Simulations/LV1_Forecast/His/LV1_ocean_his_0051.nc', '/scratch/PFM_Simulations/LV1_Forecast/His/LV1_ocean_his_0052.nc', '/scratch/PFM_Simulations/LV1_Forecast/His/LV1_ocean_his_0053.nc', '/scratch/PFM_Simulations/LV1_Forecast/His/LV1_ocean_his_0054.nc', '/scratch/PFM_Simulations/LV1_Forecast/His/LV1_ocean_his_0055.nc', '/scratch/PFM_Simulations/LV1_Forecast/His/LV1_ocean_his_0056.nc', '/scratch/PFM_Simulations/LV1_Forecast/His/LV1_ocean_his_0057.nc', '/scratch/PFM_Simulations/LV1_Forecast/His/LV1_ocean_his_0058.nc', '/scratch/PFM_Simulations/LV1_Forecast/His/LV1_ocean_his_0059.nc', '/scratch/PFM_Simulations/LV1_Forecast/His/LV1_ocean_his_0060.nc', '/scratch/PFM_Simulations/LV1_Forecast/His/LV1_ocean_his_0061.nc']\n",
      "[cftime.DatetimeGregorian(2024, 8, 17, 12, 0, 0, 0, has_year_zero=False)]\n",
      "[cftime.DatetimeGregorian(2024, 8, 17, 13, 0, 0, 0, has_year_zero=False)]\n",
      "[cftime.DatetimeGregorian(2024, 8, 17, 14, 0, 0, 0, has_year_zero=False)]\n",
      "[cftime.DatetimeGregorian(2024, 8, 17, 15, 0, 0, 0, has_year_zero=False)]\n",
      "[cftime.DatetimeGregorian(2024, 8, 17, 16, 0, 0, 0, has_year_zero=False)]\n",
      "[cftime.DatetimeGregorian(2024, 8, 17, 17, 0, 0, 0, has_year_zero=False)]\n",
      "[cftime.DatetimeGregorian(2024, 8, 17, 18, 0, 0, 0, has_year_zero=False)]\n",
      "[cftime.DatetimeGregorian(2024, 8, 17, 19, 0, 0, 0, has_year_zero=False)]\n",
      "[cftime.DatetimeGregorian(2024, 8, 17, 20, 0, 0, 0, has_year_zero=False)]\n",
      "[cftime.DatetimeGregorian(2024, 8, 17, 21, 0, 0, 0, has_year_zero=False)]\n",
      "[cftime.DatetimeGregorian(2024, 8, 17, 22, 0, 0, 0, has_year_zero=False)]\n",
      "[cftime.DatetimeGregorian(2024, 8, 17, 23, 0, 0, 0, has_year_zero=False)]\n",
      "[cftime.DatetimeGregorian(2024, 8, 18, 0, 0, 0, 0, has_year_zero=False)]\n",
      "[cftime.DatetimeGregorian(2024, 8, 18, 1, 0, 0, 0, has_year_zero=False)]\n",
      "[cftime.DatetimeGregorian(2024, 8, 18, 2, 0, 0, 0, has_year_zero=False)]\n",
      "[cftime.DatetimeGregorian(2024, 8, 18, 3, 0, 0, 0, has_year_zero=False)]\n",
      "[cftime.DatetimeGregorian(2024, 8, 18, 4, 0, 0, 0, has_year_zero=False)]\n",
      "[cftime.DatetimeGregorian(2024, 8, 18, 5, 0, 0, 0, has_year_zero=False)]\n",
      "[cftime.DatetimeGregorian(2024, 8, 18, 6, 0, 0, 0, has_year_zero=False)]\n",
      "[cftime.DatetimeGregorian(2024, 8, 18, 7, 0, 0, 0, has_year_zero=False)]\n",
      "[cftime.DatetimeGregorian(2024, 8, 18, 8, 0, 0, 0, has_year_zero=False)]\n",
      "[cftime.DatetimeGregorian(2024, 8, 18, 9, 0, 0, 0, has_year_zero=False)]\n",
      "[cftime.DatetimeGregorian(2024, 8, 18, 10, 0, 0, 0, has_year_zero=False)]\n",
      "[cftime.DatetimeGregorian(2024, 8, 18, 11, 0, 0, 0, has_year_zero=False)]\n",
      "[cftime.DatetimeGregorian(2024, 8, 18, 12, 0, 0, 0, has_year_zero=False)]\n",
      "[cftime.DatetimeGregorian(2024, 8, 18, 13, 0, 0, 0, has_year_zero=False)]\n",
      "[cftime.DatetimeGregorian(2024, 8, 18, 14, 0, 0, 0, has_year_zero=False)]\n",
      "[cftime.DatetimeGregorian(2024, 8, 18, 15, 0, 0, 0, has_year_zero=False)]\n",
      "[cftime.DatetimeGregorian(2024, 8, 18, 16, 0, 0, 0, has_year_zero=False)]\n",
      "[cftime.DatetimeGregorian(2024, 8, 18, 17, 0, 0, 0, has_year_zero=False)]\n",
      "[cftime.DatetimeGregorian(2024, 8, 18, 18, 0, 0, 0, has_year_zero=False)]\n",
      "[cftime.DatetimeGregorian(2024, 8, 18, 19, 0, 0, 0, has_year_zero=False)]\n",
      "[cftime.DatetimeGregorian(2024, 8, 18, 20, 0, 0, 0, has_year_zero=False)]\n",
      "[cftime.DatetimeGregorian(2024, 8, 18, 21, 0, 0, 0, has_year_zero=False)]\n",
      "[cftime.DatetimeGregorian(2024, 8, 18, 22, 0, 0, 0, has_year_zero=False)]\n",
      "[cftime.DatetimeGregorian(2024, 8, 18, 23, 0, 0, 0, has_year_zero=False)]\n",
      "[cftime.DatetimeGregorian(2024, 8, 19, 0, 0, 0, 0, has_year_zero=False)]\n",
      "[cftime.DatetimeGregorian(2024, 8, 19, 1, 0, 0, 0, has_year_zero=False)]\n",
      "[cftime.DatetimeGregorian(2024, 8, 19, 2, 0, 0, 0, has_year_zero=False)]\n",
      "[cftime.DatetimeGregorian(2024, 8, 19, 3, 0, 0, 0, has_year_zero=False)]\n",
      "[cftime.DatetimeGregorian(2024, 8, 19, 4, 0, 0, 0, has_year_zero=False)]\n",
      "[cftime.DatetimeGregorian(2024, 8, 19, 5, 0, 0, 0, has_year_zero=False)]\n",
      "[cftime.DatetimeGregorian(2024, 8, 19, 6, 0, 0, 0, has_year_zero=False)]\n",
      "[cftime.DatetimeGregorian(2024, 8, 19, 7, 0, 0, 0, has_year_zero=False)]\n",
      "[cftime.DatetimeGregorian(2024, 8, 19, 8, 0, 0, 0, has_year_zero=False)]\n",
      "[cftime.DatetimeGregorian(2024, 8, 19, 9, 0, 0, 0, has_year_zero=False)]\n",
      "[cftime.DatetimeGregorian(2024, 8, 19, 10, 0, 0, 0, has_year_zero=False)]\n",
      "[cftime.DatetimeGregorian(2024, 8, 19, 11, 0, 0, 0, has_year_zero=False)]\n",
      "[cftime.DatetimeGregorian(2024, 8, 19, 12, 0, 0, 0, has_year_zero=False)]\n",
      "[cftime.DatetimeGregorian(2024, 8, 19, 13, 0, 0, 0, has_year_zero=False)]\n",
      "[cftime.DatetimeGregorian(2024, 8, 19, 14, 0, 0, 0, has_year_zero=False)]\n",
      "[cftime.DatetimeGregorian(2024, 8, 19, 15, 0, 0, 0, has_year_zero=False)]\n",
      "[cftime.DatetimeGregorian(2024, 8, 19, 16, 0, 0, 0, has_year_zero=False)]\n",
      "[cftime.DatetimeGregorian(2024, 8, 19, 17, 0, 0, 0, has_year_zero=False)]\n",
      "[cftime.DatetimeGregorian(2024, 8, 19, 18, 0, 0, 0, has_year_zero=False)]\n",
      "[cftime.DatetimeGregorian(2024, 8, 19, 19, 0, 0, 0, has_year_zero=False)]\n",
      "[cftime.DatetimeGregorian(2024, 8, 19, 20, 0, 0, 0, has_year_zero=False)]\n",
      "[cftime.DatetimeGregorian(2024, 8, 19, 21, 0, 0, 0, has_year_zero=False)]\n",
      "[cftime.DatetimeGregorian(2024, 8, 19, 22, 0, 0, 0, has_year_zero=False)]\n",
      "[cftime.DatetimeGregorian(2024, 8, 19, 23, 0, 0, 0, has_year_zero=False)]\n",
      "[cftime.DatetimeGregorian(2024, 8, 20, 0, 0, 0, 0, has_year_zero=False)]\n",
      "<built-in function empty>\n"
     ]
    }
   ],
   "source": [
    "\n",
    "# Use the glob module to get a list of all files in the current directory\n",
    "PFM=get_PFM_info()\n",
    "file_list = glob.glob(PFM['lv1_his_dir']+ '/*.nc')\n",
    "\n",
    "file_list2 = sorted(file_list)\n",
    "# Print the list of all files in the current directory\n",
    "print(file_list2)\n",
    "\n",
    "cnt=0\n",
    "time3 = np.empty\n",
    "for fn in file_list2:\n",
    "    his_ds = netCDF4.Dataset(fn)\n",
    "    times = his_ds.variables['ocean_time']\n",
    "    #t = num2date(times[:], units=time_var.units, calendar='standard')\n",
    "    #time[cnt] = np.array([datetime(year=date.year, month=date.month, day=date.day, \n",
    "    #                          hour=date.hour, minute=date.minute, second=date.second) for date in t]) \n",
    "    #print('units = %s, values = %s' % (times.units,times[:]))\n",
    "    date = num2date(times[:], times.units)\n",
    "    #time2 = np.array([datetime(year=date.year, month=date.month, day=date.day, \n",
    "                              #hour=date.hour, minute=date.minute, second=date.second)]) \n",
    "    #time3 = np.append(time3,time2)\n",
    "    print(date)\n",
    "\n",
    "print(time3)\n",
    "\n",
    "\n"
   ]
  },
  {
   "cell_type": "code",
   "execution_count": null,
   "metadata": {},
   "outputs": [],
   "source": [
    "t,eta = pltfuns.get_hisncs_tseries('zeta')"
   ]
  }
 ],
 "metadata": {
  "kernelspec": {
   "display_name": "base",
   "language": "python",
   "name": "python3"
  },
  "language_info": {
   "codemirror_mode": {
    "name": "ipython",
    "version": 3
   },
   "file_extension": ".py",
   "mimetype": "text/x-python",
   "name": "python",
   "nbconvert_exporter": "python",
   "pygments_lexer": "ipython3",
   "version": "3.12.2"
  }
 },
 "nbformat": 4,
 "nbformat_minor": 2
}
