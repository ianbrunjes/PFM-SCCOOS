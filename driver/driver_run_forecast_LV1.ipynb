{
 "cells": [
  {
   "cell_type": "code",
   "execution_count": 10,
   "metadata": {},
   "outputs": [],
   "source": [
    "# scratch code to get ocn forcing .nc files\n",
    "\n",
    "#from datetime import datetime\n",
    "\n",
    "import sys\n",
    "#import cartopy.crs as ccrs\n",
    "#import cartopy.feature as cfeature\n",
    "#import matplotlib.pyplot as plt\n",
    "#import numpy as np\n",
    "#import scipy.ndimage as ndimage\n",
    "#import xarray as xr\n",
    "#import netCDF4 as nc\n",
    "#from scipy.interpolate import RegularGridInterpolator\n",
    "\n",
    "sys.path.append('/Users/mspydell/research/FF2024/models/SDPM_mss/PFM/sdpm_py_util')\n",
    "\n",
    "import atm_functions as atmfuns\n",
    "import ocn_functions as ocnfuns\n",
    "import grid_functions as grdfuns\n",
    "\n",
    "# comment to test git from swell"
   ]
  },
  {
   "cell_type": "code",
   "execution_count": 2,
   "metadata": {},
   "outputs": [],
   "source": [
    "run_type = 'forecast'\n",
    "# the year, month, day of the \n",
    "yyyymmdd='20240703'\n",
    "# the hour in Z of the forecast, hycom has forecasts once per day starting at 1200Z\n",
    "hhmm='1200'\n",
    "# we will use hycom for IC and BC\n",
    "ocn_mod = 'hycom'\n",
    "# we will use nam_nest for the atm forcing\n",
    "atm_mod = 'nam_nest'\n",
    "# we will use opendap, and netcdf to grab ocn, and atm data\n",
    "get_method = 'open_dap_nc'\n",
    "\n",
    "# get the ROMS grid as a dict\n",
    "fngr = '/Users/mspydell/research/FF2024/models/SDPM_mss/PFM_user/grids/GRID_SDTJRE_LV1.nc'\n",
    "RMG = grdfuns.roms_grid_to_dict(fngr)\n"
   ]
  },
  {
   "cell_type": "code",
   "execution_count": 3,
   "metadata": {},
   "outputs": [
    {
     "name": "stdout",
     "output_type": "stream",
     "text": [
      "getting atm forecast for:\n",
      "[datetime.datetime(2024, 7, 3, 12, 0) datetime.datetime(2024, 7, 3, 15, 0)\n",
      " datetime.datetime(2024, 7, 3, 18, 0) datetime.datetime(2024, 7, 3, 21, 0)\n",
      " datetime.datetime(2024, 7, 4, 0, 0) datetime.datetime(2024, 7, 4, 3, 0)\n",
      " datetime.datetime(2024, 7, 4, 6, 0) datetime.datetime(2024, 7, 4, 9, 0)\n",
      " datetime.datetime(2024, 7, 4, 12, 0) datetime.datetime(2024, 7, 4, 15, 0)\n",
      " datetime.datetime(2024, 7, 4, 18, 0) datetime.datetime(2024, 7, 4, 21, 0)\n",
      " datetime.datetime(2024, 7, 5, 0, 0) datetime.datetime(2024, 7, 5, 3, 0)\n",
      " datetime.datetime(2024, 7, 5, 6, 0) datetime.datetime(2024, 7, 5, 9, 0)\n",
      " datetime.datetime(2024, 7, 5, 12, 0) datetime.datetime(2024, 7, 5, 15, 0)\n",
      " datetime.datetime(2024, 7, 5, 18, 0) datetime.datetime(2024, 7, 5, 21, 0)\n",
      " datetime.datetime(2024, 7, 6, 0, 0)]\n",
      "<xarray.Dataset>\n",
      "Dimensions:     (tair_time: 21, er: 390, xr: 253, pair_time: 21, qair_time: 21,\n",
      "                 wind_time: 21, rain_time: 21, srf_time: 21, lrf_time: 21,\n",
      "                 time: 21)\n",
      "Coordinates:\n",
      "    lat         (er, xr) float64 28.52 28.53 28.54 28.55 ... 36.38 36.39 36.39\n",
      "    lon         (er, xr) float64 -120.3 -120.2 -120.2 ... -118.8 -118.8 -118.8\n",
      "    ocean_time  (time) float64 1.991e+04 1.991e+04 ... 1.991e+04 1.991e+04\n",
      "  * tair_time   (tair_time) float64 1.991e+04 1.991e+04 ... 1.991e+04 1.991e+04\n",
      "  * pair_time   (pair_time) float64 1.991e+04 1.991e+04 ... 1.991e+04 1.991e+04\n",
      "  * qair_time   (qair_time) float64 1.991e+04 1.991e+04 ... 1.991e+04 1.991e+04\n",
      "  * wind_time   (wind_time) float64 1.991e+04 1.991e+04 ... 1.991e+04 1.991e+04\n",
      "  * rain_time   (rain_time) float64 1.991e+04 1.991e+04 ... 1.991e+04 1.991e+04\n",
      "  * srf_time    (srf_time) float64 1.991e+04 1.991e+04 ... 1.991e+04 1.991e+04\n",
      "  * lrf_time    (lrf_time) float64 1.991e+04 1.991e+04 ... 1.991e+04 1.991e+04\n",
      "Dimensions without coordinates: er, xr, time\n",
      "Data variables:\n",
      "    Tair        (tair_time, er, xr) float64 18.49 18.48 18.47 ... 39.69 39.58\n",
      "    Pair        (pair_time, er, xr) float64 1.012e+03 1.012e+03 ... 1.013e+03\n",
      "    Qair        (qair_time, er, xr) float64 95.88 96.06 96.05 ... 17.66 17.94\n",
      "    Uwind       (wind_time, er, xr) float64 0.7512 0.7706 0.7926 ... 2.11 2.113\n",
      "    Vwind       (wind_time, er, xr) float64 -4.357 -4.358 ... -1.911 -1.953\n",
      "    rain        (rain_time, er, xr) float64 0.0 0.0 0.0 0.0 ... 0.0 0.0 0.0 0.0\n",
      "    swrad       (srf_time, er, xr) float64 0.0 0.0 0.0 0.0 ... 488.1 495.9 496.3\n",
      "    lwrad       (lrf_time, er, xr) float64 -0.7178 -1.024 ... -173.8 -174.3\n",
      "    lwrad_down  (lrf_time, er, xr) float64 397.1 396.7 396.6 ... 369.5 368.1\n",
      "Attributes:\n",
      "    type:       atmospheric forcing file fields for surface fluxes\n",
      "    time info:  ocean time is from 1970/01/01 00:00:00\n"
     ]
    }
   ],
   "source": [
    "# make the atm .nc file here.\n",
    "# fn_out is the name of the atm.nc file used by roms\n",
    "fn_out = '/Users/mspydell/research/FF2024/models/SDPM_mss/atm_stuff/atm_test_file_v2.nc'\n",
    "# make a switch to see if this file exists. If it exists, we don't need to run the code in this block\n",
    "# first the atm data\n",
    "# get the data as a dict\n",
    "# need to specify hhmm because nam forecast are produced at 6 hr increments\n",
    "ATM = atmfuns.get_atm_data_as_dict(yyyymmdd,hhmm,run_type,atm_mod,get_method)\n",
    "# put in a function to check to make sure that all the data is good\n",
    "# put in a function to plot the raw atm data if we want to\n",
    "# put the atm data on the roms grid, and rotate the velocities\n",
    "# everything in this dict turn into the atm.nc file\n",
    "ATM_R  = atmfuns.get_atm_data_on_roms_grid(ATM,RMG)\n",
    "# output a netcdf file of ATM_R\n",
    "atmfuns.atm_roms_dict_to_netcdf(ATM_R,fn_out)\n",
    "# put in a function to plot the atm.nc file if we want to"
   ]
  },
  {
   "cell_type": "code",
   "execution_count": 6,
   "metadata": {},
   "outputs": [
    {
     "name": "stderr",
     "output_type": "stream",
     "text": [
      "Note:Caching=1\n"
     ]
    },
    {
     "name": "stdout",
     "output_type": "stream",
     "text": [
      "ocn forecast data is being grabbed for:\n",
      "[datetime.datetime(2024, 7, 3, 12, 0) datetime.datetime(2024, 7, 3, 15, 0)\n",
      " datetime.datetime(2024, 7, 3, 18, 0) datetime.datetime(2024, 7, 3, 21, 0)\n",
      " datetime.datetime(2024, 7, 4, 0, 0) datetime.datetime(2024, 7, 4, 3, 0)\n",
      " datetime.datetime(2024, 7, 4, 6, 0) datetime.datetime(2024, 7, 4, 9, 0)\n",
      " datetime.datetime(2024, 7, 4, 12, 0) datetime.datetime(2024, 7, 4, 15, 0)\n",
      " datetime.datetime(2024, 7, 4, 18, 0) datetime.datetime(2024, 7, 4, 21, 0)\n",
      " datetime.datetime(2024, 7, 5, 0, 0) datetime.datetime(2024, 7, 5, 3, 0)\n",
      " datetime.datetime(2024, 7, 5, 6, 0) datetime.datetime(2024, 7, 5, 9, 0)\n",
      " datetime.datetime(2024, 7, 5, 12, 0) datetime.datetime(2024, 7, 5, 15, 0)\n",
      " datetime.datetime(2024, 7, 5, 18, 0) datetime.datetime(2024, 7, 5, 21, 0)]\n"
     ]
    }
   ],
   "source": [
    "# make the ocn IC and BC .nc files here\n",
    "# fn*_out are the names of the the IC.nc and BC.nc roms files\n",
    "fn_ic_out = '/Users/mspydell/research/FF2024/models/SDPM_mss/atm_stuff/ocn_test_IC_file.nc'\n",
    "fn_bc_out = '/Users/mspydell/research/FF2024/models/SDPM_mss/atm_stuff/ocn_test_BC_file.nc'\n",
    "\n",
    "# note, this function is hard wired to return 2.5 days of data\n",
    "# also note that the first time of this data is yyyymmdd 12:00Z\n",
    "# so we grab nam atm forecast data starting at this hour too.\n",
    "OCN = ocnfuns.get_ocn_data_as_dict(yyyymmdd,run_type,ocn_mod,get_method)\n",
    "# note this takes 24.5 minutes to run on my laptop\n",
    "# 3 times this timed out\n",
    "# will likely need to use a wget method and directly download .nc files (arh)\n",
    "\n",
    "### should work to here! ####\n"
   ]
  },
  {
   "cell_type": "code",
   "execution_count": 11,
   "metadata": {},
   "outputs": [
    {
     "ename": "AttributeError",
     "evalue": "module 'ocn_functions' has no attribute 'hycom_to_roms_latlon'",
     "output_type": "error",
     "traceback": [
      "\u001b[0;31m---------------------------------------------------------------------------\u001b[0m",
      "\u001b[0;31mAttributeError\u001b[0m                            Traceback (most recent call last)",
      "Cell \u001b[0;32mIn[11], line 3\u001b[0m\n\u001b[1;32m      1\u001b[0m \u001b[38;5;66;03m# maybe downloading the netcdf file would be quicker? \u001b[39;00m\n\u001b[1;32m      2\u001b[0m \u001b[38;5;66;03m# put the ocn data on the roms grid\u001b[39;00m\n\u001b[0;32m----> 3\u001b[0m OCN_R  \u001b[38;5;241m=\u001b[39m ocnfuns\u001b[38;5;241m.\u001b[39mhycom_to_roms_latlon(OCN,RMG)\n",
      "\u001b[0;31mAttributeError\u001b[0m: module 'ocn_functions' has no attribute 'hycom_to_roms_latlon'"
     ]
    }
   ],
   "source": [
    "\n",
    "# maybe downloading the netcdf file would be quicker? \n",
    "# put the ocn data on the roms grid\n",
    "OCN_R  = ocnfuns.hycom_to_roms_latlon(OCN,RMG)\n",
    "\n"
   ]
  },
  {
   "cell_type": "code",
   "execution_count": null,
   "metadata": {},
   "outputs": [],
   "source": [
    "\n",
    "# output OCN_R dict to roms IC\n",
    "ocn_roms_dict_to_IC_netcdf\n",
    "# ouput OCN_R dict to roms BC\n",
    "ocn_roms_dict_to_BC_netcdf"
   ]
  }
 ],
 "metadata": {
  "kernelspec": {
   "display_name": "base",
   "language": "python",
   "name": "python3"
  },
  "language_info": {
   "codemirror_mode": {
    "name": "ipython",
    "version": 3
   },
   "file_extension": ".py",
   "mimetype": "text/x-python",
   "name": "python",
   "nbconvert_exporter": "python",
   "pygments_lexer": "ipython3",
   "version": "3.11.8"
  }
 },
 "nbformat": 4,
 "nbformat_minor": 2
}
