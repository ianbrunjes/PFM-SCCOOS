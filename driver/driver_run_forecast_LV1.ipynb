{
 "cells": [
  {
   "cell_type": "code",
   "execution_count": 15,
   "metadata": {},
   "outputs": [],
   "source": [
    "# scratch code to get ocn forcing .nc files\n",
    "\n",
    "#from datetime import datetime\n",
    "\n",
    "import sys\n",
    "import pickle\n",
    "import matplotlib.pyplot as plt\n",
    "import numpy as np\n",
    "#import cartopy.crs as ccrs\n",
    "#import cartopy.feature as cfeature\n",
    "#import matplotlib.pyplot as plt\n",
    "#import numpy as np\n",
    "#import scipy.ndimage as ndimage\n",
    "#import xarray as xr\n",
    "#import netCDF4 as nc\n",
    "#from scipy.interpolate import RegularGridInterpolator\n"
   ]
  },
  {
   "cell_type": "code",
   "execution_count": null,
   "metadata": {},
   "outputs": [],
   "source": [
    "\n",
    "\n",
    "sys.path.append('/Users/mspydell/research/FF2024/models/SDPM_mss/PFM/sdpm_py_util')\n",
    "\n",
    "import atm_functions as atmfuns\n",
    "import ocn_functions as ocnfuns\n",
    "import grid_functions as grdfuns\n",
    "\n",
    "# comment to test git from swell\n",
    "# comment to test git again.\n",
    "# 3rd comment to test git.\n",
    "# 4th cemment to test git."
   ]
  },
  {
   "cell_type": "code",
   "execution_count": 2,
   "metadata": {},
   "outputs": [],
   "source": [
    "run_type = 'forecast'\n",
    "# the year, month, day of the \n",
    "yyyymmdd='20240706'\n",
    "# the hour in Z of the forecast, hycom has forecasts once per day starting at 1200Z\n",
    "hhmm='1200'\n",
    "# we will use hycom for IC and BC\n",
    "ocn_mod = 'hycom'\n",
    "# we will use nam_nest for the atm forcing\n",
    "atm_mod = 'nam_nest'\n",
    "# we will use opendap, and netcdf to grab ocn, and atm data\n",
    "get_method = 'open_dap_nc'\n",
    "\n",
    "# get the ROMS grid as a dict\n",
    "fngr = '/Users/mspydell/research/FF2024/models/SDPM_mss/PFM_user/grids/GRID_SDTJRE_LV1.nc'\n",
    "RMG = grdfuns.roms_grid_to_dict(fngr)\n"
   ]
  },
  {
   "cell_type": "code",
   "execution_count": 4,
   "metadata": {},
   "outputs": [
    {
     "name": "stdout",
     "output_type": "stream",
     "text": [
      "getting atm forecast for:\n",
      "[datetime.datetime(2024, 7, 6, 12, 0) datetime.datetime(2024, 7, 6, 15, 0)\n",
      " datetime.datetime(2024, 7, 6, 18, 0) datetime.datetime(2024, 7, 6, 21, 0)\n",
      " datetime.datetime(2024, 7, 7, 0, 0) datetime.datetime(2024, 7, 7, 3, 0)\n",
      " datetime.datetime(2024, 7, 7, 6, 0) datetime.datetime(2024, 7, 7, 9, 0)\n",
      " datetime.datetime(2024, 7, 7, 12, 0) datetime.datetime(2024, 7, 7, 15, 0)\n",
      " datetime.datetime(2024, 7, 7, 18, 0) datetime.datetime(2024, 7, 7, 21, 0)\n",
      " datetime.datetime(2024, 7, 8, 0, 0) datetime.datetime(2024, 7, 8, 3, 0)\n",
      " datetime.datetime(2024, 7, 8, 6, 0) datetime.datetime(2024, 7, 8, 9, 0)\n",
      " datetime.datetime(2024, 7, 8, 12, 0) datetime.datetime(2024, 7, 8, 15, 0)\n",
      " datetime.datetime(2024, 7, 8, 18, 0) datetime.datetime(2024, 7, 8, 21, 0)\n",
      " datetime.datetime(2024, 7, 9, 0, 0)]\n",
      "<xarray.Dataset>\n",
      "Dimensions:     (tair_time: 21, er: 390, xr: 253, pair_time: 21, qair_time: 21,\n",
      "                 wind_time: 21, rain_time: 21, srf_time: 21, lrf_time: 21,\n",
      "                 time: 21)\n",
      "Coordinates:\n",
      "    lat         (er, xr) float64 28.52 28.53 28.54 28.55 ... 36.38 36.39 36.39\n",
      "    lon         (er, xr) float64 -120.3 -120.2 -120.2 ... -118.8 -118.8 -118.8\n",
      "    ocean_time  (time) float64 1.991e+04 1.991e+04 ... 1.991e+04 1.991e+04\n",
      "  * tair_time   (tair_time) float64 1.991e+04 1.991e+04 ... 1.991e+04 1.991e+04\n",
      "  * pair_time   (pair_time) float64 1.991e+04 1.991e+04 ... 1.991e+04 1.991e+04\n",
      "  * qair_time   (qair_time) float64 1.991e+04 1.991e+04 ... 1.991e+04 1.991e+04\n",
      "  * wind_time   (wind_time) float64 1.991e+04 1.991e+04 ... 1.991e+04 1.991e+04\n",
      "  * rain_time   (rain_time) float64 1.991e+04 1.991e+04 ... 1.991e+04 1.991e+04\n",
      "  * srf_time    (srf_time) float64 1.991e+04 1.991e+04 ... 1.991e+04 1.991e+04\n",
      "  * lrf_time    (lrf_time) float64 1.991e+04 1.991e+04 ... 1.991e+04 1.991e+04\n",
      "Dimensions without coordinates: er, xr, time\n",
      "Data variables:\n",
      "    Tair        (tair_time, er, xr) float64 18.37 18.36 18.36 ... 40.91 40.76\n",
      "    Pair        (pair_time, er, xr) float64 1.01e+03 1.01e+03 ... 1.01e+03\n",
      "    Qair        (qair_time, er, xr) float64 93.74 93.78 93.81 ... 12.28 12.42\n",
      "    Uwind       (wind_time, er, xr) float64 2.496 2.492 2.488 ... 1.938 1.971\n",
      "    Vwind       (wind_time, er, xr) float64 -6.093 -6.054 ... -1.845 -1.875\n",
      "    rain        (rain_time, er, xr) float64 0.0 0.0 0.0 0.0 ... 0.0 0.0 0.0 0.0\n",
      "    swrad       (srf_time, er, xr) float64 0.0 0.0 0.0 0.0 ... 509.7 511.2 511.4\n",
      "    lwrad       (lrf_time, er, xr) float64 -41.28 -43.11 ... -197.1 -197.6\n",
      "    lwrad_down  (lrf_time, er, xr) float64 356.0 354.1 353.7 ... 354.7 353.1\n",
      "Attributes:\n",
      "    type:       atmospheric forcing file fields for surface fluxes\n",
      "    time info:  ocean time is from 1970/01/01 00:00:00\n"
     ]
    }
   ],
   "source": [
    "# make the atm .nc file here.\n",
    "# fn_out is the name of the atm.nc file used by roms\n",
    "fn_out = '/Users/mspydell/research/FF2024/models/SDPM_mss/atm_stuff/atm_test_file_v2.nc'\n",
    "# make a switch to see if this file exists. If it exists, we don't need to run the code in this block\n",
    "# first the atm data\n",
    "# get the data as a dict\n",
    "# need to specify hhmm because nam forecast are produced at 6 hr increments\n",
    "ATM = atmfuns.get_atm_data_as_dict(yyyymmdd,hhmm,run_type,atm_mod,get_method)\n",
    "# put in a function to check to make sure that all the data is good\n",
    "# put in a function to plot the raw atm data if we want to\n",
    "# put the atm data on the roms grid, and rotate the velocities\n",
    "# everything in this dict turn into the atm.nc file\n",
    "ATM_R  = atmfuns.get_atm_data_on_roms_grid(ATM,RMG)\n",
    "# output a netcdf file of ATM_R\n",
    "atmfuns.atm_roms_dict_to_netcdf(ATM_R,fn_out)\n",
    "# put in a function to plot the atm.nc file if we want to"
   ]
  },
  {
   "cell_type": "code",
   "execution_count": 6,
   "metadata": {},
   "outputs": [
    {
     "name": "stderr",
     "output_type": "stream",
     "text": [
      "Note:Caching=1\n"
     ]
    },
    {
     "name": "stdout",
     "output_type": "stream",
     "text": [
      "ocn forecast data is being grabbed for:\n",
      "[datetime.datetime(2024, 7, 3, 12, 0) datetime.datetime(2024, 7, 3, 15, 0)\n",
      " datetime.datetime(2024, 7, 3, 18, 0) datetime.datetime(2024, 7, 3, 21, 0)\n",
      " datetime.datetime(2024, 7, 4, 0, 0) datetime.datetime(2024, 7, 4, 3, 0)\n",
      " datetime.datetime(2024, 7, 4, 6, 0) datetime.datetime(2024, 7, 4, 9, 0)\n",
      " datetime.datetime(2024, 7, 4, 12, 0) datetime.datetime(2024, 7, 4, 15, 0)\n",
      " datetime.datetime(2024, 7, 4, 18, 0) datetime.datetime(2024, 7, 4, 21, 0)\n",
      " datetime.datetime(2024, 7, 5, 0, 0) datetime.datetime(2024, 7, 5, 3, 0)\n",
      " datetime.datetime(2024, 7, 5, 6, 0) datetime.datetime(2024, 7, 5, 9, 0)\n",
      " datetime.datetime(2024, 7, 5, 12, 0) datetime.datetime(2024, 7, 5, 15, 0)\n",
      " datetime.datetime(2024, 7, 5, 18, 0) datetime.datetime(2024, 7, 5, 21, 0)]\n"
     ]
    }
   ],
   "source": [
    "# make the ocn IC and BC .nc files here\n",
    "# fn*_out are the names of the the IC.nc and BC.nc roms files\n",
    "fn_ic_out = '/Users/mspydell/research/FF2024/models/SDPM_mss/atm_stuff/ocn_test_IC_file.nc'\n",
    "fn_bc_out = '/Users/mspydell/research/FF2024/models/SDPM_mss/atm_stuff/ocn_test_BC_file.nc'\n",
    "\n",
    "# note, this function is hard wired to return 2.5 days of data\n",
    "# also note that the first time of this data is yyyymmdd 12:00Z\n",
    "# so we grab nam atm forecast data starting at this hour too.\n",
    "OCN = ocnfuns.get_ocn_data_as_dict(yyyymmdd,run_type,ocn_mod,get_method)\n",
    "# note this takes 24.5 minutes to run on my laptop\n",
    "# 3 times this timed out\n",
    "# will likely need to use a wget method and directly download .nc files (arh)\n",
    "# maybe downloading the netcdf file would be quicker? \n",
    "\n",
    "\n",
    "### should work to here! ####\n"
   ]
  },
  {
   "cell_type": "code",
   "execution_count": 12,
   "metadata": {},
   "outputs": [
    {
     "name": "stdout",
     "output_type": "stream",
     "text": [
      "OCN dict saved with pickle\n"
     ]
    }
   ],
   "source": [
    "# save the OCN dict so that we can restart the python session\n",
    "# and not have to worry about opendap timing out\n",
    "with open(fnout,'wb') as fp:\n",
    "    pickle.dump(OCN,fp)\n",
    "    print('OCN dict saved with pickle')"
   ]
  },
  {
   "cell_type": "code",
   "execution_count": 3,
   "metadata": {},
   "outputs": [],
   "source": [
    "fnout='/Users/mspydell/research/FF2024/models/SDPM_mss/atm_stuff/ocn_hycom_dict_file.pkl'\n",
    "\n",
    "with open(fnout,'rb') as fp:\n",
    "    OCN = pickle.load(fp)\n",
    "\n",
    "# put the ocn data on the roms grid\n",
    "OCN_R  = ocnfuns.hycom_to_roms_latlon(OCN,RMG)\n"
   ]
  },
  {
   "cell_type": "code",
   "execution_count": 13,
   "metadata": {},
   "outputs": [
    {
     "name": "stdout",
     "output_type": "stream",
     "text": [
      "dict_keys(['lon_rho', 'lat_rho', 'lon_u', 'lat_u', 'lon_v', 'lat_v', 'h', 'mask_rho', 'mask_u', 'mask_v', 'angle', 'angle_u', 'angle_v'])\n"
     ]
    }
   ],
   "source": [
    "print(RMG.keys())\n",
    "Hu = 0.5 * (RMG['h'][:,1:-1:1] + RMG['h'][:,0:-2:1])\n",
    "Hv = 0.5 * (RMG['h'][0:-2:1,:] + RMG['h'][1:-1:1,:])\n"
   ]
  },
  {
   "cell_type": "code",
   "execution_count": 26,
   "metadata": {},
   "outputs": [
    {
     "name": "stdout",
     "output_type": "stream",
     "text": [
      "(20, 40, 390, 253)\n",
      "30.66954364208219\n",
      "-116.06762879572817\n",
      "[[39]]\n",
      "[[5000.]]\n",
      "16.631999999999998\n",
      "[[ 0]\n",
      " [ 1]\n",
      " [ 2]\n",
      " [ 3]\n",
      " [ 4]\n",
      " [ 5]\n",
      " [ 6]\n",
      " [ 7]\n",
      " [ 8]\n",
      " [ 9]\n",
      " [10]\n",
      " [11]\n",
      " [12]\n",
      " [13]\n",
      " [14]\n",
      " [15]\n",
      " [16]\n",
      " [17]\n",
      " [18]\n",
      " [19]\n",
      " [20]\n",
      " [21]\n",
      " [22]\n",
      " [23]\n",
      " [24]\n",
      " [25]\n",
      " [26]\n",
      " [27]\n",
      " [28]\n",
      " [29]\n",
      " [30]\n",
      " [31]\n",
      " [32]\n",
      " [33]\n",
      " [34]\n",
      " [35]\n",
      " [36]\n",
      " [37]\n",
      " [38]]\n"
     ]
    },
    {
     "data": {
      "image/png": "[encoded data removed]",
      "text/plain": [
       "<Figure size 640x480 with 1 Axes>"
      ]
     },
     "metadata": {},
     "output_type": "display_data"
    }
   ],
   "source": [
    "fig, ax = plt.subplots()\n",
    "yy = OCN_R['depth'][:]\n",
    "ilat = 20\n",
    "ilon = 245\n",
    "print(np.shape(OCN_R['temp']))\n",
    "xx = OCN_R['temp'][0,:,ilat,ilon]\n",
    "ax.plot(xx,-yy,'-o')\n",
    "\n",
    "ib = np.argwhere(np.isnan(xx))\n",
    "ig = np.argwhere(np.isfinite(xx))\n",
    "\n",
    "print(RMG['lat_rho'][ilat,ilon])\n",
    "print(RMG['lon_rho'][ilat,ilon])\n",
    "print(ib)\n",
    "print(yy[ib])\n",
    "print(RMG['h'][ilat,ilon])\n",
    "\n",
    "print(ig)\n",
    "\n"
   ]
  },
  {
   "cell_type": "code",
   "execution_count": null,
   "metadata": {},
   "outputs": [],
   "source": [
    "\n",
    "OCN_Rz = ocnfuns.ocn_r_hycomz_2_romsz(OCN_R,RMG)\n",
    "\n"
   ]
  },
  {
   "cell_type": "code",
   "execution_count": null,
   "metadata": {},
   "outputs": [],
   "source": [
    "\n",
    "# output OCN_R dict to roms IC\n",
    "ocn_roms_dict_to_IC_netcdf\n",
    "# ouput OCN_R dict to roms BC\n",
    "ocn_roms_dict_to_BC_netcdf\n",
    "\n"
   ]
  },
  {
   "cell_type": "code",
   "execution_count": null,
   "metadata": {},
   "outputs": [],
   "source": [
    "make_roms_dotin\n",
    "make_slurm_script\n",
    "run_slurm_script"
   ]
  }
 ],
 "metadata": {
  "kernelspec": {
   "display_name": "base",
   "language": "python",
   "name": "python3"
  },
  "language_info": {
   "codemirror_mode": {
    "name": "ipython",
    "version": 3
   },
   "file_extension": ".py",
   "mimetype": "text/x-python",
   "name": "python",
   "nbconvert_exporter": "python",
   "pygments_lexer": "ipython3",
   "version": "3.11.8"
  }
 },
 "nbformat": 4,
 "nbformat_minor": 2
}
