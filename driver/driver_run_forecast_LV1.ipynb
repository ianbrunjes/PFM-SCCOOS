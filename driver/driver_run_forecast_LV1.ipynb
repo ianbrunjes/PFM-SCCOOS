{
 "cells": [
  {
   "cell_type": "code",
   "execution_count": null,
   "metadata": {},
   "outputs": [],
   "source": [
    "# scratch code to get ocn forcing .nc files\n",
    "\n",
    "from datetime import datetime\n",
    "\n",
    "import sys\n",
    "import cartopy.crs as ccrs\n",
    "import cartopy.feature as cfeature\n",
    "import matplotlib.pyplot as plt\n",
    "import numpy as np\n",
    "import scipy.ndimage as ndimage\n",
    "import xarray as xr\n",
    "import netCDF4 as nc\n",
    "from scipy.interpolate import RegularGridInterpolator\n"
   ]
  },
  {
   "cell_type": "code",
   "execution_count": null,
   "metadata": {},
   "outputs": [],
   "source": [
    "run_type = 'forecast'\n",
    "# the year, month, day of the \n",
    "yyyymmdd='20240701'\n",
    "# the hour in Z of the forecast, hycom has forecasts once per day starting at 1200Z\n",
    "hhmm='1200'\n",
    "# we will use hycom for IC and BC\n",
    "ocn_mod = 'hycom'\n",
    "# we will use nam_nest for the atm forcing\n",
    "atm_mod = 'nam_nest'\n",
    "# we will use opendap, and netcdf to grab ocn, and atm data\n",
    "get_method = 'open_dap_nc'\n",
    "\n",
    "# get the ROMS grid as a dict\n",
    "fngr = '/Users/mspydell/research/FF2024/models/SDPM_mss/PFM_user/grids/GRID_SDTJRE_LV1.nc'\n",
    "RMG = roms_grid_to_dict(fngr)\n"
   ]
  },
  {
   "cell_type": "code",
   "execution_count": null,
   "metadata": {},
   "outputs": [],
   "source": [
    "# make the .nc file here.\n",
    "fn_out = '/Users/mspydell/research/FF2024/models/SDPM_mss/atm_stuff/atm_test_file_v2.nc'\n",
    "# make a switch to see if this file exists. If it exists, we don't need to run the code in this block\n",
    "# first the atm data\n",
    "# get the data as a dict\n",
    "ATM = get_atm_data_as_dict(yyyymmdd,run_type,atm_mod,get_method)\n",
    "# put in a function to check to make sure that all the data is good\n",
    "# put in a function to plot the raw atm data if we want to\n",
    "# put the atm data on the roms grid, and rotate the velocities\n",
    "# everything in this dict turn into the atm.nc file\n",
    "ATM_R  = get_atm_data_on_roms_grid(ATM,RMG)\n",
    "# output a netcdf file of ATM_R\n",
    "atm_roms_dict_to_netcdf(ATM_R,fn_out)\n",
    "# put in a function to plot the atm.nc file if we want to"
   ]
  },
  {
   "cell_type": "code",
   "execution_count": null,
   "metadata": {},
   "outputs": [],
   "source": [
    "# note, this function is hard wired to return 2.5 days of data\n",
    "# also note that the first time of this data is yyyymmdd 12:00Z\n",
    "# so we should probably grab nam atm forecast data starting at this hour too.\n",
    "OCN = get_ocn_data_as_dict(yyyymmdd,run_type,ocn_mod,get_method)\n",
    "# maybe downloading the netcdf file would be quicker? "
   ]
  }
 ],
 "metadata": {
  "kernelspec": {
   "display_name": "base",
   "language": "python",
   "name": "python3"
  },
  "language_info": {
   "name": "python",
   "version": "3.11.8"
  }
 },
 "nbformat": 4,
 "nbformat_minor": 2
}
