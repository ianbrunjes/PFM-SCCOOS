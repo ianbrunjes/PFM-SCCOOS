{
 "cells": [
  {
   "cell_type": "code",
   "execution_count": 1,
   "metadata": {},
   "outputs": [
    {
     "name": "stderr",
     "output_type": "stream",
     "text": [
      "/home/mspydell/models/PFM_root/PFM/driver/../sdpm_py_util/ocn_functions.py:24: UserWarning: The seawater library is deprecated! Please use gsw instead.\n",
      "  import seawater\n"
     ]
    },
    {
     "name": "stdout",
     "output_type": "stream",
     "text": [
      "\n",
      "Starting the LV1 simulation, Current time  2024-09-13 12:22:55.920414\n",
      "we are going to start clean...\n",
      "getting PFM info...\n",
      "removing PFM info file...\n",
      "now removing all input files...\n",
      "now making a new PFM.pkl file.\n",
      "PFM info was saved as /scratch/PFM_Simulations/PFM_run_info.pkl\n"
     ]
    }
   ],
   "source": [
    "# -- driver_run_forecast_LV1.py  --\n",
    "# master python script to do a full LV1 forecast simulation\n",
    "\n",
    "import sys\n",
    "import pickle\n",
    "import numpy as np\n",
    "import os\n",
    "from datetime import datetime\n",
    "import gc\n",
    "import resource\n",
    "import subprocess\n",
    "\n",
    "##############\n",
    "\n",
    "sys.path.append('../sdpm_py_util')\n",
    "\n",
    "import atm_functions as atmfuns\n",
    "import ocn_functions as ocnfuns\n",
    "import grid_functions as grdfuns\n",
    "import plotting_functions as pltfuns\n",
    "from get_PFM_info import get_PFM_info\n",
    "from init_funs import initialize_simulation\n",
    "from make_LV1_dotin_and_SLURM import make_LV1_dotin_and_SLURM\n",
    "from run_slurm_LV1 import run_slurm_LV1\n",
    "\n",
    "print('\\nStarting the LV1 simulation, Current time ', datetime.now())\n",
    "\n",
    "# we are going to make a forecast\n",
    "run_type = 'forecast'\n",
    "\n",
    "# PFM has all of the information needed to run the model\n",
    "clean_start = True\n",
    "initialize_simulation(clean_start)\n",
    "PFM=get_PFM_info()\n"
   ]
  },
  {
   "cell_type": "code",
   "execution_count": 14,
   "metadata": {},
   "outputs": [
    {
     "name": "stdout",
     "output_type": "stream",
     "text": [
      "in here a\n",
      "['https://tds.hycom.org/thredds/dodsC/FMRC_ESPC-D-V02', 'runs/FMRC_ESPC-D-V02', '_RUN_2024-09-11T12:00:00Z']\n",
      "in the parallel ncks switch using new hycom data\n",
      "Time to get all files using parallel ncks = 17.05 sec\n",
      "Return code = 0 (0=success, 1=skipped ncks)\n",
      "Data variables:\n",
      "    surf_el  (time, lat, lon) float32 dask.array<chunksize=(1, 204, 103), meta=np.ndarray>\n",
      "did subprocess run correctly? 1 (0=yes,1=no)\n"
     ]
    },
    {
     "name": "stderr",
     "output_type": "stream",
     "text": [
      "Traceback (most recent call last):\n",
      "  File \"/home/mspydell/models/PFM_root/PFM/sdpm_py_util/ocn_functions.py\", line 3802, in <module>\n",
      "    globals()[args[1]](*args[2:])\n",
      "  File \"/home/mspydell/models/PFM_root/PFM/sdpm_py_util/ocn_functions.py\", line 546, in get_ocn_data_as_dict_pckl\n",
      "    z   = dss.depth.values\n",
      "          ^^^^^^^^^\n",
      "  File \"/home/mspydell/anaconda3/lib/python3.12/site-packages/xarray/core/common.py\", line 278, in __getattr__\n",
      "    raise AttributeError(\n",
      "AttributeError: 'Dataset' object has no attribute 'depth'\n"
     ]
    }
   ],
   "source": [
    "ocn_mod = 'hycom_new'\n",
    "yyyymmdd = '20240911'\n",
    "\n",
    "os.chdir('../sdpm_py_util')\n",
    "cmd_list = ['python','-W','ignore','ocn_functions.py','get_ocn_data_as_dict_pckl',yyyymmdd,run_type,ocn_mod,'ncks_para']\n",
    "ret1 = subprocess.run(cmd_list)     \n",
    "os.chdir('../driver')\n",
    "print('did subprocess run correctly? ' + str(ret1.returncode) + ' (0=yes,1=no)')\n",
    "\n"
   ]
  },
  {
   "cell_type": "markdown",
   "metadata": {},
   "source": [
    "import netCDF4\n",
    "hyc = netCDF4.Dataset('/scratch/PFM_Simulations/LV1_Forecast/Forc/hy_cat_2024-09-11T12:00.nc')\n",
    "\n",
    "print(np.shape(hyc.variables['surf_el'][:]))\n",
    "print(hyc.variables['time'][:])"
   ]
  }
 ],
 "metadata": {
  "kernelspec": {
   "display_name": "base",
   "language": "python",
   "name": "python3"
  },
  "language_info": {
   "codemirror_mode": {
    "name": "ipython",
    "version": 3
   },
   "file_extension": ".py",
   "mimetype": "text/x-python",
   "name": "python",
   "nbconvert_exporter": "python",
   "pygments_lexer": "ipython3",
   "version": "3.12.2"
  }
 },
 "nbformat": 4,
 "nbformat_minor": 2
}
