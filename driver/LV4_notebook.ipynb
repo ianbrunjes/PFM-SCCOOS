{
 "cells": [
  {
   "cell_type": "code",
   "execution_count": 1,
   "metadata": {},
   "outputs": [
    {
     "name": "stderr",
     "output_type": "stream",
     "text": [
      "/home/mspydell/models/PFM_root/PFM/driver/../sdpm_py_util/ocn_functions.py:25: UserWarning: The seawater library is deprecated! Please use gsw instead.\n",
      "  import seawater\n"
     ]
    }
   ],
   "source": [
    "from datetime import datetime, timezone, timedelta\n",
    "import netCDF4\n",
    "import numpy as np\n",
    "import matplotlib.pyplot as plt\n",
    "import sys\n",
    "sys.path.append('../sdpm_py_util')\n",
    "import ocn_functions as ocnfuns\n",
    "import plotting_functions as pltfuns\n",
    "import atm_functions as atmfuns\n",
    "import init_funs as initfuns\n",
    "from get_PFM_info import get_PFM_info\n",
    "from util_functions import s_coordinate_4\n",
    "from util_functions import display_timing_info\n",
    "\n",
    "import pickle\n",
    "import os\n",
    "import pprint\n",
    "import subprocess\n"
   ]
  },
  {
   "cell_type": "code",
   "execution_count": 2,
   "metadata": {},
   "outputs": [
    {
     "name": "stdout",
     "output_type": "stream",
     "text": [
      "OCN_LV3_BC dict loaded with pickle\n",
      "interpolating z with normal loops.\n"
     ]
    },
    {
     "ename": "PermissionError",
     "evalue": "[Errno 13] Permission denied: '/scratch/PFM_Simulations/LV4_Forecast/Forc/BC_LV4_tmp_file.pkl'",
     "output_type": "error",
     "traceback": [
      "\u001b[0;31m---------------------------------------------------------------------------\u001b[0m",
      "\u001b[0;31mPermissionError\u001b[0m                           Traceback (most recent call last)",
      "Cell \u001b[0;32mIn[2], line 1\u001b[0m\n\u001b[0;32m----> 1\u001b[0m ocnfuns\u001b[38;5;241m.\u001b[39mmk_LV2_BC_dict_edges(\u001b[38;5;124m'\u001b[39m\u001b[38;5;124m4\u001b[39m\u001b[38;5;124m'\u001b[39m)\n",
      "File \u001b[0;32m~/models/PFM_root/PFM/driver/../sdpm_py_util/ocn_functions.py:6043\u001b[0m, in \u001b[0;36mmk_LV2_BC_dict_edges\u001b[0;34m(lvl)\u001b[0m\n\u001b[1;32m   6039\u001b[0m                     OCN_BC[vn\u001b[38;5;241m+\u001b[39mbnd][cc,:,aa] \u001b[38;5;241m=\u001b[39m vf                \n\u001b[1;32m   6041\u001b[0m \u001b[38;5;66;03m#fn_out = '/scratch/PFM_Simulations/LV3_Forecast/Forc/test_BC_LV3.pkl'\u001b[39;00m\n\u001b[0;32m-> 6043\u001b[0m \u001b[38;5;28;01mwith\u001b[39;00m \u001b[38;5;28mopen\u001b[39m(fn_out,\u001b[38;5;124m'\u001b[39m\u001b[38;5;124mwb\u001b[39m\u001b[38;5;124m'\u001b[39m) \u001b[38;5;28;01mas\u001b[39;00m fout:\n\u001b[1;32m   6044\u001b[0m     pickle\u001b[38;5;241m.\u001b[39mdump(OCN_BC,fout)\n\u001b[1;32m   6045\u001b[0m     \u001b[38;5;28mprint\u001b[39m(\u001b[38;5;124m'\u001b[39m\u001b[38;5;124mOCN_LV\u001b[39m\u001b[38;5;124m'\u001b[39m,lvl,\u001b[38;5;124m'\u001b[39m\u001b[38;5;124m_BC dict saved with pickle to: \u001b[39m\u001b[38;5;124m'\u001b[39m,fn_out)\n",
      "\u001b[0;31mPermissionError\u001b[0m: [Errno 13] Permission denied: '/scratch/PFM_Simulations/LV4_Forecast/Forc/BC_LV4_tmp_file.pkl'"
     ]
    }
   ],
   "source": [
    "ocnfuns.mk_LV2_BC_dict_edges('4')"
   ]
  },
  {
   "cell_type": "code",
   "execution_count": 2,
   "metadata": {},
   "outputs": [
    {
     "name": "stdout",
     "output_type": "stream",
     "text": [
      "we are remaking the PFM.pkl file...\n",
      "getting PFM info...\n",
      "removing PFM info file...\n",
      "we are not adding tidal forcing as Hycom includes tides.\n",
      "PFM info was saved as /scratch/PFM_Simulations/PFM_run_info.pkl\n",
      "OCN_LV3_BC dict loaded with pickle\n",
      "interpolating z with normal loops.\n"
     ]
    },
    {
     "name": "stderr",
     "output_type": "stream",
     "text": [
      "Traceback (most recent call last):\n",
      "  File \"/home/mspydell/models/PFM_root/PFM/sdpm_py_util/ocn_functions.py\", line 6211, in <module>\n",
      "    globals()[args[1]](*args[2:])\n",
      "  File \"/home/mspydell/models/PFM_root/PFM/sdpm_py_util/ocn_functions.py\", line 5312, in mk_LV2_BC_dict\n",
      "    with open(fn_out,'wb') as fout:\n",
      "              ^^^^^^\n",
      "UnboundLocalError: cannot access local variable 'fn_out' where it is not associated with a value\n"
     ]
    }
   ],
   "source": [
    "ocnfuns.mk_LV2_BC_dict('4')"
   ]
  },
  {
   "cell_type": "code",
   "execution_count": 5,
   "metadata": {},
   "outputs": [
    {
     "name": "stdout",
     "output_type": "stream",
     "text": [
      "dict_keys(['temp_south', 'salt_south', 'u_south', 'v_south', 'ubar_south', 'vbar_south', 'zeta_south', 'temp_north', 'salt_north', 'u_north', 'v_north', 'ubar_north', 'vbar_north', 'zeta_north', 'temp_west', 'salt_west', 'u_west', 'v_west', 'ubar_west', 'vbar_west', 'zeta_west', 'Vtransform', 'Vstretching', 'theta_s', 'theta_b', 'Tcline', 'hc', 'ocean_time', 'zeta_time', 'v2d_time', 'v3d_time', 'salt_time', 'temp_time', 'Cs_r'])\n",
      "dict_keys(['theta_s', 'theta_b', 'Tcline', 'hc', 'Cs_r', 'sc_r', 'Cs_w', 'sc_w', 'zeta_time', 'v2d_time', 'v3d_time', 'salt_time', 'temp_time', 'zeta_south', 'zeta_north', 'zeta_west', 'ubar_south', 'ubar_north', 'ubar_west', 'vbar_south', 'vbar_north', 'vbar_west', 'u_south', 'u_north', 'u_west', 'v_south', 'v_north', 'v_west', 'temp_south', 'temp_north', 'temp_west', 'salt_south', 'salt_north', 'salt_west', 'dye_north_01', 'dye_north_02', 'dye_south_01', 'dye_south_02', 'dye_west_01', 'dye_west_02', 'dye_time'])\n"
     ]
    }
   ],
   "source": [
    "fn_bc3 = '/scratch/PFM_Simulations/LV3_Forecast/Forc/LV3_OCEAN_BC.nc'\n",
    "fn_gr3 = '/scratch/PFM_Simulations/Grids/GRID_SDTJRE_LV3_rx020.nc'\n",
    "fn_ic4 = '/scratch/matt/sdtjre_L4/IC_LV4_2016121100_tide_DK_4river_Nz10.nc'\n",
    "fn_gr4 = '/scratch/PFM_Simulations/Grids/GRID_SDTJRE_LV4_ROTATE_rx020_hplus020_DK_4river_otaymk.nc'\n",
    "fn_clm4 = '/scratch/matt/sdtjre_L4/ocean_clm_20180101_DK_4river_Nz10.nc'\n",
    "fn_bc4 = '/scratch/matt/sdtjre_L4/BC_LV4_20161207_20170804_Nz10_dye.nc'\n",
    "fn_nud4 = '/scratch/matt/sdtjre_L4/ocean_nudcoef_DK_4river_10day_Nz10.nc'\n",
    "fn_tr4 = '/scratch/matt/sdtjre_L4/river_tracer_4river_NADB2017_0.nc'\n",
    "\n",
    "bcl3 = netCDF4.Dataset(fn_bc3)\n",
    "bcl4 = netCDF4.Dataset(fn_bc4)\n",
    "\n",
    "pprint.pp(bcl3.variables.keys())\n",
    "pprint.pp(bcl4.variables.keys())\n"
   ]
  },
  {
   "cell_type": "code",
   "execution_count": 6,
   "metadata": {},
   "outputs": [
    {
     "data": {
      "image/png": "[encoded data removed]",
      "text/plain": [
       "<Figure size 640x480 with 1 Axes>"
      ]
     },
     "metadata": {},
     "output_type": "display_data"
    }
   ],
   "source": [
    "\n",
    "gr3 = netCDF4.Dataset(fn_gr3)\n",
    "gr4 = netCDF4.Dataset(fn_gr4)\n",
    "\n",
    "fig, ax = plt.subplots()\n",
    "p1=ax.plot(gr3['lon_rho'][:],gr3['lat_rho'][:],'k.')\n",
    "p1=ax.plot(gr4['lon_rho'][:],gr4['lat_rho'][:],'r.')\n"
   ]
  },
  {
   "cell_type": "code",
   "execution_count": null,
   "metadata": {},
   "outputs": [],
   "source": []
  },
  {
   "cell_type": "code",
   "execution_count": 31,
   "metadata": {},
   "outputs": [
    {
     "name": "stdout",
     "output_type": "stream",
     "text": [
      "[6550.5 6790.5]\n",
      "[[[0. 0. 0. 0. 0. 0. 0. 0. 0.]\n",
      "  [0. 0. 0. 0. 0. 0. 0. 0. 0.]\n",
      "  [0. 0. 0. 0. 0. 0. 0. 0. 0.]\n",
      "  [0. 0. 0. 0. 0. 0. 0. 0. 0.]\n",
      "  [0. 0. 0. 0. 0. 0. 0. 0. 0.]\n",
      "  [0. 0. 0. 0. 0. 0. 0. 0. 0.]\n",
      "  [0. 0. 0. 0. 0. 0. 0. 0. 0.]\n",
      "  [0. 0. 0. 0. 0. 0. 0. 0. 0.]\n",
      "  [0. 0. 0. 0. 0. 0. 0. 0. 0.]]\n",
      "\n",
      " [[0. 0. 0. 0. 0. 0. 0. 0. 0.]\n",
      "  [0. 0. 0. 0. 0. 0. 0. 0. 0.]\n",
      "  [0. 0. 0. 0. 0. 0. 0. 0. 0.]\n",
      "  [0. 0. 0. 0. 0. 0. 0. 0. 0.]\n",
      "  [0. 0. 0. 0. 0. 0. 0. 0. 0.]\n",
      "  [0. 0. 0. 0. 0. 0. 0. 0. 0.]\n",
      "  [0. 0. 0. 0. 0. 0. 0. 0. 0.]\n",
      "  [0. 0. 0. 0. 0. 0. 0. 0. 0.]\n",
      "  [0. 0. 0. 0. 0. 0. 0. 0. 0.]]]\n"
     ]
    }
   ],
   "source": [
    "t_dye = bcl4['dye_time'][:]\n",
    "d1_n = bcl4['dye_south_02'][:]\n",
    "\n",
    "\n",
    "print(t_dye)\n",
    "print(d1_n[:,1:10,1:10])\n"
   ]
  },
  {
   "cell_type": "code",
   "execution_count": 88,
   "metadata": {},
   "outputs": [
    {
     "name": "stdout",
     "output_type": "stream",
     "text": [
      "dict_keys(['spherical', 'Vtransform', 'Vstretching', 'theta_s', 'theta_b', 'Tcline', 'hc', 'Cs_r', 'sc_r', 'Cs_w', 'sc_w', 'temp_time', 'salt_time', 'temp', 'salt', 'dye_time', 'dye_01', 'dye_02'])\n",
      "[6544.5 6940.5]\n",
      "[6544.5 6940.5]\n",
      "[6544.5 6940.5]\n",
      "(2, 10, 1142, 486)\n",
      "[0. 0. 0. 0. 0. 0. 0. 0. 0. 0. 0. 0. 0. 0. 0. 0. 0. 0. 0. 0. 0. 0. 0. 0.\n",
      " 0. 0. 0. 0. 0. 0. 0. 0. 0. 0. 0. 0. 0. 0. 0. 0. 0. 0. 0. 0. 0. 0. 0. 0.\n",
      " 0. 0. 0. 0. 0. 0. 0. 0. 0. 0. 0. 0. 0. 0. 0. 0. 0. 0. 0. 0. 0. 0. 0. 0.\n",
      " 0. 0. 0. 0. 0. 0. 0. 0. 0. 0. 0. 0. 0. 0. 0. 0. 0. 0. 0. 0. 0. 0. 0. 0.\n",
      " 0. 0. 0. 0. 0. 0. 0. 0. 0. 0. 0. 0. 0. 0. 0. 0. 0. 0. 0. 0. 0. 0. 0. 0.\n",
      " 0. 0. 0. 0. 0. 0. 0. 0. 0. 0. 0. 0. 0. 0. 0. 0. 0. 0. 0. 0. 0. 0. 0. 0.\n",
      " 0. 0. 0. 0. 0. 0. 0. 0. 0. 0. 0. 0. 0. 0. 0. 0. 0. 0. 0. 0. 0. 0. 0. 0.\n",
      " 0. 0. 0. 0. 0. 0. 0. 0. 0. 0. 0. 0. 0. 0. 0. 0. 0. 0. 0. 0. 0. 0. 0. 0.\n",
      " 0. 0. 0. 0. 0. 0. 0. 0. 0. 0. 0. 0. 0. 0. 0. 0. 0. 0. 0. 0. 0. 0. 0. 0.\n",
      " 0. 0. 0. 0. 0. 0. 0. 0. 0. 0. 0. 0. 0. 0. 0. 0. 0. 0. 0. 0. 0. 0. 0. 0.\n",
      " 0. 0. 0. 0. 0. 0. 0. 0. 0. 0. 0. 0. 0. 0. 0. 0. 0. 0. 0. 0. 0. 0. 0. 0.\n",
      " 0. 0. 0. 0. 0. 0. 0. 0. 0. 0. 0. 0. 0. 0. 0. 0. 0. 0. 0. 0. 0. 0. 0. 0.\n",
      " 0. 0. 0. 0. 0. 0. 0. 0. 0. 0. 0. 0. 0. 0. 0. 0. 0. 0. 0. 0. 0. 0. 0. 0.\n",
      " 0. 0. 0. 0. 0. 0. 0. 0. 0. 0. 0. 0. 0. 0. 0. 0. 0. 0. 0. 0. 0. 0. 0. 0.\n",
      " 0. 0. 0. 0. 0. 0. 0. 0. 0. 0. 0. 0. 0. 0. 0. 0. 0. 0. 0. 0. 0. 0. 0. 0.\n",
      " 0. 0. 0. 0. 0. 0. 0. 0. 0. 0. 0. 0. 0. 0. 0. 0. 0. 0. 0. 0. 0. 0. 0. 0.\n",
      " 0. 0. 0. 0. 0. 0. 0. 0. 0. 0. 0. 0. 0. 0. 0. 0. 0. 0. 0. 0. 0. 0. 0. 0.\n",
      " 0. 0. 0. 0. 0. 0. 0. 0. 0. 0. 0. 0. 0. 0. 0. 0. 0. 0. 0. 0. 0. 0. 0. 0.\n",
      " 0. 0. 0. 0. 0. 0. 0. 0. 0. 0. 0. 0. 0. 0. 0. 0. 0. 0. 0. 0. 0. 0. 0. 0.\n",
      " 0. 0. 0. 0. 0. 0. 0. 0. 0. 0. 0. 0. 0. 0. 0. 0. 0. 0. 0. 0. 0. 0. 0. 0.\n",
      " 0. 0. 0. 0. 0. 0.]\n",
      "[-- -- -- -- -- -- -- -- -- -- -- -- -- -- -- -- -- -- -- -- -- -- -- --\n",
      " -- -- -- -- -- -- -- -- -- -- -- -- -- -- -- -- -- -- -- -- -- -- -- --\n",
      " -- -- -- -- -- -- -- -- -- -- -- -- -- -- -- -- -- -- -- -- -- -- -- --\n",
      " -- -- -- -- -- -- -- -- -- -- -- -- -- -- -- -- -- -- -- -- -- -- -- --\n",
      " -- -- -- -- -- -- -- -- -- -- -- -- -- -- -- -- -- -- -- -- -- -- -- --\n",
      " -- -- -- -- -- -- -- -- -- -- -- -- -- -- -- -- -- -- -- -- -- -- -- --\n",
      " -- -- -- -- -- -- -- -- -- -- -- -- -- -- -- -- -- -- -- -- -- -- -- --\n",
      " -- -- -- -- -- -- -- -- -- -- -- -- -- -- -- -- -- -- -- -- -- -- -- --\n",
      " -- -- -- -- -- -- -- -- -- -- -- -- -- -- -- -- -- -- -- -- -- -- -- --\n",
      " -- -- -- -- -- -- -- -- -- -- -- -- -- -- -- -- -- -- -- -- -- -- -- --\n",
      " -- -- -- -- -- -- -- -- -- -- -- -- -- -- -- -- -- -- -- -- -- -- -- --\n",
      " -- -- -- -- -- -- -- -- -- -- -- -- -- -- -- -- -- -- -- -- -- -- -- --\n",
      " -- -- -- -- -- -- -- -- -- -- -- -- -- -- -- -- -- -- -- -- -- -- -- --\n",
      " -- -- -- -- -- -- -- -- -- -- -- -- -- -- -- -- -- -- -- -- -- -- -- --\n",
      " -- -- -- -- -- -- -- -- -- -- -- -- -- -- -- -- -- -- -- -- -- -- -- --\n",
      " -- -- -- -- -- -- -- -- -- -- -- -- -- -- -- -- -- -- -- -- -- -- -- --\n",
      " -- -- -- -- -- -- -- -- -- -- -- -- -- -- -- -- -- -- -- -- -- -- -- --\n",
      " -- -- -- -- -- -- -- -- -- -- -- -- -- -- -- -- -- -- -- -- -- -- -- --\n",
      " -- -- -- -- -- -- -- -- -- -- -- -- -- -- -- -- -- -- -- -- -- -- -- --\n",
      " -- -- -- -- -- -- -- -- -- -- -- -- -- -- -- -- -- -- -- -- -- -- -- --\n",
      " -- -- -- -- -- --]\n",
      "[-- -- -- -- -- -- -- -- -- -- -- -- -- -- -- -- -- -- -- -- -- -- -- --\n",
      " -- -- -- -- -- -- -- -- -- -- -- -- -- -- -- -- -- -- -- -- -- -- -- --\n",
      " -- -- -- -- -- -- -- -- -- -- -- -- -- -- -- -- -- -- -- -- -- -- -- --\n",
      " -- -- -- -- -- -- -- -- -- -- -- -- -- -- -- -- -- -- -- -- -- -- -- --\n",
      " -- -- -- -- -- -- -- -- -- -- -- -- -- -- -- -- -- -- -- -- -- -- -- --\n",
      " -- -- -- -- -- -- -- -- -- -- -- -- -- -- -- -- -- -- -- -- -- -- -- --\n",
      " -- -- -- -- -- -- -- -- -- -- -- -- -- -- -- -- -- -- -- -- -- -- -- --\n",
      " -- -- -- -- -- -- -- -- -- -- -- -- -- -- -- -- -- -- -- -- -- -- -- --\n",
      " -- -- -- -- -- -- -- -- -- -- -- -- -- -- -- -- -- -- -- -- -- -- -- --\n",
      " -- -- -- -- -- -- -- -- -- -- -- -- -- -- -- -- -- -- -- -- -- -- -- --\n",
      " -- -- -- -- -- -- -- -- -- -- -- -- -- -- -- -- -- -- -- -- -- -- -- --\n",
      " -- -- -- -- -- -- -- -- -- -- -- -- -- -- -- -- -- -- -- -- -- -- -- --\n",
      " -- -- -- -- -- -- -- -- -- -- -- -- -- -- -- -- -- -- -- -- -- -- -- --\n",
      " -- -- -- -- -- -- -- -- -- -- -- -- -- -- -- -- -- -- -- -- -- -- -- --\n",
      " -- -- -- -- -- -- -- -- -- -- -- -- -- -- -- -- -- -- -- -- -- -- -- --\n",
      " -- -- -- -- -- -- -- -- -- -- -- -- -- -- -- -- -- -- -- -- -- -- -- --\n",
      " -- -- -- -- -- -- -- -- -- -- -- -- -- -- -- -- -- -- -- -- -- -- -- --\n",
      " -- -- -- -- -- -- -- -- -- -- -- -- -- -- -- -- -- -- -- -- -- -- -- --\n",
      " -- -- -- -- -- -- -- -- -- -- -- -- -- -- -- -- -- -- -- -- -- -- -- --\n",
      " -- -- -- -- -- -- -- -- -- -- -- -- -- -- -- -- -- -- -- -- -- -- -- --\n",
      " -- -- -- -- -- --]\n",
      "[2]\n",
      "[4]\n",
      "[4.5]\n",
      "[3.]\n",
      "[3.5]\n",
      "[3.5]\n"
     ]
    }
   ],
   "source": [
    "clm4 = netCDF4.Dataset(fn_clm4)\n",
    "pprint.pp(clm4.variables.keys())\n",
    "\n",
    "d1 = clm4['dye_01'][:]\n",
    "td1 = clm4['dye_time'][:]\n",
    "print(td1)\n",
    "print(clm4['temp_time'][:])\n",
    "print(clm4['salt_time'][:])\n",
    "print(np.shape(d1))\n",
    "\n",
    "print(d1[0,-1,0,:])\n",
    "print(clm4['salt'][1,-1,300,:])\n",
    "print(clm4['temp'][1,-1,300,:])\n",
    "print(clm4['Vtransform'][:])\n",
    "print(clm4['Vstretching'][:])\n",
    "print(clm4['theta_s'][:])\n",
    "print(clm4['theta_b'][:])\n",
    "print(clm4['Tcline'][:])\n",
    "print(clm4['hc'][:])\n"
   ]
  },
  {
   "cell_type": "code",
   "execution_count": 46,
   "metadata": {},
   "outputs": [
    {
     "name": "stdout",
     "output_type": "stream",
     "text": [
      "dict_keys(['spherical', 'lat_rho', 'lon_rho', 'temp_NudgeCoef', 'salt_NudgeCoef', 'tracer_NudgeCoef'])\n",
      "(10, 1142, 486)\n",
      "[-- -- -- -- -- -- -- -- -- -- -- -- -- -- -- -- -- -- -- -- -- -- -- --\n",
      " -- -- -- -- -- -- -- -- -- -- -- -- -- -- -- -- -- -- -- -- -- -- -- --\n",
      " -- -- -- -- -- -- -- -- -- -- -- -- -- -- -- -- -- -- -- -- -- -- -- --\n",
      " -- -- -- -- -- -- -- -- -- -- -- -- -- -- -- -- -- -- -- -- -- -- -- --\n",
      " -- -- -- -- -- -- -- -- -- -- -- -- -- -- -- -- -- -- -- -- -- -- -- --\n",
      " -- -- -- -- -- -- -- -- -- -- -- -- -- -- -- -- -- -- -- -- -- -- -- --\n",
      " -- -- -- -- -- -- -- -- -- -- -- -- -- -- -- -- -- -- -- -- -- -- -- --\n",
      " -- -- -- -- -- -- -- -- -- -- -- -- -- -- -- -- -- -- -- -- -- -- -- --\n",
      " -- -- -- -- -- -- -- -- -- -- -- -- -- -- -- -- -- -- -- -- -- -- -- --\n",
      " -- -- -- -- -- -- -- -- -- -- -- -- -- -- -- -- -- -- -- -- -- -- -- --\n",
      " -- -- -- -- -- -- -- -- -- -- -- -- -- -- -- -- -- -- -- -- -- -- -- --\n",
      " -- -- -- -- -- -- -- -- -- -- -- -- -- -- -- -- -- -- -- -- -- -- -- --\n",
      " -- -- -- -- -- -- -- -- -- -- -- -- -- -- -- -- -- -- -- -- -- -- -- --\n",
      " -- -- -- -- -- -- -- -- -- -- -- -- -- -- -- -- -- -- -- -- -- -- -- --\n",
      " -- -- -- -- -- -- -- -- -- -- -- -- -- -- -- -- -- -- -- -- -- -- -- --\n",
      " -- -- -- -- -- -- -- -- -- -- -- -- -- -- -- -- -- -- -- -- -- -- -- --\n",
      " -- -- -- -- -- -- -- -- -- -- -- -- -- -- -- -- -- -- -- -- -- -- -- --\n",
      " -- -- -- -- -- -- -- -- -- -- -- -- -- -- -- -- -- -- -- -- -- -- -- --\n",
      " -- -- -- -- -- -- -- -- -- -- -- -- -- -- -- -- -- -- -- -- -- -- -- --\n",
      " -- -- -- -- -- -- -- -- -- -- -- -- -- -- -- -- -- -- -- -- -- -- -- --\n",
      " -- -- -- -- -- --]\n",
      "[-- -- -- -- -- -- -- -- -- -- -- -- -- -- -- -- -- -- -- -- -- -- -- --\n",
      " -- -- -- -- -- -- -- -- -- -- -- -- -- -- -- -- -- -- -- -- -- -- -- --\n",
      " -- -- -- -- -- -- -- -- -- -- -- -- -- -- -- -- -- -- -- -- -- -- -- --\n",
      " -- -- -- -- -- -- -- -- -- -- -- -- -- -- -- -- -- -- -- -- -- -- -- --\n",
      " -- -- -- -- -- -- -- -- -- -- -- -- -- -- -- -- -- -- -- -- -- -- -- --\n",
      " -- -- -- -- -- -- -- -- -- -- -- -- -- -- -- -- -- -- -- -- -- -- -- --\n",
      " -- -- -- -- -- -- -- -- -- -- -- -- -- -- -- -- -- -- -- -- -- -- -- --\n",
      " -- -- -- -- -- -- -- -- -- -- -- -- -- -- -- -- -- -- -- -- -- -- -- --\n",
      " -- -- -- -- -- -- -- -- -- -- -- -- -- -- -- -- -- -- -- -- -- -- -- --\n",
      " -- -- -- -- -- -- -- -- -- -- -- -- -- -- -- -- -- -- -- -- -- -- -- --\n",
      " -- -- -- -- -- -- -- -- -- -- -- -- -- -- -- -- -- -- -- -- -- -- -- --\n",
      " -- -- -- -- -- -- -- -- -- -- -- -- -- -- -- -- -- -- -- -- -- -- -- --\n",
      " -- -- -- -- -- -- -- -- -- -- -- -- -- -- -- -- -- -- -- -- -- -- -- --\n",
      " -- -- -- -- -- -- -- -- -- -- -- -- -- -- -- -- -- -- -- -- -- -- -- --\n",
      " -- -- -- -- -- -- -- -- -- -- -- -- -- -- -- -- -- -- -- -- -- -- -- --\n",
      " -- -- -- -- -- -- -- -- -- -- -- -- -- -- -- -- -- -- -- -- -- -- -- --\n",
      " -- -- -- -- -- -- -- -- -- -- -- -- -- -- -- -- -- -- -- -- -- -- -- --\n",
      " -- -- -- -- -- -- -- -- -- -- -- -- -- -- -- -- -- -- -- -- -- -- -- --\n",
      " -- -- -- -- -- -- -- -- -- -- -- -- -- -- -- -- -- -- -- -- -- -- -- --\n",
      " -- -- -- -- -- -- -- -- -- -- -- -- -- -- -- -- -- -- -- -- -- -- -- --\n",
      " -- -- -- -- -- --]\n",
      "[0.1 0.1 0.1 0.1 0.1 0.1 0.1 0.1 0.1 0.1 0.1 0.1 0.1 0.1 0.1 0.1 0.1 0.1\n",
      " 0.1 0.1 0.1 0.1 0.1 0.1 0.1 0.1 0.1 0.1 0.1 0.1 0.1 0.1 0.1 0.1 0.1 0.1\n",
      " 0.1 0.1 0.1 0.1 0.1 0.1 0.1 0.1 0.1 0.1 0.1 0.1 0.1 0.1 0.1 0.1 0.1 0.1\n",
      " 0.1 0.1 0.1 0.1 0.1 0.1 0.1 0.1 0.1 0.1 0.1 0.1 0.1 0.1 0.1 0.1 0.1 0.1\n",
      " 0.1 0.1 0.1 0.1 0.1 0.1 0.1 0.1 0.1 0.1 0.1 0.1 0.1 0.1 0.1 0.1 0.1 0.1\n",
      " 0.1 0.1 0.1 0.1 0.1 0.1 0.1 0.1 0.1 0.1 0.1 0.1 0.1 0.1 0.1 0.1 0.1 0.1\n",
      " 0.1 0.1 0.1 0.1 0.1 0.1 0.1 0.1 0.1 0.1 0.1 0.1 0.1 0.1 0.1 0.1 0.1 0.1\n",
      " 0.1 0.1 0.1 0.1 0.1 0.1 0.1 0.1 0.1 0.1 0.1 0.1 0.1 0.1 0.1 0.1 0.1 0.1\n",
      " 0.1 0.1 0.1 0.1 0.1 0.1 0.1 0.1 0.1 0.1 0.1 0.1 0.1 0.1 0.1 0.1 0.1 0.1\n",
      " 0.1 0.1 0.1 0.1 0.1 0.1 0.1 0.1 0.1 0.1 0.1 0.1 0.1 0.1 0.1 0.1 0.1 0.1\n",
      " 0.1 0.1 0.1 0.1 0.1 0.1 0.1 0.1 0.1 0.1 0.1 0.1 0.1 0.1 0.1 0.1 0.1 0.1\n",
      " 0.1 0.1 0.1 0.1 0.1 0.1 0.1 0.1 0.1 0.1 0.1 0.1 0.1 0.1 0.1 0.1 0.1 0.1\n",
      " 0.1 0.1 0.1 0.1 0.1 0.1 0.1 0.1 0.1 0.1 0.1 0.1 0.1 0.1 0.1 0.1 0.1 0.1\n",
      " 0.1 0.1 0.1 0.1 0.1 0.1 0.1 0.1 0.1 0.1 0.1 0.1 0.1 0.1 0.1 0.1 0.1 0.1\n",
      " 0.1 0.1 0.1 0.1 0.1 0.1 0.1 0.1 0.1 0.1 0.1 0.1 0.1 0.1 0.1 0.1 0.1 0.1\n",
      " 0.1 0.1 0.1 0.1 0.1 0.1 0.1 0.1 0.1 0.1 0.1 0.1 0.1 0.1 0.1 0.1 0.1 0.1\n",
      " 0.1 0.1 0.1 0.1 0.1 0.1 0.1 0.1 0.1 0.1 0.1 0.1 0.1 0.1 0.1 0.1 0.1 0.1\n",
      " 0.1 0.1 0.1 0.1 0.1 0.1 0.1 0.1 0.1 0.1 0.1 0.1 0.1 0.1 0.1 0.1 0.1 0.1\n",
      " 0.1 0.1 0.1 0.1 0.1 0.1 0.1 0.1 0.1 0.1 0.1 0.1 0.1 0.1 0.1 0.1 0.1 0.1\n",
      " 0.1 0.1 0.1 0.1 0.1 0.1 0.1 0.1 0.1 0.1 0.1 0.1 0.1 0.1 0.1 0.1 0.1 0.1\n",
      " 0.1 0.1 0.1 0.1 0.1 0.1 0.1 0.1 0.1 0.1 0.1 0.1 0.1 0.1 0.1 0.1 0.1 0.1\n",
      " 0.1 0.1 0.1 0.1 0.1 0.1 0.1 0.1 0.1 0.1 0.1 0.1 0.1 0.1 0.1 0.1 0.1 0.1\n",
      " 0.1 0.1 0.1 0.1 0.1 0.1 0.1 0.1 0.1 0.1 0.1 0.1 0.1 0.1 0.1 0.1 0.1 0.1\n",
      " 0.1 0.1 0.1 0.1 0.1 0.1 0.1 0.1 0.1 0.1 0.1 0.1 0.1 0.1 0.1 0.1 0.1 0.1\n",
      " 0.1 0.1 0.1 0.1 0.1 0.1 0.1 0.1 0.1 0.1 0.1 0.1 0.1 0.1 0.1 0.1 0.1 0.1\n",
      " 0.1 0.1 0.1 0.1 0.1 0.1 0.1 0.1 0.1 0.1 0.1 0.1 0.1 0.1 0.1 0.1 0.1 0.1\n",
      " 0.1 0.1 0.1 0.1 0.1 0.1 0.1 0.1 0.1 0.1 0.1 0.1 0.1 0.1 0.1 0.1 0.1 0.1]\n"
     ]
    }
   ],
   "source": [
    "nud4 = netCDF4.Dataset(fn_nud4)\n",
    "pprint.pp(nud4.variables.keys())\n",
    "print(np.shape(nud4['temp_NudgeCoef'][:]))\n",
    "print(nud4['temp_NudgeCoef'][0,500,:])\n",
    "print(nud4['salt_NudgeCoef'][0,500,:])\n",
    "print(nud4['tracer_NudgeCoef'][0,500,:])"
   ]
  },
  {
   "cell_type": "code",
   "execution_count": 48,
   "metadata": {},
   "outputs": [
    {
     "name": "stdout",
     "output_type": "stream",
     "text": [
      "dict_keys(['spherical', 'Vtransform', 'Vstretching', 'theta_s', 'theta_b', 'Tcline', 'hc', 'Cs_r', 'sc_r', 'Cs_w', 'sc_w', 'ocean_time', 'salt', 'temp', 'u', 'ubar', 'v', 'vbar', 'zeta', 'sand_01', 'sandfrac_01', 'sandmass_01', 'bed_thickness', 'bed_age', 'bed_porosity', 'bed_biodiff', 'grain_diameter', 'grain_density', 'settling_vel', 'erosion_stress', 'ripple_length', 'ripple_height', 'dmix_offset', 'dmix_slope', 'dmix_time'])\n"
     ]
    }
   ],
   "source": [
    "ic4 = netCDF4.Dataset(fn_ic4)\n",
    "pprint.pp(ic4.variables.keys())\n"
   ]
  },
  {
   "cell_type": "code",
   "execution_count": 87,
   "metadata": {},
   "outputs": [
    {
     "name": "stdout",
     "output_type": "stream",
     "text": [
      "dict_keys(['theta_s', 'theta_b', 'Tcline', 'hc', 'Cs_r', 'sc_r', 'Cs_w', 'sc_w', 'river', 'river_time', 'river_Xposition', 'river_Eposition', 'river_direction', 'river_Vshape', 'river_transport', 'river_flag', 'river_temp', 'river_salt', 'river_dye_01', 'river_dye_02'])\n",
      "(9,)\n",
      "[1.0 -- -- -- -- -- -- -- --]\n",
      "(9457,)\n",
      "(9,)\n",
      "[433. 433. 433. 433. 433. 337. 464. 464. 439.]\n",
      "[614. 615. 613. 616. 612.  76. 961. 962. 779.]\n",
      "(9,)\n",
      "[0. 0. 0. 0. 0. 0. 0. 0. 0.]\n",
      "(10, 9)\n",
      "(9457, 9)\n",
      "(9,)\n",
      "[3. 3. 3. 3. 3. 3. 3. 3. 3.]\n",
      "(9457, 10, 9)\n",
      "[0.7 0.7 0.7 0.7 0.7 0.7 0.7 0.7 0.7 0.7]\n",
      "[[0.25 0.25 0.25 0.25 0.25 0.   0.   0.   0.  ]\n",
      " [0.25 0.25 0.25 0.25 0.25 0.   0.   0.   0.  ]\n",
      " [0.25 0.25 0.25 0.25 0.25 0.   0.   0.   0.  ]\n",
      " [0.25 0.25 0.25 0.25 0.25 0.   0.   0.   0.  ]\n",
      " [0.25 0.25 0.25 0.25 0.25 0.   0.   0.   0.  ]\n",
      " [0.25 0.25 0.25 0.25 0.25 0.   0.   0.   0.  ]\n",
      " [0.25 0.25 0.25 0.25 0.25 0.   0.   0.   0.  ]\n",
      " [0.25 0.25 0.25 0.25 0.25 0.   0.   0.   0.  ]\n",
      " [0.25 0.25 0.25 0.25 0.25 0.   0.   0.   0.  ]\n",
      " [0.25 0.25 0.25 0.25 0.25 0.   0.   0.   0.  ]]\n"
     ]
    },
    {
     "data": {
      "image/png": "[encoded data removed]",
      "text/plain": [
       "<Figure size 640x480 with 1 Axes>"
      ]
     },
     "metadata": {},
     "output_type": "display_data"
    }
   ],
   "source": [
    "tr4 = netCDF4.Dataset(fn_tr4)\n",
    "gr4 = netCDF4.Dataset(fn_gr4)\n",
    "pprint.pp(tr4.variables.keys())\n",
    "print(np.shape(tr4['river'][:]))\n",
    "print(tr4['river'][:])\n",
    "print(np.shape(tr4['river_time'][:]))\n",
    "print(np.shape(tr4['river_Xposition'][:]))\n",
    "print(tr4['river_Xposition'][:])\n",
    "print(tr4['river_Eposition'][:])\n",
    "print(np.shape(tr4['river_direction'][:]))\n",
    "print(tr4['river_direction'][:])\n",
    "print(np.shape(tr4['river_Vshape'][:]))\n",
    "#print(tr4['river_Vshape'][:])\n",
    "print(np.shape(tr4['river_transport'][:]))\n",
    "print(np.shape(tr4['river_flag'][:]))\n",
    "print(tr4['river_flag'][:])\n",
    "print(np.shape(tr4['river_temp'][:]))\n",
    "print(tr4['river_dye_01'][-1,:,5])\n",
    "print(tr4['river_dye_02'][0,:,:])\n",
    "\n",
    "fig, ax = plt.subplots()\n",
    "p1=ax.plot(tr4['river_time'][:],tr4['river_dye_01'][:,0,5],'k')\n",
    "p1=ax.plot(tr4['river_time'][:],tr4['river_dye_02'][:,0,0],'r')\n"
   ]
  },
  {
   "cell_type": "code",
   "execution_count": null,
   "metadata": {},
   "outputs": [],
   "source": [
    "\n",
    "fig, ax = plt.subplots()\n",
    "p0=ax.imshow(gr4['mask_rho'], interpolation='none',origin='lower')\n",
    "p1=ax.plot(tr4['river_Xposition'][:],tr4['river_Eposition'][:],'ro')\n",
    "\n"
   ]
  },
  {
   "cell_type": "code",
   "execution_count": null,
   "metadata": {},
   "outputs": [],
   "source": [
    "\n",
    "fig, ax = plt.subplots()\n",
    "p0=ax.imshow(d1_n[1,:,:], interpolation='none',origin='lower')\n",
    "fig.colorbar(p0, ax=ax,location='right')\n",
    "plt.axis('auto')\n"
   ]
  }
 ],
 "metadata": {
  "kernelspec": {
   "display_name": "base",
   "language": "python",
   "name": "python3"
  },
  "language_info": {
   "codemirror_mode": {
    "name": "ipython",
    "version": 3
   },
   "file_extension": ".py",
   "mimetype": "text/x-python",
   "name": "python",
   "nbconvert_exporter": "python",
   "pygments_lexer": "ipython3",
   "version": "3.12.2"
  }
 },
 "nbformat": 4,
 "nbformat_minor": 2
}
