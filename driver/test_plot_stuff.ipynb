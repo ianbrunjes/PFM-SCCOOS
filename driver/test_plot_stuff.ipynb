{
 "cells": [
  {
   "cell_type": "code",
   "execution_count": 1,
   "metadata": {},
   "outputs": [],
   "source": [
    "import netCDF4 as nc\n",
    "import numpy as np\n",
    "import matplotlib.pyplot as plt\n",
    "import cartopy.crs as ccrs\n",
    "import cartopy.feature as cfeature\n",
    "from cartopy.mpl.ticker import LongitudeFormatter, LatitudeFormatter\n",
    "import sys\n",
    "\n",
    "sys.path.append('/home/a1jadhav/pfm_root/PFM/sdpm_py_util')\n",
    "\n",
    "import grid_functions as grdfuns\n",
    "import plotting_functions as pltfuns"
   ]
  },
  {
   "cell_type": "code",
   "execution_count": 2,
   "metadata": {},
   "outputs": [],
   "source": [
    "file_path = '/home/ffeddersen/PFM/driver/test_of_ncks.nc'\n",
    "fngr = '/home/mspydell/models/SDPM_root/SDPM/grids/GRID_SDTJRE_LV1.nc'\n",
    "RMG = grdfuns.roms_grid_to_dict(fngr)"
   ]
  },
  {
   "cell_type": "code",
   "execution_count": 3,
   "metadata": {},
   "outputs": [
    {
     "ename": "AttributeError",
     "evalue": "module 'plotting_functions' has no attribute 'plot_ocn_fields_from_nc'",
     "output_type": "error",
     "traceback": [
      "\u001b[0;31m---------------------------------------------------------------------------\u001b[0m",
      "\u001b[0;31mAttributeError\u001b[0m                            Traceback (most recent call last)",
      "Cell \u001b[0;32mIn[3], line 1\u001b[0m\n\u001b[0;32m----> 1\u001b[0m pltfuns\u001b[38;5;241m.\u001b[39mplot_ocn_fields_from_nc(file_path, RMG, \u001b[38;5;124m'\u001b[39m\u001b[38;5;124msalinity\u001b[39m\u001b[38;5;124m'\u001b[39m)\n",
      "\u001b[0;31mAttributeError\u001b[0m: module 'plotting_functions' has no attribute 'plot_ocn_fields_from_nc'"
     ]
    }
   ],
   "source": [
    "pltfuns.plot_ocn_fields_from_nc(file_path, RMG, 'salinity')"
   ]
  }
 ],
 "metadata": {
  "kernelspec": {
   "display_name": "base",
   "language": "python",
   "name": "python3"
  },
  "language_info": {
   "codemirror_mode": {
    "name": "ipython",
    "version": 3
   },
   "file_extension": ".py",
   "mimetype": "text/x-python",
   "name": "python",
   "nbconvert_exporter": "python",
   "pygments_lexer": "ipython3",
   "version": "3.12.2"
  }
 },
 "nbformat": 4,
 "nbformat_minor": 2
}
