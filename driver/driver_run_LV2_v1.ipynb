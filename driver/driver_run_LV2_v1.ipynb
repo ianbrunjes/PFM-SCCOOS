{
 "cells": [
  {
   "cell_type": "code",
   "execution_count": 1,
   "metadata": {},
   "outputs": [
    {
     "name": "stderr",
     "output_type": "stream",
     "text": [
      "/home/mspydell/models/PFM_root/PFM/driver/../sdpm_py_util/ocn_functions.py:23: UserWarning: The seawater library is deprecated! Please use gsw instead.\n",
      "  import seawater\n"
     ]
    }
   ],
   "source": [
    "# -- driver_run_forecast_LV2_v1.py  --\n",
    "# master python script to do a full LV2 forecast simulation\n",
    "\n",
    "import sys\n",
    "import pickle\n",
    "import numpy as np\n",
    "import os\n",
    "from datetime import datetime\n",
    "import gc\n",
    "import resource\n",
    "import subprocess\n",
    "\n",
    "##############\n",
    "\n",
    "sys.path.append('../sdpm_py_util')\n",
    "\n",
    "import atm_functions as atmfuns\n",
    "import ocn_functions as ocnfuns\n",
    "import grid_functions as grdfuns\n",
    "import plotting_functions as pltfuns\n",
    "from get_PFM_info import get_PFM_info\n",
    "from init_funs import initialize_simulation\n",
    "from make_LV1_dotin_and_SLURM import make_LV1_dotin_and_SLURM\n",
    "from run_slurm_LV1 import run_slurm_LV1\n",
    "\n",
    "level = 2"
   ]
  },
  {
   "cell_type": "code",
   "execution_count": null,
   "metadata": {},
   "outputs": [],
   "source": [
    "# need to run the LV1 simulation to make LV1_his.nc\n",
    "# and get the raw hycom and atm data.  \n",
    "cmd_list = ['python','-W','ignore','driver_run_forecast_LV1_v4.py']\n",
    "ret1 = subprocess.run(cmd_list)     \n"
   ]
  },
  {
   "cell_type": "code",
   "execution_count": 2,
   "metadata": {},
   "outputs": [
    {
     "name": "stdout",
     "output_type": "stream",
     "text": [
      "PFM info was loaded from /scratch/PFM_Simulations/PFM_run_info.pkl\n"
     ]
    }
   ],
   "source": [
    "PFM=get_PFM_info()"
   ]
  },
  {
   "cell_type": "code",
   "execution_count": 2,
   "metadata": {},
   "outputs": [
    {
     "name": "stdout",
     "output_type": "stream",
     "text": [
      "in atmfuns.get_atm_data_on_roms_grid(ATM,RMG)\n",
      "doing level: 2\n",
      "PFM info was loaded from /scratch/PFM_Simulations/PFM_run_info.pkl\n",
      "\n",
      "ATM on roms grid dict saved with pickle.\n",
      "return code: 0 (0=good)\n",
      "done with: atmfuns.get_atm_data_on_roms_grid(ATM,RMG)\n",
      "this took:\n",
      "0:00:01.750690\n",
      "\n",
      "\n"
     ]
    }
   ],
   "source": [
    "# putting atm raw data on to the roms LV2 grid\n",
    "t1 = datetime.now()\n",
    "# put the atm data on the roms grid, and rotate the velocities\n",
    "# everything in this dict turn into the atm.nc file\n",
    "print('in atmfuns.get_atm_data_on_roms_grid(ATM,RMG)')\n",
    "print('doing level: ' + str(level))\n",
    "cmd_list = ['python','-W','ignore','atm_functions.py','get_atm_data_on_roms_grid',str(level)]\n",
    "os.chdir('../sdpm_py_util')\n",
    "ret5 = subprocess.run(cmd_list)   \n",
    "print('return code: ' + str(ret5.returncode) + ' (0=good)')  \n",
    "os.chdir('../sdpm_py_util')\n",
    "print('done with: atmfuns.get_atm_data_on_roms_grid(ATM,RMG)')\n",
    "# all the fields plotted with the data on roms grid\n",
    "t2 = datetime.now()\n",
    "print('this took:')\n",
    "print(t2-t1)\n",
    "print('\\n')\n",
    "\n"
   ]
  },
  {
   "cell_type": "code",
   "execution_count": 2,
   "metadata": {},
   "outputs": [
    {
     "name": "stdout",
     "output_type": "stream",
     "text": [
      "plotting atm and atm on roms grid...\n",
      "PFM info was loaded from /scratch/PFM_Simulations/PFM_run_info.pkl\n",
      "...done with: pltfuns.plot_all_fields_in_one\n",
      "this took:\n",
      "0:00:10.103977\n",
      "\n",
      "\n"
     ]
    },
    {
     "data": {
      "text/plain": [
       "<Figure size 640x480 with 0 Axes>"
      ]
     },
     "metadata": {},
     "output_type": "display_data"
    }
   ],
   "source": [
    "# plot both raw and LV2 atm fields\n",
    "t1 = datetime.now()\n",
    "plot_all_atm = 1\n",
    "if plot_all_atm == 1:\n",
    "    print('plotting atm and atm on roms grid...')\n",
    "    pltfuns.plot_all_fields_in_one(str(level))\n",
    "    print('...done with: pltfuns.plot_all_fields_in_one')\n",
    "\n",
    "t2 = datetime.now()\n",
    "print('this took:')\n",
    "print(t2-t1)\n",
    "print('\\n')\n"
   ]
  },
  {
   "cell_type": "code",
   "execution_count": 4,
   "metadata": {},
   "outputs": [
    {
     "name": "stdout",
     "output_type": "stream",
     "text": [
      "driver_run_forcast_LV2: saving LV2_ATM.nc file\n",
      "PFM info was loaded from /scratch/PFM_Simulations/PFM_run_info.pkl\n",
      "return code: 0 (0=good)\n",
      "driver_run_forecast_L21:  done with writing LV2_ATM.nc file.\n"
     ]
    }
   ],
   "source": [
    "# save the atm data into LV2_atm.nc\n",
    "print('driver_run_forcast_LV2: saving LV2_ATM.nc file')\n",
    "#atmfuns.atm_roms_dict_to_netcdf(str(level))\n",
    "cmd_list = ['python','-W','ignore','atm_functions.py','atm_roms_dict_to_netcdf',str(level)]\n",
    "os.chdir('../sdpm_py_util')\n",
    "ret5 = subprocess.run(cmd_list)   \n",
    "print('return code: ' + str(ret5.returncode) + ' (0=good)')  \n",
    "os.chdir('../sdpm_py_util')\n",
    "print('driver_run_forecast_L21:  done with writing LV2_ATM.nc file.') \n",
    "# put in a function to plot the atm.nc file if we want to\n"
   ]
  }
 ],
 "metadata": {
  "kernelspec": {
   "display_name": "base",
   "language": "python",
   "name": "python3"
  },
  "language_info": {
   "codemirror_mode": {
    "name": "ipython",
    "version": 3
   },
   "file_extension": ".py",
   "mimetype": "text/x-python",
   "name": "python",
   "nbconvert_exporter": "python",
   "pygments_lexer": "ipython3",
   "version": "3.12.2"
  }
 },
 "nbformat": 4,
 "nbformat_minor": 2
}
