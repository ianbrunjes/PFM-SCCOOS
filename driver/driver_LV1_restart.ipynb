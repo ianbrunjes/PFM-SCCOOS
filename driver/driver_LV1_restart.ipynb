{
 "cells": [
  {
   "cell_type": "code",
   "execution_count": 1,
   "metadata": {},
   "outputs": [
    {
     "name": "stderr",
     "output_type": "stream",
     "text": [
      "/home/mspydell/models/PFM_root/PFM/driver/../sdpm_py_util/ocn_functions.py:27: UserWarning: The seawater library is deprecated! Please use gsw instead.\n",
      "  import seawater\n"
     ]
    }
   ],
   "source": [
    "from datetime import datetime, timezone, timedelta\n",
    "import netCDF4\n",
    "import numpy as np\n",
    "import matplotlib.pyplot as plt\n",
    "import sys\n",
    "import glob\n",
    "import xarray as xr\n",
    "sys.path.append('../sdpm_py_util')\n",
    "import ocn_functions as ocnfuns\n",
    "import plotting_functions as pltfuns\n",
    "import atm_functions as atmfuns\n",
    "import init_funs as initfuns\n",
    "from get_PFM_info import get_PFM_info\n",
    "from util_functions import s_coordinate_4\n",
    "from util_functions import display_timing_info\n",
    "import observation_functions as obsfuns\n",
    "import shutil\n",
    "import cftime\n",
    "\n",
    "\n",
    "from make_LV4_dotin_and_SLURM import make_LV4_dotin_and_SLURM\n",
    "from run_slurm_LV4 import run_slurm_LV4\n",
    "\n",
    "\n",
    "import pickle\n",
    "import os\n",
    "import pprint\n",
    "import subprocess\n",
    "\n",
    "\n"
   ]
  },
  {
   "cell_type": "code",
   "execution_count": 20,
   "metadata": {},
   "outputs": [
    {
     "name": "stdout",
     "output_type": "stream",
     "text": [
      "there are no restart files in /scratch/PFM_Simulations/LV1_Forecast/Forc to move.\n",
      "there are no restart files in /scratch/PFM_Simulations/LV2_Forecast/Forc to move.\n",
      "there are no restart files in /scratch/PFM_Simulations/LV3_Forecast/Forc to move.\n",
      "there are no restart files in /scratch/PFM_Simulations/LV4_Forecast/Forc to move.\n",
      "nothing to remove, keeping /scratch/PFM_Simulations/restart_data/LV1_ocean_rst_202411200600_202411221800.nc\n",
      "nothing to remove, keeping /scratch/PFM_Simulations/restart_data/LV1_ocean_rst_202411190600_202411211800.nc\n",
      "nothing to remove, keeping /scratch/PFM_Simulations/restart_data/LV2_ocean_rst_202411200600_202411221800.nc\n",
      "nothing to remove, keeping /scratch/PFM_Simulations/restart_data/LV2_ocean_rst_202411190600_202411211800.nc\n",
      "nothing to remove, keeping /scratch/PFM_Simulations/restart_data/LV3_ocean_rst_202411190600_202411211800.nc\n",
      "nothing to remove, keeping /scratch/PFM_Simulations/restart_data/LV3_ocean_rst_202411200600_202411221800.nc\n",
      "nothing to remove, keeping /scratch/PFM_Simulations/restart_data/LV4_ocean_rst_202411190600_202411211800.nc\n",
      "nothing to remove, keeping /scratch/PFM_Simulations/restart_data/LV4_ocean_rst_202411200600_202411221800.nc\n",
      "going to restart LV1 from\n",
      "2024-11-21 06:00:00\n",
      "looking in /scratch/PFM_Simulations/restart_data/LV1_ocean_rst_202411200600_202411221800.nc for the right restart time...\n",
      "[datetime.datetime(2024, 11, 22, 18, 0), datetime.datetime(2024, 11, 22, 6, 0)]\n",
      "didnt find the right time in /scratch/PFM_Simulations/restart_data/LV1_ocean_rst_202411200600_202411221800.nc\n",
      "going to look at a previous forecast restart file...\n",
      "looking in /scratch/PFM_Simulations/restart_data/LV1_ocean_rst_202411190600_202411211800.nc for the right restart time...\n",
      "[datetime.datetime(2024, 11, 21, 18, 0), datetime.datetime(2024, 11, 21, 6, 0)]\n",
      "found the time!\n",
      "going to restart using /scratch/PFM_Simulations/restart_data/LV1_ocean_rst_202411190600_202411211800.nc and index 1\n",
      "going to restart LV2 from\n",
      "2024-11-21 06:00:00\n",
      "looking in /scratch/PFM_Simulations/restart_data/LV2_ocean_rst_202411200600_202411221800.nc for the right restart time...\n",
      "[datetime.datetime(2024, 11, 22, 18, 0), datetime.datetime(2024, 11, 22, 6, 0)]\n",
      "didnt find the right time in /scratch/PFM_Simulations/restart_data/LV2_ocean_rst_202411200600_202411221800.nc\n",
      "going to look at a previous forecast restart file...\n",
      "looking in /scratch/PFM_Simulations/restart_data/LV2_ocean_rst_202411190600_202411211800.nc for the right restart time...\n",
      "[datetime.datetime(2024, 11, 21, 18, 0), datetime.datetime(2024, 11, 21, 6, 0)]\n",
      "found the time!\n",
      "going to restart using /scratch/PFM_Simulations/restart_data/LV2_ocean_rst_202411190600_202411211800.nc and index 1\n",
      "going to restart LV3 from\n",
      "2024-11-21 06:00:00\n",
      "looking in /scratch/PFM_Simulations/restart_data/LV3_ocean_rst_202411200600_202411221800.nc for the right restart time...\n",
      "[datetime.datetime(2024, 11, 22, 18, 0), datetime.datetime(2024, 11, 22, 6, 0)]\n",
      "didnt find the right time in /scratch/PFM_Simulations/restart_data/LV3_ocean_rst_202411200600_202411221800.nc\n",
      "going to look at a previous forecast restart file...\n",
      "looking in /scratch/PFM_Simulations/restart_data/LV3_ocean_rst_202411190600_202411211800.nc for the right restart time...\n",
      "[datetime.datetime(2024, 11, 21, 18, 0), datetime.datetime(2024, 11, 21, 6, 0)]\n",
      "found the time!\n",
      "going to restart using /scratch/PFM_Simulations/restart_data/LV3_ocean_rst_202411190600_202411211800.nc and index 1\n",
      "going to restart LV4 from\n",
      "2024-11-21 06:00:00\n",
      "looking in /scratch/PFM_Simulations/restart_data/LV4_ocean_rst_202411200600_202411221800.nc for the right restart time...\n",
      "[datetime.datetime(2024, 11, 22, 18, 0), datetime.datetime(2024, 11, 22, 6, 0)]\n",
      "didnt find the right time in /scratch/PFM_Simulations/restart_data/LV4_ocean_rst_202411200600_202411221800.nc\n",
      "going to look at a previous forecast restart file...\n",
      "looking in /scratch/PFM_Simulations/restart_data/LV4_ocean_rst_202411190600_202411211800.nc for the right restart time...\n",
      "[datetime.datetime(2024, 11, 21, 18, 0), datetime.datetime(2024, 11, 21, 6, 0)]\n",
      "found the time!\n",
      "going to restart using /scratch/PFM_Simulations/restart_data/LV4_ocean_rst_202411190600_202411211800.nc and index 1\n",
      "using /scratch/PFM_Simulations/restart_data/LV1_ocean_rst_202411190600_202411211800.nc\n",
      "using /scratch/PFM_Simulations/restart_data/LV2_ocean_rst_202411190600_202411211800.nc\n",
      "PFM info was edited and resaved\n",
      "/scratch/PFM_Simulations/restart_data/LV1_ocean_rst_202411190600_202411211800.nc\n",
      "2\n"
     ]
    }
   ],
   "source": [
    "PFM = get_PFM_info()\n",
    "print('PFM is set to do a forecast from...')\n",
    "print(PFM['fetch_time'])\n",
    "PFM_edit = dict()\n",
    "PFM_edit['lv1_use_restart'] = 1\n",
    "PFM_edit['lv2_use_restart'] = 1\n",
    "PFM_edit['lv3_use_restart'] = 1\n",
    "PFM_edit['lv4_use_restart'] = 1\n",
    "\n",
    "initfuns.edit_and_save_PFM(PFM_edit)\n",
    "PFM = get_PFM_info()\n",
    "\n",
    "PFM_edit = dict()\n",
    "if PFM['lv1_use_restart'] == 1:\n",
    "    initfuns.move_restart_ncs()\n",
    "    initfuns.remove_old_restart_ncs()\n",
    "    fname1,tindex1 = initfuns.get_restart_file_and_index('LV1')    \n",
    "    PFM_edit['lv1_nrrec'] = tindex1+1 # need to add 1 to get non-python indexing    \n",
    "    PFM_edit['lv1_ini_file'] = fname1\n",
    "    initfuns.edit_and_save_PFM(PFM_edit)\n",
    "\n",
    "PFM = get_PFM_info()\n",
    "print(PFM['lv1_ini_file'])\n",
    "print(PFM['lv1_nrrec'])    \n"
   ]
  }
 ],
 "metadata": {
  "kernelspec": {
   "display_name": "base",
   "language": "python",
   "name": "python3"
  },
  "language_info": {
   "codemirror_mode": {
    "name": "ipython",
    "version": 3
   },
   "file_extension": ".py",
   "mimetype": "text/x-python",
   "name": "python",
   "nbconvert_exporter": "python",
   "pygments_lexer": "ipython3",
   "version": "3.12.2"
  }
 },
 "nbformat": 4,
 "nbformat_minor": 2
}
