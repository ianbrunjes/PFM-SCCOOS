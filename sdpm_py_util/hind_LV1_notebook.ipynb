{
 "cells": [
  {
   "cell_type": "code",
   "execution_count": 1,
   "metadata": {},
   "outputs": [
    {
     "name": "stderr",
     "output_type": "stream",
     "text": [
      "/home/mspydell/models/PFM_root/PFM/sdpm_py_util/ocn_functions.py:30: UserWarning: The seawater library is deprecated! Please use gsw instead.\n",
      "  import seawater\n"
     ]
    }
   ],
   "source": [
    "from datetime import datetime, timezone, timedelta\n",
    "import netCDF4\n",
    "import numpy as np\n",
    "import matplotlib.pyplot as plt\n",
    "import sys\n",
    "import glob\n",
    "import xarray as xr\n",
    "sys.path.append('../sdpm_py_util')\n",
    "import ocn_functions as ocnfuns\n",
    "import plotting_functions as pltfuns\n",
    "import atm_functions as atmfuns\n",
    "import init_funs as initfuns\n",
    "import hind_functions as hindfuns\n",
    "import grid_functions as grdfuns\n",
    "from get_PFM_info import get_PFM_info\n",
    "from util_functions import s_coordinate_4\n",
    "from util_functions import display_timing_info\n",
    "import observation_functions as obsfuns\n",
    "\n",
    "\n",
    "#from make_LV4_dotin_and_SLURM import make_LV4_dotin_and_SLURM\n",
    "from make_LV4_coawst_dotins_dotsb import make_LV4_coawst_dotins_dotsb\n",
    "\n",
    "from run_slurm_LV4 import run_slurm_LV4\n",
    "\n",
    "\n",
    "import pickle\n",
    "import os\n",
    "import pprint\n",
    "import subprocess\n"
   ]
  },
  {
   "cell_type": "code",
   "execution_count": 3,
   "metadata": {},
   "outputs": [
    {
     "name": "stdout",
     "output_type": "stream",
     "text": [
      "['ncks', '-q', '-D', '0', '-d', 'time,2024-10-11T11:00,2024-10-11T11:30', '-d', 'lon,236.14718692090975,244.3526828277587', '-d', 'lat,28.36036255692185,36.55363973083988', '-v', 'surf_el', 'https://tds.hycom.org/thredds/dodsC/ESPC-D-V02/ssh/2024', '-4', '-O', '/scratch/PHM_Simulations/hycom_data/hycom_hind_2024101012_23_ssh.nc']\n",
      "/scratch/PHM_Simulations/hycom_data/hycom_hind_2024101012_23_ssh.nc\n",
      "61\n"
     ]
    }
   ],
   "source": [
    "yyyymmddhh = '2024101012'\n",
    "cl,fnout = ocnfuns.get_hind_nc_cmd_list(yyyymmddhh)\n",
    "print(cl[-2])\n",
    "print(fnout[-2])\n",
    "\n",
    "print(len(fnout))"
   ]
  },
  {
   "cell_type": "code",
   "execution_count": 1,
   "metadata": {},
   "outputs": [],
   "source": [
    "def get_hycom_hind_nc_names(yyyymmddhh):\n",
    "    # this gets the list of nc files on the hycom server that we need to get.\n",
    "    t1 = datetime.strptime(yyyymmddhh,'%Y%m%d%H')\n",
    "    t2 = t1 + timedelta(days=1)\n",
    "    yyyymmddhh_2 = t2.strftime(\"%Y%m%d%H\")\n",
    "\n",
    "    yyyy = yyyymmddhh[0:4]\n",
    "    yyyy2 = yyyymmddhh_2[0:4]\n",
    "\n",
    "    # for the 1st day we use\n",
    "    ocn_name = 'https://tds.hycom.org/thredds/dodsC/ESPC-D-V02/'\n",
    "    #            https://tds.hycom.org/thredds/dodsC/ESPC-D-V02/ssh/2024\n",
    "    #https://tds.hycom.org/thredds/dodsC/FMRC_ESPC-D-V02_ssh/runs/FMRC_ESPC-D-V02_ssh_RUN_2025-01-08T12:00:00Z\n",
    "\n",
    "    # and we need the first time of the next day too for boundary conditions\n",
    "    \n",
    "    var_names = ['s3z','t3z','u3z','v3z','ssh']\n",
    "\n",
    "    ncfiles1 = [] # list of urls for the 1st day\n",
    "\n",
    "    # first do the 1st day\n",
    "    for bb in var_names:\n",
    "        ffn = ocn_name + bb + '/' + yyyy \n",
    "        ncfiles1.append(ffn)\n",
    "\n",
    "    return ncfiles1"
   ]
  },
  {
   "cell_type": "code",
   "execution_count": 2,
   "metadata": {},
   "outputs": [
    {
     "name": "stdout",
     "output_type": "stream",
     "text": [
      "2024-10-10 12:00:00\n"
     ]
    }
   ],
   "source": [
    "PFM=get_PFM_info()\n",
    "print(PFM['fetch_time'])"
   ]
  },
  {
   "cell_type": "code",
   "execution_count": 4,
   "metadata": {},
   "outputs": [
    {
     "name": "stdout",
     "output_type": "stream",
     "text": [
      "https://tds.hycom.org/thredds/dodsC/ESPC-D-V02/s3z/2024\n"
     ]
    }
   ],
   "source": [
    "yyyymmddhh = '2024101012'\n",
    "fns = get_hycom_hind_nc_names(yyyymmddhh)\n",
    "print(fns[0])\n",
    "\n",
    "\n"
   ]
  },
  {
   "cell_type": "code",
   "execution_count": 2,
   "metadata": {},
   "outputs": [
    {
     "name": "stdout",
     "output_type": "stream",
     "text": [
      "[['ncks', '-q', '-D', '0', '-d', 'time,2024-10-10T11:30,2024-10-10T12:30', '-d', 'lon,236.14718692090975,244.3526828277587', '-d', 'lat,28.36036255692185,36.55363973083988', '-v', 'salinity', 'https://tds.hycom.org/thredds/dodsC/ESPC-D-V02/s3z/2024', '-4', '-O', '/scratch/PHM_Simulations/hycom_data/hycom_hind_2024101012_00_s3z.nc'], ['ncks', '-q', '-D', '0', '-d', 'time,2024-10-10T14:30,2024-10-10T15:30', '-d', 'lon,236.14718692090975,244.3526828277587', '-d', 'lat,28.36036255692185,36.55363973083988', '-v', 'salinity', 'https://tds.hycom.org/thredds/dodsC/ESPC-D-V02/s3z/2024', '-4', '-O', '/scratch/PHM_Simulations/hycom_data/hycom_hind_2024101012_03_s3z.nc'], ['ncks', '-q', '-D', '0', '-d', 'time,2024-10-10T17:30,2024-10-10T18:30', '-d', 'lon,236.14718692090975,244.3526828277587', '-d', 'lat,28.36036255692185,36.55363973083988', '-v', 'salinity', 'https://tds.hycom.org/thredds/dodsC/ESPC-D-V02/s3z/2024', '-4', '-O', '/scratch/PHM_Simulations/hycom_data/hycom_hind_2024101012_06_s3z.nc'], ['ncks', '-q', '-D', '0', '-d', 'time,2024-10-10T20:30,2024-10-10T21:30', '-d', 'lon,236.14718692090975,244.3526828277587', '-d', 'lat,28.36036255692185,36.55363973083988', '-v', 'salinity', 'https://tds.hycom.org/thredds/dodsC/ESPC-D-V02/s3z/2024', '-4', '-O', '/scratch/PHM_Simulations/hycom_data/hycom_hind_2024101012_09_s3z.nc'], ['ncks', '-q', '-D', '0', '-d', 'time,2024-10-10T23:30,2024-10-11T00:30', '-d', 'lon,236.14718692090975,244.3526828277587', '-d', 'lat,28.36036255692185,36.55363973083988', '-v', 'salinity', 'https://tds.hycom.org/thredds/dodsC/ESPC-D-V02/s3z/2024', '-4', '-O', '/scratch/PHM_Simulations/hycom_data/hycom_hind_2024101012_12_s3z.nc'], ['ncks', '-q', '-D', '0', '-d', 'time,2024-10-11T02:30,2024-10-11T03:30', '-d', 'lon,236.14718692090975,244.3526828277587', '-d', 'lat,28.36036255692185,36.55363973083988', '-v', 'salinity', 'https://tds.hycom.org/thredds/dodsC/ESPC-D-V02/s3z/2024', '-4', '-O', '/scratch/PHM_Simulations/hycom_data/hycom_hind_2024101012_15_s3z.nc'], ['ncks', '-q', '-D', '0', '-d', 'time,2024-10-11T05:30,2024-10-11T06:30', '-d', 'lon,236.14718692090975,244.3526828277587', '-d', 'lat,28.36036255692185,36.55363973083988', '-v', 'salinity', 'https://tds.hycom.org/thredds/dodsC/ESPC-D-V02/s3z/2024', '-4', '-O', '/scratch/PHM_Simulations/hycom_data/hycom_hind_2024101012_18_s3z.nc'], ['ncks', '-q', '-D', '0', '-d', 'time,2024-10-11T08:30,2024-10-11T09:30', '-d', 'lon,236.14718692090975,244.3526828277587', '-d', 'lat,28.36036255692185,36.55363973083988', '-v', 'salinity', 'https://tds.hycom.org/thredds/dodsC/ESPC-D-V02/s3z/2024', '-4', '-O', '/scratch/PHM_Simulations/hycom_data/hycom_hind_2024101012_21_s3z.nc'], ['ncks', '-q', '-D', '0', '-d', 'time,2024-10-11T11:30,2024-10-11T12:30', '-d', 'lon,236.14718692090975,244.3526828277587', '-d', 'lat,28.36036255692185,36.55363973083988', '-v', 'salinity', 'https://tds.hycom.org/thredds/dodsC/ESPC-D-V02/s3z/2024', '-4', '-O', '/scratch/PHM_Simulations/hycom_data/hycom_hind_2024101012_24_s3z.nc'], ['ncks', '-q', '-D', '0', '-d', 'time,2024-10-10T11:30,2024-10-10T12:30', '-d', 'lon,236.14718692090975,244.3526828277587', '-d', 'lat,28.36036255692185,36.55363973083988', '-v', 'water_temp', 'https://tds.hycom.org/thredds/dodsC/ESPC-D-V02/t3z/2024', '-4', '-O', '/scratch/PHM_Simulations/hycom_data/hycom_hind_2024101012_00_t3z.nc'], ['ncks', '-q', '-D', '0', '-d', 'time,2024-10-10T14:30,2024-10-10T15:30', '-d', 'lon,236.14718692090975,244.3526828277587', '-d', 'lat,28.36036255692185,36.55363973083988', '-v', 'water_temp', 'https://tds.hycom.org/thredds/dodsC/ESPC-D-V02/t3z/2024', '-4', '-O', '/scratch/PHM_Simulations/hycom_data/hycom_hind_2024101012_03_t3z.nc'], ['ncks', '-q', '-D', '0', '-d', 'time,2024-10-10T17:30,2024-10-10T18:30', '-d', 'lon,236.14718692090975,244.3526828277587', '-d', 'lat,28.36036255692185,36.55363973083988', '-v', 'water_temp', 'https://tds.hycom.org/thredds/dodsC/ESPC-D-V02/t3z/2024', '-4', '-O', '/scratch/PHM_Simulations/hycom_data/hycom_hind_2024101012_06_t3z.nc'], ['ncks', '-q', '-D', '0', '-d', 'time,2024-10-10T20:30,2024-10-10T21:30', '-d', 'lon,236.14718692090975,244.3526828277587', '-d', 'lat,28.36036255692185,36.55363973083988', '-v', 'water_temp', 'https://tds.hycom.org/thredds/dodsC/ESPC-D-V02/t3z/2024', '-4', '-O', '/scratch/PHM_Simulations/hycom_data/hycom_hind_2024101012_09_t3z.nc'], ['ncks', '-q', '-D', '0', '-d', 'time,2024-10-10T23:30,2024-10-11T00:30', '-d', 'lon,236.14718692090975,244.3526828277587', '-d', 'lat,28.36036255692185,36.55363973083988', '-v', 'water_temp', 'https://tds.hycom.org/thredds/dodsC/ESPC-D-V02/t3z/2024', '-4', '-O', '/scratch/PHM_Simulations/hycom_data/hycom_hind_2024101012_12_t3z.nc'], ['ncks', '-q', '-D', '0', '-d', 'time,2024-10-11T02:30,2024-10-11T03:30', '-d', 'lon,236.14718692090975,244.3526828277587', '-d', 'lat,28.36036255692185,36.55363973083988', '-v', 'water_temp', 'https://tds.hycom.org/thredds/dodsC/ESPC-D-V02/t3z/2024', '-4', '-O', '/scratch/PHM_Simulations/hycom_data/hycom_hind_2024101012_15_t3z.nc'], ['ncks', '-q', '-D', '0', '-d', 'time,2024-10-11T05:30,2024-10-11T06:30', '-d', 'lon,236.14718692090975,244.3526828277587', '-d', 'lat,28.36036255692185,36.55363973083988', '-v', 'water_temp', 'https://tds.hycom.org/thredds/dodsC/ESPC-D-V02/t3z/2024', '-4', '-O', '/scratch/PHM_Simulations/hycom_data/hycom_hind_2024101012_18_t3z.nc'], ['ncks', '-q', '-D', '0', '-d', 'time,2024-10-11T08:30,2024-10-11T09:30', '-d', 'lon,236.14718692090975,244.3526828277587', '-d', 'lat,28.36036255692185,36.55363973083988', '-v', 'water_temp', 'https://tds.hycom.org/thredds/dodsC/ESPC-D-V02/t3z/2024', '-4', '-O', '/scratch/PHM_Simulations/hycom_data/hycom_hind_2024101012_21_t3z.nc'], ['ncks', '-q', '-D', '0', '-d', 'time,2024-10-11T11:30,2024-10-11T12:30', '-d', 'lon,236.14718692090975,244.3526828277587', '-d', 'lat,28.36036255692185,36.55363973083988', '-v', 'water_temp', 'https://tds.hycom.org/thredds/dodsC/ESPC-D-V02/t3z/2024', '-4', '-O', '/scratch/PHM_Simulations/hycom_data/hycom_hind_2024101012_24_t3z.nc'], ['ncks', '-q', '-D', '0', '-d', 'time,2024-10-10T11:30,2024-10-10T12:30', '-d', 'lon,236.14718692090975,244.3526828277587', '-d', 'lat,28.36036255692185,36.55363973083988', '-v', 'water_u', 'https://tds.hycom.org/thredds/dodsC/ESPC-D-V02/u3z/2024', '-4', '-O', '/scratch/PHM_Simulations/hycom_data/hycom_hind_2024101012_00_u3z.nc'], ['ncks', '-q', '-D', '0', '-d', 'time,2024-10-10T14:30,2024-10-10T15:30', '-d', 'lon,236.14718692090975,244.3526828277587', '-d', 'lat,28.36036255692185,36.55363973083988', '-v', 'water_u', 'https://tds.hycom.org/thredds/dodsC/ESPC-D-V02/u3z/2024', '-4', '-O', '/scratch/PHM_Simulations/hycom_data/hycom_hind_2024101012_03_u3z.nc'], ['ncks', '-q', '-D', '0', '-d', 'time,2024-10-10T17:30,2024-10-10T18:30', '-d', 'lon,236.14718692090975,244.3526828277587', '-d', 'lat,28.36036255692185,36.55363973083988', '-v', 'water_u', 'https://tds.hycom.org/thredds/dodsC/ESPC-D-V02/u3z/2024', '-4', '-O', '/scratch/PHM_Simulations/hycom_data/hycom_hind_2024101012_06_u3z.nc'], ['ncks', '-q', '-D', '0', '-d', 'time,2024-10-10T20:30,2024-10-10T21:30', '-d', 'lon,236.14718692090975,244.3526828277587', '-d', 'lat,28.36036255692185,36.55363973083988', '-v', 'water_u', 'https://tds.hycom.org/thredds/dodsC/ESPC-D-V02/u3z/2024', '-4', '-O', '/scratch/PHM_Simulations/hycom_data/hycom_hind_2024101012_09_u3z.nc'], ['ncks', '-q', '-D', '0', '-d', 'time,2024-10-10T23:30,2024-10-11T00:30', '-d', 'lon,236.14718692090975,244.3526828277587', '-d', 'lat,28.36036255692185,36.55363973083988', '-v', 'water_u', 'https://tds.hycom.org/thredds/dodsC/ESPC-D-V02/u3z/2024', '-4', '-O', '/scratch/PHM_Simulations/hycom_data/hycom_hind_2024101012_12_u3z.nc'], ['ncks', '-q', '-D', '0', '-d', 'time,2024-10-11T02:30,2024-10-11T03:30', '-d', 'lon,236.14718692090975,244.3526828277587', '-d', 'lat,28.36036255692185,36.55363973083988', '-v', 'water_u', 'https://tds.hycom.org/thredds/dodsC/ESPC-D-V02/u3z/2024', '-4', '-O', '/scratch/PHM_Simulations/hycom_data/hycom_hind_2024101012_15_u3z.nc'], ['ncks', '-q', '-D', '0', '-d', 'time,2024-10-11T05:30,2024-10-11T06:30', '-d', 'lon,236.14718692090975,244.3526828277587', '-d', 'lat,28.36036255692185,36.55363973083988', '-v', 'water_u', 'https://tds.hycom.org/thredds/dodsC/ESPC-D-V02/u3z/2024', '-4', '-O', '/scratch/PHM_Simulations/hycom_data/hycom_hind_2024101012_18_u3z.nc'], ['ncks', '-q', '-D', '0', '-d', 'time,2024-10-11T08:30,2024-10-11T09:30', '-d', 'lon,236.14718692090975,244.3526828277587', '-d', 'lat,28.36036255692185,36.55363973083988', '-v', 'water_u', 'https://tds.hycom.org/thredds/dodsC/ESPC-D-V02/u3z/2024', '-4', '-O', '/scratch/PHM_Simulations/hycom_data/hycom_hind_2024101012_21_u3z.nc'], ['ncks', '-q', '-D', '0', '-d', 'time,2024-10-11T11:30,2024-10-11T12:30', '-d', 'lon,236.14718692090975,244.3526828277587', '-d', 'lat,28.36036255692185,36.55363973083988', '-v', 'water_u', 'https://tds.hycom.org/thredds/dodsC/ESPC-D-V02/u3z/2024', '-4', '-O', '/scratch/PHM_Simulations/hycom_data/hycom_hind_2024101012_24_u3z.nc'], ['ncks', '-q', '-D', '0', '-d', 'time,2024-10-10T11:30,2024-10-10T12:30', '-d', 'lon,236.14718692090975,244.3526828277587', '-d', 'lat,28.36036255692185,36.55363973083988', '-v', 'water_v', 'https://tds.hycom.org/thredds/dodsC/ESPC-D-V02/v3z/2024', '-4', '-O', '/scratch/PHM_Simulations/hycom_data/hycom_hind_2024101012_00_v3z.nc'], ['ncks', '-q', '-D', '0', '-d', 'time,2024-10-10T14:30,2024-10-10T15:30', '-d', 'lon,236.14718692090975,244.3526828277587', '-d', 'lat,28.36036255692185,36.55363973083988', '-v', 'water_v', 'https://tds.hycom.org/thredds/dodsC/ESPC-D-V02/v3z/2024', '-4', '-O', '/scratch/PHM_Simulations/hycom_data/hycom_hind_2024101012_03_v3z.nc'], ['ncks', '-q', '-D', '0', '-d', 'time,2024-10-10T17:30,2024-10-10T18:30', '-d', 'lon,236.14718692090975,244.3526828277587', '-d', 'lat,28.36036255692185,36.55363973083988', '-v', 'water_v', 'https://tds.hycom.org/thredds/dodsC/ESPC-D-V02/v3z/2024', '-4', '-O', '/scratch/PHM_Simulations/hycom_data/hycom_hind_2024101012_06_v3z.nc'], ['ncks', '-q', '-D', '0', '-d', 'time,2024-10-10T20:30,2024-10-10T21:30', '-d', 'lon,236.14718692090975,244.3526828277587', '-d', 'lat,28.36036255692185,36.55363973083988', '-v', 'water_v', 'https://tds.hycom.org/thredds/dodsC/ESPC-D-V02/v3z/2024', '-4', '-O', '/scratch/PHM_Simulations/hycom_data/hycom_hind_2024101012_09_v3z.nc'], ['ncks', '-q', '-D', '0', '-d', 'time,2024-10-10T23:30,2024-10-11T00:30', '-d', 'lon,236.14718692090975,244.3526828277587', '-d', 'lat,28.36036255692185,36.55363973083988', '-v', 'water_v', 'https://tds.hycom.org/thredds/dodsC/ESPC-D-V02/v3z/2024', '-4', '-O', '/scratch/PHM_Simulations/hycom_data/hycom_hind_2024101012_12_v3z.nc'], ['ncks', '-q', '-D', '0', '-d', 'time,2024-10-11T02:30,2024-10-11T03:30', '-d', 'lon,236.14718692090975,244.3526828277587', '-d', 'lat,28.36036255692185,36.55363973083988', '-v', 'water_v', 'https://tds.hycom.org/thredds/dodsC/ESPC-D-V02/v3z/2024', '-4', '-O', '/scratch/PHM_Simulations/hycom_data/hycom_hind_2024101012_15_v3z.nc'], ['ncks', '-q', '-D', '0', '-d', 'time,2024-10-11T05:30,2024-10-11T06:30', '-d', 'lon,236.14718692090975,244.3526828277587', '-d', 'lat,28.36036255692185,36.55363973083988', '-v', 'water_v', 'https://tds.hycom.org/thredds/dodsC/ESPC-D-V02/v3z/2024', '-4', '-O', '/scratch/PHM_Simulations/hycom_data/hycom_hind_2024101012_18_v3z.nc'], ['ncks', '-q', '-D', '0', '-d', 'time,2024-10-11T08:30,2024-10-11T09:30', '-d', 'lon,236.14718692090975,244.3526828277587', '-d', 'lat,28.36036255692185,36.55363973083988', '-v', 'water_v', 'https://tds.hycom.org/thredds/dodsC/ESPC-D-V02/v3z/2024', '-4', '-O', '/scratch/PHM_Simulations/hycom_data/hycom_hind_2024101012_21_v3z.nc'], ['ncks', '-q', '-D', '0', '-d', 'time,2024-10-11T11:30,2024-10-11T12:30', '-d', 'lon,236.14718692090975,244.3526828277587', '-d', 'lat,28.36036255692185,36.55363973083988', '-v', 'water_v', 'https://tds.hycom.org/thredds/dodsC/ESPC-D-V02/v3z/2024', '-4', '-O', '/scratch/PHM_Simulations/hycom_data/hycom_hind_2024101012_24_v3z.nc'], ['ncks', '-q', '-D', '0', '-d', 'time,2024-10-10T11:30,2024-10-10T12:30', '-d', 'lon,236.14718692090975,244.3526828277587', '-d', 'lat,28.36036255692185,36.55363973083988', '-v', 'surf_el', 'https://tds.hycom.org/thredds/dodsC/ESPC-D-V02/ssh/2024', '-4', '-O', '/scratch/PHM_Simulations/hycom_data/hycom_hind_2024101012_00_ssh.nc'], ['ncks', '-q', '-D', '0', '-d', 'time,2024-10-10T12:30,2024-10-10T13:30', '-d', 'lon,236.14718692090975,244.3526828277587', '-d', 'lat,28.36036255692185,36.55363973083988', '-v', 'surf_el', 'https://tds.hycom.org/thredds/dodsC/ESPC-D-V02/ssh/2024', '-4', '-O', '/scratch/PHM_Simulations/hycom_data/hycom_hind_2024101012_01_ssh.nc'], ['ncks', '-q', '-D', '0', '-d', 'time,2024-10-10T13:30,2024-10-10T14:30', '-d', 'lon,236.14718692090975,244.3526828277587', '-d', 'lat,28.36036255692185,36.55363973083988', '-v', 'surf_el', 'https://tds.hycom.org/thredds/dodsC/ESPC-D-V02/ssh/2024', '-4', '-O', '/scratch/PHM_Simulations/hycom_data/hycom_hind_2024101012_02_ssh.nc'], ['ncks', '-q', '-D', '0', '-d', 'time,2024-10-10T14:30,2024-10-10T15:30', '-d', 'lon,236.14718692090975,244.3526828277587', '-d', 'lat,28.36036255692185,36.55363973083988', '-v', 'surf_el', 'https://tds.hycom.org/thredds/dodsC/ESPC-D-V02/ssh/2024', '-4', '-O', '/scratch/PHM_Simulations/hycom_data/hycom_hind_2024101012_03_ssh.nc'], ['ncks', '-q', '-D', '0', '-d', 'time,2024-10-10T15:30,2024-10-10T16:30', '-d', 'lon,236.14718692090975,244.3526828277587', '-d', 'lat,28.36036255692185,36.55363973083988', '-v', 'surf_el', 'https://tds.hycom.org/thredds/dodsC/ESPC-D-V02/ssh/2024', '-4', '-O', '/scratch/PHM_Simulations/hycom_data/hycom_hind_2024101012_04_ssh.nc'], ['ncks', '-q', '-D', '0', '-d', 'time,2024-10-10T16:30,2024-10-10T17:30', '-d', 'lon,236.14718692090975,244.3526828277587', '-d', 'lat,28.36036255692185,36.55363973083988', '-v', 'surf_el', 'https://tds.hycom.org/thredds/dodsC/ESPC-D-V02/ssh/2024', '-4', '-O', '/scratch/PHM_Simulations/hycom_data/hycom_hind_2024101012_05_ssh.nc'], ['ncks', '-q', '-D', '0', '-d', 'time,2024-10-10T17:30,2024-10-10T18:30', '-d', 'lon,236.14718692090975,244.3526828277587', '-d', 'lat,28.36036255692185,36.55363973083988', '-v', 'surf_el', 'https://tds.hycom.org/thredds/dodsC/ESPC-D-V02/ssh/2024', '-4', '-O', '/scratch/PHM_Simulations/hycom_data/hycom_hind_2024101012_06_ssh.nc'], ['ncks', '-q', '-D', '0', '-d', 'time,2024-10-10T18:30,2024-10-10T19:30', '-d', 'lon,236.14718692090975,244.3526828277587', '-d', 'lat,28.36036255692185,36.55363973083988', '-v', 'surf_el', 'https://tds.hycom.org/thredds/dodsC/ESPC-D-V02/ssh/2024', '-4', '-O', '/scratch/PHM_Simulations/hycom_data/hycom_hind_2024101012_07_ssh.nc'], ['ncks', '-q', '-D', '0', '-d', 'time,2024-10-10T19:30,2024-10-10T20:30', '-d', 'lon,236.14718692090975,244.3526828277587', '-d', 'lat,28.36036255692185,36.55363973083988', '-v', 'surf_el', 'https://tds.hycom.org/thredds/dodsC/ESPC-D-V02/ssh/2024', '-4', '-O', '/scratch/PHM_Simulations/hycom_data/hycom_hind_2024101012_08_ssh.nc'], ['ncks', '-q', '-D', '0', '-d', 'time,2024-10-10T20:30,2024-10-10T21:30', '-d', 'lon,236.14718692090975,244.3526828277587', '-d', 'lat,28.36036255692185,36.55363973083988', '-v', 'surf_el', 'https://tds.hycom.org/thredds/dodsC/ESPC-D-V02/ssh/2024', '-4', '-O', '/scratch/PHM_Simulations/hycom_data/hycom_hind_2024101012_09_ssh.nc'], ['ncks', '-q', '-D', '0', '-d', 'time,2024-10-10T21:30,2024-10-10T22:30', '-d', 'lon,236.14718692090975,244.3526828277587', '-d', 'lat,28.36036255692185,36.55363973083988', '-v', 'surf_el', 'https://tds.hycom.org/thredds/dodsC/ESPC-D-V02/ssh/2024', '-4', '-O', '/scratch/PHM_Simulations/hycom_data/hycom_hind_2024101012_10_ssh.nc'], ['ncks', '-q', '-D', '0', '-d', 'time,2024-10-10T22:30,2024-10-10T23:30', '-d', 'lon,236.14718692090975,244.3526828277587', '-d', 'lat,28.36036255692185,36.55363973083988', '-v', 'surf_el', 'https://tds.hycom.org/thredds/dodsC/ESPC-D-V02/ssh/2024', '-4', '-O', '/scratch/PHM_Simulations/hycom_data/hycom_hind_2024101012_11_ssh.nc'], ['ncks', '-q', '-D', '0', '-d', 'time,2024-10-10T23:30,2024-10-11T00:30', '-d', 'lon,236.14718692090975,244.3526828277587', '-d', 'lat,28.36036255692185,36.55363973083988', '-v', 'surf_el', 'https://tds.hycom.org/thredds/dodsC/ESPC-D-V02/ssh/2024', '-4', '-O', '/scratch/PHM_Simulations/hycom_data/hycom_hind_2024101012_12_ssh.nc'], ['ncks', '-q', '-D', '0', '-d', 'time,2024-10-11T00:30,2024-10-11T01:30', '-d', 'lon,236.14718692090975,244.3526828277587', '-d', 'lat,28.36036255692185,36.55363973083988', '-v', 'surf_el', 'https://tds.hycom.org/thredds/dodsC/ESPC-D-V02/ssh/2024', '-4', '-O', '/scratch/PHM_Simulations/hycom_data/hycom_hind_2024101012_13_ssh.nc'], ['ncks', '-q', '-D', '0', '-d', 'time,2024-10-11T01:30,2024-10-11T02:30', '-d', 'lon,236.14718692090975,244.3526828277587', '-d', 'lat,28.36036255692185,36.55363973083988', '-v', 'surf_el', 'https://tds.hycom.org/thredds/dodsC/ESPC-D-V02/ssh/2024', '-4', '-O', '/scratch/PHM_Simulations/hycom_data/hycom_hind_2024101012_14_ssh.nc'], ['ncks', '-q', '-D', '0', '-d', 'time,2024-10-11T02:30,2024-10-11T03:30', '-d', 'lon,236.14718692090975,244.3526828277587', '-d', 'lat,28.36036255692185,36.55363973083988', '-v', 'surf_el', 'https://tds.hycom.org/thredds/dodsC/ESPC-D-V02/ssh/2024', '-4', '-O', '/scratch/PHM_Simulations/hycom_data/hycom_hind_2024101012_15_ssh.nc'], ['ncks', '-q', '-D', '0', '-d', 'time,2024-10-11T03:30,2024-10-11T04:30', '-d', 'lon,236.14718692090975,244.3526828277587', '-d', 'lat,28.36036255692185,36.55363973083988', '-v', 'surf_el', 'https://tds.hycom.org/thredds/dodsC/ESPC-D-V02/ssh/2024', '-4', '-O', '/scratch/PHM_Simulations/hycom_data/hycom_hind_2024101012_16_ssh.nc'], ['ncks', '-q', '-D', '0', '-d', 'time,2024-10-11T04:30,2024-10-11T05:30', '-d', 'lon,236.14718692090975,244.3526828277587', '-d', 'lat,28.36036255692185,36.55363973083988', '-v', 'surf_el', 'https://tds.hycom.org/thredds/dodsC/ESPC-D-V02/ssh/2024', '-4', '-O', '/scratch/PHM_Simulations/hycom_data/hycom_hind_2024101012_17_ssh.nc'], ['ncks', '-q', '-D', '0', '-d', 'time,2024-10-11T05:30,2024-10-11T06:30', '-d', 'lon,236.14718692090975,244.3526828277587', '-d', 'lat,28.36036255692185,36.55363973083988', '-v', 'surf_el', 'https://tds.hycom.org/thredds/dodsC/ESPC-D-V02/ssh/2024', '-4', '-O', '/scratch/PHM_Simulations/hycom_data/hycom_hind_2024101012_18_ssh.nc'], ['ncks', '-q', '-D', '0', '-d', 'time,2024-10-11T06:30,2024-10-11T07:30', '-d', 'lon,236.14718692090975,244.3526828277587', '-d', 'lat,28.36036255692185,36.55363973083988', '-v', 'surf_el', 'https://tds.hycom.org/thredds/dodsC/ESPC-D-V02/ssh/2024', '-4', '-O', '/scratch/PHM_Simulations/hycom_data/hycom_hind_2024101012_19_ssh.nc'], ['ncks', '-q', '-D', '0', '-d', 'time,2024-10-11T07:30,2024-10-11T08:30', '-d', 'lon,236.14718692090975,244.3526828277587', '-d', 'lat,28.36036255692185,36.55363973083988', '-v', 'surf_el', 'https://tds.hycom.org/thredds/dodsC/ESPC-D-V02/ssh/2024', '-4', '-O', '/scratch/PHM_Simulations/hycom_data/hycom_hind_2024101012_20_ssh.nc'], ['ncks', '-q', '-D', '0', '-d', 'time,2024-10-11T08:30,2024-10-11T09:30', '-d', 'lon,236.14718692090975,244.3526828277587', '-d', 'lat,28.36036255692185,36.55363973083988', '-v', 'surf_el', 'https://tds.hycom.org/thredds/dodsC/ESPC-D-V02/ssh/2024', '-4', '-O', '/scratch/PHM_Simulations/hycom_data/hycom_hind_2024101012_21_ssh.nc'], ['ncks', '-q', '-D', '0', '-d', 'time,2024-10-11T09:30,2024-10-11T10:30', '-d', 'lon,236.14718692090975,244.3526828277587', '-d', 'lat,28.36036255692185,36.55363973083988', '-v', 'surf_el', 'https://tds.hycom.org/thredds/dodsC/ESPC-D-V02/ssh/2024', '-4', '-O', '/scratch/PHM_Simulations/hycom_data/hycom_hind_2024101012_22_ssh.nc'], ['ncks', '-q', '-D', '0', '-d', 'time,2024-10-11T10:30,2024-10-11T11:30', '-d', 'lon,236.14718692090975,244.3526828277587', '-d', 'lat,28.36036255692185,36.55363973083988', '-v', 'surf_el', 'https://tds.hycom.org/thredds/dodsC/ESPC-D-V02/ssh/2024', '-4', '-O', '/scratch/PHM_Simulations/hycom_data/hycom_hind_2024101012_23_ssh.nc'], ['ncks', '-q', '-D', '0', '-d', 'time,2024-10-11T11:30,2024-10-11T12:30', '-d', 'lon,236.14718692090975,244.3526828277587', '-d', 'lat,28.36036255692185,36.55363973083988', '-v', 'surf_el', 'https://tds.hycom.org/thredds/dodsC/ESPC-D-V02/ssh/2024', '-4', '-O', '/scratch/PHM_Simulations/hycom_data/hycom_hind_2024101012_24_ssh.nc']]\n",
      "[0, 0, 0, 0, 0, 0, 0, 0, 0, 0, 0, 0, 0, 0, 0, 0, 0, 0, 0, 0, 0, 0, 0, 0, 0, 0, 0, 0, 0, 0, 0, 0, 0, 0, 0, 0, 0, 0, 0, 0, 0, 0, 0, 0, 0, 0, 0, 0, 0, 0, 0, 0, 0, 0, 0, 0, 0, 0, 0, 0, 0]\n"
     ]
    }
   ],
   "source": [
    "#fns2 = ocnfuns.hycom_to_out(fns)\n",
    "#print(fns2[0])\n",
    "yyyymmddhh = PFM['fetch_time'].strftime(\"%Y%m%d%H\")\n",
    "print(yyyymmddhh)\n",
    "\n",
    "cmd_list, nc_out = ocnfuns.get_hind_nc_cmd_list(yyyymmddhh)\n",
    "ret = ocnfuns.get_hycom_hind_data(yyyymmddhh)\n",
    "print(sum(ret))\n",
    "\n"
   ]
  },
  {
   "cell_type": "code",
   "execution_count": 3,
   "metadata": {},
   "outputs": [
    {
     "name": "stdout",
     "output_type": "stream",
     "text": [
      "\n",
      "max and min raw hycom data (iz is top [0] to bottom [39]):\n",
      "max zeta   =  0.845 m          at  ( it, ilat, ilon)     =  ( 10,  68,  94)\n",
      "min zeta   = -0.995 m          at  ( it, ilat, ilon)     =  ( 19, 203,   0)\n",
      "max u      =  0.608 m/s        at  ( it, iz, ilat, ilon) =  (  7,  8,  74,  53)\n",
      "min u      = -0.580 m/s        at  ( it, iz, ilat, ilon) =  (  8,  2,  41,  76)\n",
      "max v      =  0.531 m/s        at  ( it, iz, ilat, ilon) =  (  3,  6,  36,  90)\n",
      "min v      = -0.630 m/s        at  ( it, iz, ilat, ilon) =  (  2,  0, 153,   7)\n",
      "max temp   = 22.294 C          at  ( it, iz, ilat, ilon) =  (  4,  0,  12,   2)\n",
      "min temp   =  1.368 C          at  ( it, iz, ilat, ilon) =  (  7, 38, 170,   4)\n",
      "max dT/dz  =  1.398 C/m        at  ( it, iz, ilat, ilon) =  (  0,  1, 125,  77)\n",
      "min dT/dz  = -0.137 C/m        at  ( it, iz, ilat, ilon) =  (  4, 13, 121,  56)\n",
      "max salt   = 34.731 psu        at  ( it, iz, ilat, ilon) =  (  0, 37,  50,  79)\n",
      "min salt   = 32.586 psu        at  ( it, iz, ilat, ilon) =  (  1, 14, 154,   2)\n",
      "max dS/dz  =  0.044 psu/m      at  ( it, iz, ilat, ilon) =  (  0,  8, 158,  14)\n",
      "min dS/dz  = -0.058 psu/m      at  ( it, iz, ilat, ilon) =  (  0,  8, 165,   9)\n",
      "\n",
      "going to save a hycom pickle file to /scratch/PHM_Simulations/LV1_Forecast/Forc/hycom_tmp_pckl_file.pkl\n",
      "Hycom OCN dict saved with pickle.\n",
      "putting the hycom data in /scratch/PHM_Simulations/LV1_Forecast/Forc/hycom_tmp_pckl_file.pkl on the roms grid...\n",
      "and saving 18 pickle files...\n",
      "...done. \n",
      "all 18 ocnR pickle files were made correctly\n",
      "subprocess return code? 0 (0=good)\n"
     ]
    }
   ],
   "source": [
    "\n",
    "ocnfuns.hycom_hind_ncfiles_to_pickle()\n",
    "\n",
    "PFM = get_PFM_info()\n",
    "fn_pckl = PFM['lv1_forc_dir'] + '/' + PFM['lv1_ocn_tmp_pckl_file']\n",
    "os.chdir('../sdpm_py_util')\n",
    "print('putting the hycom data in ' + fn_pckl + ' on the roms grid...')\n",
    "cmd_list = ['python','-W','ignore','ocn_functions.py','make_all_tmp_pckl_ocnR_files_1hrzeta',fn_pckl]\n",
    "os.chdir('../sdpm_py_util')\n",
    "ret1 = subprocess.run(cmd_list)     \n",
    "#ocnfuns.make_all_tmp_pckl_ocnR_files(fn_pckl)\n",
    "os.chdir('../driver')\n",
    "print('subprocess return code? ' + str(ret1.returncode) +  ' (0=good)')\n",
    "\n"
   ]
  },
  {
   "cell_type": "code",
   "execution_count": 4,
   "metadata": {},
   "outputs": [
    {
     "name": "stdout",
     "output_type": "stream",
     "text": [
      "\n",
      "max and min of hycom data on ROMS grid (iz is top [0] to bottom [39]):\n",
      "max zeta   =  0.832 m          at  ( it, ilat, ilon)     =  ( 10,  52, 245)\n",
      "min zeta   = -0.950 m          at  ( it, ilat, ilon)     =  ( 18, 351, 141)\n",
      "max urm    =  0.613 m/s        at  ( it, iz, ilat, ilon) =  (  7,  8, 132, 100)\n",
      "min urm    = -0.655 m/s        at  ( it, iz, ilat, ilon) =  (  8,  0,  23, 150)\n",
      "max vrm    =  0.508 m/s        at  ( it, iz, ilat, ilon) =  (  2,  7, 350, 112)\n",
      "min vrm    = -0.672 m/s        at  ( it, iz, ilat, ilon) =  (  2,  0, 366,  12)\n",
      "max temp   = 22.160 C          at  ( it, iz, ilat, ilon) =  (  4,  0, 209, 191)\n",
      "min temp   =  1.404 C          at  ( it, iz, ilat, ilon) =  (  7, 38, 216,  11)\n",
      "max dT/dz  =  1.388 C/m        at  ( it, iz, ilat, ilon) =  (  4,  0,  25, 247)\n",
      "min dT/dz  = -0.348 C/m        at  ( it, iz, ilat, ilon) =  (  5,  6,   2, 240)\n",
      "max salt   = 34.731 psu        at  ( it, iz, ilat, ilon) =  (  0, 37,  11, 227)\n",
      "min salt   = 32.624 psu        at  ( it, iz, ilat, ilon) =  (  7, 13, 366,   0)\n",
      "max dS/dz  =  0.042 psu/m      at  ( it, iz, ilat, ilon) =  (  0,  8, 368,  42)\n",
      "min dS/dz  = -0.055 psu/m      at  ( it, iz, ilat, ilon) =  (  0,  8, 389,  30)\n",
      "driver_run_forecast_LV1: done with hycom_to_roms_latlon\n"
     ]
    }
   ],
   "source": [
    "cmd_list = ['python','-W','ignore','ocn_functions.py','print_maxmin_HYrm_pickles']\n",
    "os.chdir('../sdpm_py_util')\n",
    "ret1 = subprocess.run(cmd_list)     \n",
    "os.chdir('../driver')\n",
    "print('driver_run_forecast_LV1: done with hycom_to_roms_latlon')\n"
   ]
  },
  {
   "cell_type": "code",
   "execution_count": 5,
   "metadata": {},
   "outputs": [
    {
     "name": "stdout",
     "output_type": "stream",
     "text": [
      "making the depth pickle file...\n",
      "making roms depth pickle file /scratch/PHM_Simulations/LV1_Forecast/Forc/roms_tmp_depth_file.pkl...\n",
      "ROMS depths for IC/BC saved with pickle to /scratch/PHM_Simulations/LV1_Forecast/Forc/roms_tmp_depth_file.pkl\n",
      "...done makeing depth pickle file.\n",
      "subprocess return code? 0 (0=good)\n"
     ]
    }
   ],
   "source": [
    "print('making the depth pickle file...')\n",
    "fname_depths = PFM['lv1_forc_dir'] + '/' + PFM['lv1_depth_file']\n",
    "cmd_list = ['python','-W','ignore','ocn_functions.py','make_rom_depths_1hrzeta',fname_depths]\n",
    "os.chdir('../sdpm_py_util')\n",
    "ret6 = subprocess.run(cmd_list)     \n",
    "os.chdir('../driver')\n",
    "print('subprocess return code? ' + str(ret6.returncode) +  ' (0=good)')\n"
   ]
  },
  {
   "cell_type": "code",
   "execution_count": 6,
   "metadata": {},
   "outputs": [],
   "source": [
    "ocnIC_pckl = PFM['lv1_forc_dir'] + '/' + PFM['lv1_ocnIC_tmp_pckl_file']\n",
    "ic_file_out = PFM['lv1_forc_dir'] + '/' + PFM['lv1_ini_file']\n",
    "bc_file_out = PFM['lv1_forc_dir'] + '/' + PFM['lv1_bc_file']\n",
    "ocnBC_pckl = PFM['lv1_forc_dir'] + '/' + PFM['lv1_ocnBC_tmp_pckl_file']\n",
    "fn_atm_out = PFM['lv1_forc_dir'] + '/' + PFM['lv1_atm_file'] # LV1 atm forcing filename\n"
   ]
  },
  {
   "cell_type": "code",
   "execution_count": 8,
   "metadata": {},
   "outputs": [
    {
     "name": "stdout",
     "output_type": "stream",
     "text": [
      "going to save OCN_IC to a pickle file: /scratch/PHM_Simulations/LV1_Forecast/Forc/ocnIC_tmp_pckl_file.pkl\n",
      "OCN_IC dict saved with pickle\n",
      "OCN IC data saved with pickle, correctly? 0 (0=yes,1=no)\n",
      "driver_run_forecast_LV1: done with ocn_r_2_ICdict\n",
      "this took:\n",
      "0:00:27.988974\n",
      "\n",
      "\n",
      "making IC file from pickled IC: /scratch/PHM_Simulations/LV1_Forecast/Forc/LV1_OCEAN_IC.nc\n",
      "OCN_IC dict loaded with pickle\n",
      "\n",
      "max and min of data in ROMS IC file (iz is bottom [0] to top [39], note: it is always 0 b/c IC):\n",
      "max zeta   =  0.340 m          at  ( it, ilat, ilon)     =  (  0,  80,  63)\n",
      "min zeta   =  0.016 m          at  ( it, ilat, ilon)     =  (  0, 156, 103)\n",
      "max ubar   =  0.156 m/s        at  ( it, ilat, ilon)     =  (  0, 173, 214)\n",
      "min ubar   = -0.270 m/s        at  ( it, ilat, ilon)     =  (  0, 309, 136)\n",
      "max vbar   =  0.233 m/s        at  ( it, ilat, ilon)     =  (  0, 322, 123)\n",
      "min vbar   = -0.133 m/s        at  ( it, ilat, ilon)     =  (  0, 157, 229)\n",
      "max u      =  0.502 m/s        at  ( it, iz, ilat, ilon) =  (  0, 39, 132,  95)\n",
      "min u      = -0.608 m/s        at  ( it, iz, ilat, ilon) =  (  0, 39,  23, 150)\n",
      "max v      =  0.453 m/s        at  ( it, iz, ilat, ilon) =  (  0, 20, 328, 119)\n",
      "min v      = -0.522 m/s        at  ( it, iz, ilat, ilon) =  (  0, 39, 379,  14)\n",
      "max temp   = 21.286 C          at  ( it, iz, ilat, ilon) =  (  0, 38,   4,   8)\n",
      "min temp   =  0.978 C          at  ( it, iz, ilat, ilon) =  (  0,  0, 106,  41)\n",
      "max salt   = 34.731 psu        at  ( it, iz, ilat, ilon) =  (  0,  0,  37, 171)\n",
      "min salt   = 32.641 psu        at  ( it, iz, ilat, ilon) =  (  0, 29, 381,   0)\n",
      "OCN IC nc data saved, correctly? 0 (0=yes)\n"
     ]
    }
   ],
   "source": [
    "t01=datetime.now()\n",
    "print('going to save OCN_IC to a pickle file: ' + ocnIC_pckl)\n",
    "os.chdir('../sdpm_py_util')\n",
    "cmd_list = ['python','-W','ignore','ocn_functions.py','ocnr_2_ICdict_from_tmppkls',ocnIC_pckl]\n",
    "ret3 = subprocess.run(cmd_list)     \n",
    "os.chdir('../driver')\n",
    "print('OCN IC data saved with pickle, correctly? ' + str(ret3.returncode) + ' (0=yes,1=no)')\n",
    "\n",
    "print('driver_run_forecast_LV1: done with ocn_r_2_ICdict')\n",
    "t02 = datetime.now()\n",
    "print('this took:')\n",
    "print(t02-t01)\n",
    "print('\\n')\n",
    "\n",
    "print('making IC file from pickled IC: '+ ic_file_out)\n",
    "t03 = datetime.now()\n",
    "cmd_list = ['python','-W','ignore','ocn_functions.py','ocn_roms_IC_dict_to_netcdf_pckl',ocnIC_pckl,ic_file_out]\n",
    "os.chdir('../sdpm_py_util')\n",
    "ret4 = subprocess.run(cmd_list)     \n",
    "os.chdir('../driver')\n",
    "print('OCN IC nc data saved, correctly? ' + str(ret4.returncode) + ' (0=yes)')\n"
   ]
  },
  {
   "cell_type": "code",
   "execution_count": 9,
   "metadata": {},
   "outputs": [
    {
     "name": "stdout",
     "output_type": "stream",
     "text": [
      "going to save OCN_BC to a pickle file to:\n",
      "/scratch/PHM_Simulations/LV1_Forecast/Forc/ocnBC_tmp_pckl_file.pkl\n",
      "loading /scratch/PHM_Simulations/LV1_Forecast/Forc/roms_tmp_depth_file.pkl\n",
      "OCN_BC dict saved with pickle\n",
      "OCN BC data saved with pickle, correctly? 0 (0=yes)\n",
      "this took:\n",
      "0:00:03.446905\n",
      "\n",
      "\n",
      "making BC nc file from pickled BC: /scratch/PHM_Simulations/LV1_Forecast/Forc/LV1_OCEAN_BC.nc\n",
      "OCN_BC dict loaded with pickle\n",
      "\n",
      "max and min of data in ROMS BC file (iz is bottom [0] to top [39]):\n",
      "max zeta_north =  0.736 m          at  ( it, ilon)     =  ( 11, 128)\n",
      "min zeta_north = -0.893 m          at  ( it, ilon)     =  ( 19,  99)\n",
      "max zeta_south =  0.753 m          at  ( it, ilon)     =  ( 10,  68)\n",
      "min zeta_south = -0.722 m          at  ( it, ilon)     =  ( 18, 158)\n",
      "max zeta_west  =  0.764 m          at  ( it, ilat)     =  ( 11, 317)\n",
      "min zeta_west  = -0.755 m          at  ( it, ilat)     =  ( 19, 221)\n",
      "max ubar_north =  0.018 m/s        at  ( it, ilon)     =  (  6, 108)\n",
      "min ubar_north = -0.061 m/s        at  ( it, ilon)     =  (  8, 127)\n",
      "max ubar_south =  0.025 m/s        at  ( it, ilon)     =  (  8, 214)\n",
      "min ubar_south = -0.086 m/s        at  ( it, ilon)     =  (  3, 239)\n",
      "max ubar_west  =  0.028 m/s        at  ( it, ilat)     =  (  8, 129)\n",
      "min ubar_west  = -0.035 m/s        at  ( it, ilat)     =  (  5,   5)\n",
      "max vbar_north =  0.132 m/s        at  ( it, ilon)     =  (  4, 120)\n",
      "min vbar_north = -0.058 m/s        at  ( it, ilon)     =  (  6,   6)\n",
      "max vbar_south =  0.134 m/s        at  ( it, ilon)     =  (  3, 236)\n",
      "min vbar_south = -0.062 m/s        at  ( it, ilon)     =  (  6, 135)\n",
      "max vbar_west  =  0.038 m/s        at  ( it, ilat)     =  (  3,  10)\n",
      "min vbar_west  = -0.060 m/s        at  ( it, ilat)     =  (  6, 351)\n",
      "max u_north    =  0.143 m/s        at  ( it, iz, ilon) =  (  2,  32,   5)\n",
      "min u_north    = -0.330 m/s        at  ( it, iz, ilon) =  (  8,  39, 115)\n",
      "max u_south    =  0.247 m/s        at  ( it, iz, ilon) =  (  4,  33, 101)\n",
      "min u_south    = -0.452 m/s        at  ( it, iz, ilon) =  (  8,  39, 171)\n",
      "max u_west     =  0.343 m/s        at  ( it, iz, ilat) =  (  8,  35, 132)\n",
      "min u_west     = -0.443 m/s        at  ( it, iz, ilat) =  (  7,  39, 295)\n",
      "max v_north    =  0.421 m/s        at  ( it, iz, ilon) =  (  1,  33, 115)\n",
      "min v_north    = -0.513 m/s        at  ( it, iz, ilon) =  (  5,  39,   2)\n",
      "max v_south    =  0.444 m/s        at  ( it, iz, ilon) =  (  3,  33, 194)\n",
      "min v_south    = -0.448 m/s        at  ( it, iz, ilon) =  (  6,  39, 127)\n",
      "max v_west     =  0.265 m/s        at  ( it, iz, ilat) =  (  2,  34,  12)\n",
      "min v_west     = -0.629 m/s        at  ( it, iz, ilat) =  (  6,  39, 362)\n",
      "max temp_north = 18.088 C          at  ( it, iz, ilon) =  (  0,  39,  59)\n",
      "min temp_north =  1.083 C          at  ( it, iz, ilon) =  (  3,   0,   4)\n",
      "max temp_south = 21.617 C          at  ( it, iz, ilon) =  (  3,  39,  14)\n",
      "min temp_south =  1.124 C          at  ( it, iz, ilon) =  (  3,   0,   0)\n",
      "max temp_west  = 21.554 C          at  ( it, iz, ilat) =  (  8,  38,   6)\n",
      "min temp_west  =  1.072 C          at  ( it, iz, ilat) =  (  6,   0, 230)\n",
      "max salt_north = 34.708 psu        at  ( it, iz, ilon) =  (  0,   0,  22)\n",
      "min salt_north = 32.675 psu        at  ( it, iz, ilon) =  (  1,  29,  10)\n",
      "max salt_south = 34.708 psu        at  ( it, iz, ilon) =  (  6,   0,   0)\n",
      "min salt_south = 33.384 psu        at  ( it, iz, ilon) =  (  0,  25,  97)\n",
      "max salt_west  = 34.710 psu        at  ( it, iz, ilat) =  (  6,   0,  65)\n",
      "min salt_west  = 32.627 psu        at  ( it, iz, ilat) =  (  7,  29, 365)\n",
      "OCN BC nc data saved, correctly? 0 (0=yes)\n",
      "done makeing BC nc file.\n"
     ]
    }
   ],
   "source": [
    "print('going to save OCN_BC to a pickle file to:')\n",
    "t01 = datetime.now()\n",
    "t04 = datetime.now()\n",
    "ocnBC_pckl = PFM['lv1_forc_dir'] + '/' + PFM['lv1_ocnBC_tmp_pckl_file']\n",
    "print(ocnBC_pckl) \n",
    "os.chdir('../sdpm_py_util')\n",
    "cmd_list = ['python','-W','ignore','ocn_functions.py','ocnr_2_BCdict_1hrzeta_from_tmppkls',ocnBC_pckl]\n",
    "ret4 = subprocess.run(cmd_list)     \n",
    "os.chdir('../driver')\n",
    "print('OCN BC data saved with pickle, correctly? ' + str(ret4.returncode) + ' (0=yes)')\n",
    "    \n",
    "t02 = datetime.now()\n",
    "print('this took:')\n",
    "print(t02-t01)\n",
    "print('\\n')\n",
    "\n",
    "\n",
    "print('making BC nc file from pickled BC: '+ bc_file_out)\n",
    "t01 = datetime.now()\n",
    "cmd_list = ['python','-W','ignore','ocn_functions.py','ocn_roms_BC_dict_to_netcdf_pckl_1hrzeta',ocnBC_pckl,bc_file_out]\n",
    "os.chdir('../sdpm_py_util')\n",
    "ret5 = subprocess.run(cmd_list)     \n",
    "os.chdir('../driver')\n",
    "print('OCN BC nc data saved, correctly? ' + str(ret5.returncode) + ' (0=yes)')\n",
    "\n",
    "print('done makeing BC nc file.')\n",
    "\n"
   ]
  },
  {
   "cell_type": "code",
   "execution_count": 14,
   "metadata": {},
   "outputs": [
    {
     "name": "stdout",
     "output_type": "stream",
     "text": [
      "closed = False\n",
      "current_message = 0\n",
      "messages = 452\n",
      "mode = rb\n",
      "name = /scratch/PHM_Simulations/grb2_data/nam_218_20241201_0600_003.grb2\n",
      "size = 56385621\n",
      "\n",
      "\n",
      "printing apcp\n",
      "372:d=2024-12-01 06:00:00:APCP:Total Precipitation (kg m-2):surface:3:00:00\n",
      "2024-12-01 09:00:00 <class 'datetime.datetime'>\n",
      "3:00:00 <class 'datetime.timedelta'>\n",
      "\n",
      "printing tmp\n",
      "360:d=2024-12-01 06:00:00:TMP:Temperature (K):2 m above ground:3:00:00\n",
      "\n",
      "printing rh\n",
      "[95.15517 96.45516 96.05517 94.35516 94.65517 96.65517 98.05517 98.05517\n",
      " 96.85516 94.55517]\n",
      "\n",
      "printing pmsl\n",
      "0:d=2024-12-01 06:00:00:PRMSL:Pressure Reduced to MSL (Pa):mean sea level:3:00:00\n",
      "\n",
      "printing u10\n",
      "[Section 0: discipline = 0 - Meteorological Products\n",
      "Section 1: originatingCenter = 7 - US National Weather Service - NCEP (WMC)\n",
      "Section 1: originatingSubCenter = 0 - None\n",
      "Section 1: masterTableInfo = 2 - Version Implemented on 4 November 2003\n",
      "Section 1: localTableInfo = 1 - Number of local table version used.\n",
      "Section 1: significanceOfReferenceTime = 1 - Start of Forecast\n",
      "Section 1: year = 2024\n",
      "Section 1: month = 12\n",
      "Section 1: day = 1\n",
      "Section 1: hour = 6\n",
      "Section 1: minute = 0\n",
      "Section 1: second = 0\n",
      "Section 1: refDate = 2024-12-01 06:00:00\n",
      "Section 1: productionStatus = 0 - Operational Products\n",
      "Section 1: typeOfData = 1 - Forecast Products\n",
      "Section 3: sourceOfGridDefinition = 0 - Specified in Code Table 3.1\n",
      "Section 3: numberOfDataPoints = 262792\n",
      "Section 3: interpretationOfListOfNumbers = 0 - There is no appended list\n",
      "Section 3: gridDefinitionTemplateNumber = 30 - Lambert Conformal (Can be Secant, Tangent, Conical, or Bipolar)\n",
      "Section 3: shapeOfEarth = 6 - Earth assumed spherical with radius = 6,371,229.0 m\n",
      "Section 3: earthRadius = 6371229.0\n",
      "Section 3: earthMajorAxis = None\n",
      "Section 3: earthMinorAxis = None\n",
      "Section 3: resolutionAndComponentFlags = [0, 0, 1, 1, 1, 0, 0, 0]\n",
      "Section 3: ny = 428\n",
      "Section 3: nx = 614\n",
      "Section 3: scanModeFlags = [0, 1, 0, 0, 0, 0, 0, 0]\n",
      "Section 3: latitudeFirstGridpoint = 12.19\n",
      "Section 3: longitudeFirstGridpoint = 226.541\n",
      "Section 3: latitudeTrueScale = 25.0\n",
      "Section 3: gridOrientation = 265.0\n",
      "Section 3: gridlengthXDirection = 12191.0\n",
      "Section 3: gridlengthYDirection = 12191.0\n",
      "Section 3: projectionCenterFlag = 0\n",
      "Section 3: standardLatitude1 = 25.0\n",
      "Section 3: standardLatitude2 = 25.0\n",
      "Section 3: latitudeSouthernPole = -90.0\n",
      "Section 3: longitudeSouthernPole = 0.0\n",
      "Section 3: projParameters = {'a': 6371229.0, 'b': 6371229.0, 'proj': 'lcc', 'lat_1': 25.0, 'lat_2': 25.0, 'lat_0': 25.0, 'lon_0': 265.0}\n",
      "Section 4: typeOfFirstFixedSurface = 103 - ['Specified Height Level Above Ground', 'm']\n",
      "Section 4: scaleFactorOfFirstFixedSurface = 0\n",
      "Section 4: scaledValueOfFirstFixedSurface = 10\n",
      "Section 4: typeOfSecondFixedSurface = 255 - ['Missing', 'unknown']\n",
      "Section 4: scaleFactorOfSecondFixedSurface = 0\n",
      "Section 4: scaledValueOfSecondFixedSurface = 0\n",
      "Section 4: unitOfFirstFixedSurface = m\n",
      "Section 4: valueOfFirstFixedSurface = 10.0\n",
      "Section 4: unitOfSecondFixedSurface = None\n",
      "Section 4: valueOfSecondFixedSurface = 0.0\n",
      "Section 4: fullName = U-Component of Wind\n",
      "Section 4: units = m s-1\n",
      "Section 4: shortName = UGRD\n",
      "Section 4: leadTime = 3:00:00\n",
      "Section 4: duration = 0:00:00\n",
      "Section 4: validDate = 2024-12-01 09:00:00\n",
      "Section 4: level = 10 m above ground\n",
      "Section 4: parameterCategory = 2\n",
      "Section 4: parameterNumber = 2\n",
      "Section 4: typeOfGeneratingProcess = 2 - Forecast\n",
      "Section 4: generatingProcess = 84 - MESO NAM Model (currently 12 km)\n",
      "Section 4: backgroundGeneratingProcessIdentifier = 0\n",
      "Section 4: hoursAfterDataCutoff = 0\n",
      "Section 4: minutesAfterDataCutoff = 0\n",
      "Section 4: unitOfForecastTime = 1 - Hour\n",
      "Section 4: valueOfForecastTime = 3\n",
      "Section 5: dataRepresentationTemplateNumber = 3 - Grid Point Data - Complex Packing and Spatial Differencing (see Template 5.3)\n",
      "Section 5: numberOfPackedValues = 262792\n",
      "Section 5: typeOfValues = 0 - Floating Point\n",
      "Section 5: refValue = -2077.178466796875\n",
      "Section 5: binScaleFactor = 0\n",
      "Section 5: decScaleFactor = 2\n",
      "Section 5: nBitsPacking = 11\n",
      "Section 5: groupSplittingMethod = 1 - General Group Splitting\n",
      "Section 5: typeOfMissingValueManagement = 0 - No explicit missing values included within the data values\n",
      "Section 5: priMissingValue = None\n",
      "Section 5: secMissingValue = None\n",
      "Section 5: nGroups = 8404\n",
      "Section 5: refGroupWidth = 0\n",
      "Section 5: nBitsGroupWidth = 4\n",
      "Section 5: refGroupLength = 1\n",
      "Section 5: groupLengthIncrement = 1\n",
      "Section 5: lengthOfLastGroup = 9\n",
      "Section 5: nBitsScaledGroupLength = 7\n",
      "Section 5: spatialDifferenceOrder = 2 - Second-Order Spatial Differencing\n",
      "Section 5: nBytesSpatialDifference = 2\n",
      "Section 6: bitMapFlag = 255 - A bit map does not apply to this product.\n",
      "]\n"
     ]
    }
   ],
   "source": [
    "import grib2io\n",
    "\n",
    "#grb2_in = \"https://www.ncei.noaa.gov/data/north-american-mesoscale-model/access/analysis/202412/20241231/nam_218_20241231_0000_000.grb2\" \n",
    "#grb2_in = \"https://www.ncei.noaa.gov/thredds/catalog/model-namanl/202412/20241231/nam_218_20241231_0000_000.grb2\"\n",
    "grb2_out = \"/scratch/PHM_Simulations/grb2_data/nam_218_20241201_0600_003.grb2\"\n",
    "\n",
    "\n",
    "#ds = xr.open_dataset(grb2_out, engine='cfgrib')\n",
    "\n",
    "#with open(grb2_out, 'rb') as f:\n",
    "#    grbs = grib2io.open(f)\n",
    "\n",
    "g = grib2io.open(grb2_out)\n",
    "\n",
    "print(g)\n",
    "\n",
    "#strt = 0\n",
    "#g.seek(strt)\n",
    "#print('GRIB2 file poistion: ',g.tell())\n",
    "#msgs = g.read(500)\n",
    "#print('Number of messages read: ',len(msgs))\n",
    "#for msg in msgs:\n",
    "#    print(msg)\n",
    "\n",
    "#for a in np.arange(0,1):\n",
    "#print(g['LWRAD'])\n",
    "\n",
    "# the variables and levels we need\n",
    "vars=['PRMSL','RH','TMP','UGRD','VGRD','APCP','DSWRF','USWRF','DLWRF','ULWRF']\n",
    "lev =['mean sea level','2 m above ground','2 m above ground','10 m above ground','10 m above ground','surface','surface','surface','surface','surface']\n",
    "\n",
    "apcp = g.select(shortName='APCP',level='surface')[0]\n",
    "print('\\nprinting apcp')\n",
    "#print(g.select(shortName='APCP',level='surface'))\n",
    "print(apcp)\n",
    "print(apcp.validDate,type(apcp.validDate))\n",
    "print(apcp.duration,type(apcp.duration))\n",
    "# note, this is not a regular grid. It is on the native grid.\n",
    "\n",
    "#print(lats[:,0])\n",
    "#print(lons[0,:])\n",
    "\n",
    "tmp = g.select(shortName='TMP',level='2 m above ground')[0]\n",
    "print('\\nprinting tmp')\n",
    "print(tmp)\n",
    "\n",
    "lats, lons = tmp.grid()\n",
    "\n",
    "rh = g.select(shortName='RH',level='2 m above ground')[0]\n",
    "print('\\nprinting rh')\n",
    "print(rh.data[0:10,0])\n",
    "\n",
    "\n",
    "pmsl = g.select(shortName='PRMSL',level='mean sea level')[0]\n",
    "print('\\nprinting pmsl')\n",
    "print(pmsl)\n",
    "u10 = g.select(shortName='UGRD',level='10 m above ground')\n",
    "print('\\nprinting u10')\n",
    "print(u10)\n",
    "#pmsl = g.select(shortName=vars[0])[0]\n",
    "#print(pmsl)\n",
    "#pmsl_data = pmsl.data\n",
    "#print(pmsl_data[0:10,0:10])"
   ]
  },
  {
   "cell_type": "code",
   "execution_count": 81,
   "metadata": {},
   "outputs": [
    {
     "data": {
      "image/png": "[encoded data removed]",
      "text/plain": [
       "<Figure size 640x480 with 1 Axes>"
      ]
     },
     "metadata": {},
     "output_type": "display_data"
    },
    {
     "data": {
      "image/png": "[encoded data removed]",
      "text/plain": [
       "<Figure size 640x480 with 1 Axes>"
      ]
     },
     "metadata": {},
     "output_type": "display_data"
    }
   ],
   "source": [
    "fng = '/scratch/PFM_Simulations/Grids/GRID_SDTJRE_LV1_rx020_hmask.nc'\n",
    "RMG = grdfuns.roms_grid_to_dict(fng)\n",
    "\n",
    "fig, ax = plt.subplots()\n",
    "\n",
    "y1=lats[:,0]\n",
    "x1=lons[:,0]\n",
    "y2=lats[:,-1]\n",
    "x2=lons[:,-1]\n",
    "y3=lats[0,:]\n",
    "x3=lons[0,:]\n",
    "y4=lats[-1,:]\n",
    "x4=lons[-1,:]\n",
    "\n",
    "lt_mn = 118\n",
    "lt_mx = 191\n",
    "ln_mn = 129\n",
    "ln_mx = 185\n",
    "lons2 = lons[lt_mn:lt_mx,ln_mn:ln_mx]\n",
    "lats2 = lats[lt_mn:lt_mx,ln_mn:ln_mx]\n",
    "\n",
    "p1=ax.plot(x1,y1)\n",
    "p1=ax.plot(x2,y2)\n",
    "p1=ax.plot(x3,y3)\n",
    "p1=ax.plot(x4,y4)\n",
    "p1=ax.plot(RMG['lon_rho'][0,:],RMG['lat_rho'][0,:],'k')\n",
    "p1=ax.plot(RMG['lon_rho'][-1,:],RMG['lat_rho'][-1,:],'k')\n",
    "p1=ax.plot(RMG['lon_rho'][:,0],RMG['lat_rho'][:,0],'k')\n",
    "p1=ax.plot(RMG['lon_rho'][:,-1],RMG['lat_rho'][:,-1],'k')\n",
    "\n",
    "p1=ax.plot(lons2[0,:],lats2[0,:],'r')\n",
    "p1=ax.plot(lons2[-1,:],lats2[-1,:],'r')\n",
    "p1=ax.plot(lons2[:,0],lats2[:,0],'r')\n",
    "p1=ax.plot(lons2[:,-1],lats2[:,-1],'r')\n",
    "\n",
    "fig, ax = plt.subplots()\n",
    "p1=ax.plot(RMG['lon_rho'][0,:],RMG['lat_rho'][0,:],'k')\n",
    "p1=ax.plot(RMG['lon_rho'][-1,:],RMG['lat_rho'][-1,:],'k')\n",
    "p1=ax.plot(RMG['lon_rho'][:,0],RMG['lat_rho'][:,0],'k')\n",
    "p1=ax.plot(RMG['lon_rho'][:,-1],RMG['lat_rho'][:,-1],'k')\n",
    "\n",
    "p1=ax.plot(lons2[0,:],lats2[0,:],'r')\n",
    "p1=ax.plot(lons2[-1,:],lats2[-1,:],'r')\n",
    "p1=ax.plot(lons2[:,0],lats2[:,0],'r')\n",
    "p1=ax.plot(lons2[:,-1],lats2[:,-1],'r')\n",
    "\n"
   ]
  },
  {
   "cell_type": "code",
   "execution_count": 20,
   "metadata": {},
   "outputs": [
    {
     "name": "stdout",
     "output_type": "stream",
     "text": [
      "0 0\n",
      "[['wget', '-q', '-O', '/scratch/PHM_Simulations/grb2_data/nam_218_20241201_0000_000.grb2', 'https://www.ncei.noaa.gov/data/north-american-mesoscale-model/access/analysis/202412/20241201/nam_218_20241201_0000_000.grb2'], ['wget', '-q', '-O', '/scratch/PHM_Simulations/grb2_data/nam_218_20241201_0000_003.grb2', 'https://www.ncei.noaa.gov/data/north-american-mesoscale-model/access/analysis/202412/20241201/nam_218_20241201_0000_003.grb2'], ['wget', '-q', '-O', '/scratch/PHM_Simulations/grb2_data/nam_218_20241201_0600_000.grb2', 'https://www.ncei.noaa.gov/data/north-american-mesoscale-model/access/analysis/202412/20241201/nam_218_20241201_0600_000.grb2'], ['wget', '-q', '-O', '/scratch/PHM_Simulations/grb2_data/nam_218_20241201_0600_003.grb2', 'https://www.ncei.noaa.gov/data/north-american-mesoscale-model/access/analysis/202412/20241201/nam_218_20241201_0600_003.grb2'], ['wget', '-q', '-O', '/scratch/PHM_Simulations/grb2_data/nam_218_20241201_1200_000.grb2', 'https://www.ncei.noaa.gov/data/north-american-mesoscale-model/access/analysis/202412/20241201/nam_218_20241201_1200_000.grb2'], ['wget', '-q', '-O', '/scratch/PHM_Simulations/grb2_data/nam_218_20241201_1200_003.grb2', 'https://www.ncei.noaa.gov/data/north-american-mesoscale-model/access/analysis/202412/20241201/nam_218_20241201_1200_003.grb2'], ['wget', '-q', '-O', '/scratch/PHM_Simulations/grb2_data/nam_218_20241201_1800_000.grb2', 'https://www.ncei.noaa.gov/data/north-american-mesoscale-model/access/analysis/202412/20241201/nam_218_20241201_1800_000.grb2'], ['wget', '-q', '-O', '/scratch/PHM_Simulations/grb2_data/nam_218_20241201_1800_003.grb2', 'https://www.ncei.noaa.gov/data/north-american-mesoscale-model/access/analysis/202412/20241201/nam_218_20241201_1800_003.grb2'], ['wget', '-q', '-O', '/scratch/PHM_Simulations/grb2_data/nam_218_20241202_0000_000.grb2', 'https://www.ncei.noaa.gov/data/north-american-mesoscale-model/access/analysis/202412/20241202/nam_218_20241202_0000_000.grb2']]\n",
      "['/scratch/PHM_Simulations/grb2_data/nam_218_20241201_0000_000.pckl', '/scratch/PHM_Simulations/grb2_data/nam_218_20241201_0000_003.pckl', '/scratch/PHM_Simulations/grb2_data/nam_218_20241201_0600_000.pckl', '/scratch/PHM_Simulations/grb2_data/nam_218_20241201_0600_003.pckl', '/scratch/PHM_Simulations/grb2_data/nam_218_20241201_1200_000.pckl', '/scratch/PHM_Simulations/grb2_data/nam_218_20241201_1200_003.pckl', '/scratch/PHM_Simulations/grb2_data/nam_218_20241201_1800_000.pckl', '/scratch/PHM_Simulations/grb2_data/nam_218_20241201_1800_003.pckl', '/scratch/PHM_Simulations/grb2_data/nam_218_20241202_0000_000.pckl']\n"
     ]
    }
   ],
   "source": [
    "#tnow = datetime.now()\n",
    "#hr = tnow.hour\n",
    "\n",
    "hr = 24\n",
    "hr = hr % 24\n",
    "hr2 = hr % 6\n",
    "hr1 = hr-hr2\n",
    "\n",
    "print(hr1,hr2)\n",
    "\n",
    "t1str = '2024120100'\n",
    "t2str = '2024120200'\n",
    "l1,l2,l3,l4 = hindfuns.get_nam_hindcast_filelists(t1str,t2str)\n",
    "print(l3)\n",
    "print(l4)\n",
    "\n",
    "#res2 = hindfuns.get_nam_hindcast_grb2s(t1str,t2str)\n"
   ]
  },
  {
   "cell_type": "code",
   "execution_count": 19,
   "metadata": {},
   "outputs": [
    {
     "name": "stdout",
     "output_type": "stream",
     "text": [
      "9519.61517401456\n"
     ]
    },
    {
     "ename": "AttributeError",
     "evalue": "'float' object has no attribute 'total_days'",
     "output_type": "error",
     "traceback": [
      "\u001b[0;31m---------------------------------------------------------------------------\u001b[0m",
      "\u001b[0;31mAttributeError\u001b[0m                            Traceback (most recent call last)",
      "Cell \u001b[0;32mIn[19], line 6\u001b[0m\n\u001b[1;32m      4\u001b[0m dys \u001b[38;5;241m=\u001b[39m Dt\u001b[38;5;241m.\u001b[39mtotal_seconds() \u001b[38;5;241m/\u001b[39m (\u001b[38;5;241m24.0\u001b[39m\u001b[38;5;241m*\u001b[39m\u001b[38;5;241m3600.0\u001b[39m)\n\u001b[1;32m      5\u001b[0m \u001b[38;5;28mprint\u001b[39m(dys)\n\u001b[0;32m----> 6\u001b[0m \u001b[38;5;28mprint\u001b[39m(dys\u001b[38;5;241m.\u001b[39mtotal_days())\n",
      "\u001b[0;31mAttributeError\u001b[0m: 'float' object has no attribute 'total_days'"
     ]
    }
   ],
   "source": [
    "tnow = datetime.now()\n",
    "tref = datetime.strptime('19990101','%Y%m%d')\n",
    "Dt = tnow - tref\n",
    "dys = Dt.total_seconds() / (24.0*3600.0)\n",
    "print(dys)\n"
   ]
  },
  {
   "cell_type": "code",
   "execution_count": 2,
   "metadata": {},
   "outputs": [
    {
     "name": "stdout",
     "output_type": "stream",
     "text": [
      "ATM grb2 file /scratch/PHM_Simulations/grb2_data/nam_218_20241201_0000_000.grb2 saved to pickle.\n"
     ]
    }
   ],
   "source": [
    "fn_in = '/scratch/PHM_Simulations/grb2_data/nam_218_20241201_0000_000.grb2'\n",
    "fn_out = '/scratch/PHM_Simulations/grb2_data/nam_218_20241201_0000_000.pckl'\n",
    "hindfuns.grb2_to_pickle(fn_in,fn_out)"
   ]
  }
 ],
 "metadata": {
  "kernelspec": {
   "display_name": "base",
   "language": "python",
   "name": "python3"
  },
  "language_info": {
   "codemirror_mode": {
    "name": "ipython",
    "version": 3
   },
   "file_extension": ".py",
   "mimetype": "text/x-python",
   "name": "python",
   "nbconvert_exporter": "python",
   "pygments_lexer": "ipython3",
   "version": "3.12.2"
  }
 },
 "nbformat": 4,
 "nbformat_minor": 2
}
